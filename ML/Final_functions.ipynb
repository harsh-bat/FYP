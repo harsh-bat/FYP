{
  "nbformat": 4,
  "nbformat_minor": 0,
  "metadata": {
    "colab": {
      "name": "FYP functions.ipynb",
      "provenance": [],
      "collapsed_sections": []
    },
    "kernelspec": {
      "name": "python3",
      "display_name": "Python 3"
    }
  },
  "cells": [
    {
      "cell_type": "code",
      "metadata": {
        "id": "5tpQkMt0W69T",
        "colab_type": "code",
        "colab": {}
      },
      "source": [
        "import numpy as np\n",
        "from tensorflow.keras.preprocessing.text import Tokenizer\n",
        "from tensorflow.keras.preprocessing.sequence import pad_sequences\n",
        "from tensorflow.keras.models import load_model\n",
        "import pickle\n",
        "model = load_model('/content/drive/My Drive/ColabNotebooks/FYP Try/model25epo.h5')\n",
        "tokenizer = None\n",
        "with open('/content/drive/My Drive/ColabNotebooks/FYP Try/tokenizer.pickle', 'rb') as handle:\n",
        "    tokenizer = pickle.load(handle)"
      ],
      "execution_count": null,
      "outputs": []
    },
    {
      "cell_type": "code",
      "metadata": {
        "id": "T3nvF8c3Xlp6",
        "colab_type": "code",
        "colab": {}
      },
      "source": [
        "test_string = \"Trump has an excuse now to audit any vote with these machines , trust the UN to be involved .  He neds them to take a photo of their vote with phones , and be onto the polling booths for the bus loads of illegal voters going from booth to booth , he can bust this whole scam wide open if he is smart . Soros gave 10 million to Clinton , this must be ilegal surely.\""
      ],
      "execution_count": null,
      "outputs": []
    },
    {
      "cell_type": "code",
      "metadata": {
        "id": "ltmM0W2Obwxr",
        "colab_type": "code",
        "colab": {
          "base_uri": "https://localhost:8080/",
          "height": 34
        },
        "outputId": "92f6fa72-5f70-4905-affb-0d77878fe657"
      },
      "source": [
        "int(np.round(model.predict(pad_sequences(tokenizer.texts_to_sequences([test_string]), maxlen=29286)))[0,0])"
      ],
      "execution_count": null,
      "outputs": [
        {
          "output_type": "execute_result",
          "data": {
            "text/plain": [
              "1"
            ]
          },
          "metadata": {
            "tags": []
          },
          "execution_count": 6
        }
      ]
    },
    {
      "cell_type": "code",
      "metadata": {
        "id": "gfCK7qUUgcOa",
        "colab_type": "code",
        "colab": {}
      },
      "source": [
        ""
      ],
      "execution_count": null,
      "outputs": []
    }
  ]
}