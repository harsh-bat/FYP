{
 "cells": [
  {
   "cell_type": "code",
   "execution_count": 1,
   "metadata": {},
   "outputs": [],
   "source": [
    "import pandas as pd\n",
    "from collections import Counter\n",
    "import re\n",
    "import numpy as np\n",
    "from sklearn.utils import shuffle\n",
    "from sklearn.feature_extraction.stop_words import ENGLISH_STOP_WORDS"
   ]
  },
  {
   "cell_type": "code",
   "execution_count": 2,
   "metadata": {},
   "outputs": [],
   "source": [
    "import gensim\n",
    "from nltk.tokenize import word_tokenize\n",
    "from nltk.corpus import stopwords"
   ]
  },
  {
   "cell_type": "code",
   "execution_count": 11,
   "metadata": {},
   "outputs": [],
   "source": [
    "stop_words = set(stopwords.words('english'))\n",
    "words = None"
   ]
  },
  {
   "cell_type": "code",
   "execution_count": 5,
   "metadata": {},
   "outputs": [],
   "source": [
    "gmodel = gensim.models.KeyedVectors.load_word2vec_format('GoogleNews-vectors-negative300.bin', binary = True) "
   ]
  },
  {
   "cell_type": "code",
   "execution_count": 18,
   "metadata": {},
   "outputs": [],
   "source": [
    "def vectCalc(text):\n",
    "    a = [word.lower() for word in word_tokenize(text) if word.isalpha()]\n",
    "    b = np.array([gmodel[w] for w in a if w in gmodel and w not in stop_words])\n",
    "    if len(b)>0:\n",
    "        return np.mean(b, axis=0)\n",
    "    else:\n",
    "        return np.zeros(300)"
   ]
  },
  {
   "cell_type": "code",
   "execution_count": 25,
   "metadata": {},
   "outputs": [
    {
     "data": {
      "text/plain": [
       "array([-0.05388641,  0.05862427,  0.05603027,  0.01513672, -0.12280273,\n",
       "        0.14785767,  0.00091553,  0.07873535,  0.11413574,  0.03689575,\n",
       "       -0.08269119, -0.23144531, -0.12390137,  0.13305664, -0.24523926,\n",
       "        0.06469727, -0.07342529, -0.10198975,  0.01049805, -0.19799805,\n",
       "        0.00479126, -0.03260803,  0.09332275, -0.04241943,  0.07861328,\n",
       "       -0.00302124, -0.06274414,  0.0579834 ,  0.07427979, -0.05932617,\n",
       "        0.00640869, -0.02441406,  0.09106445, -0.0793457 , -0.11987305,\n",
       "        0.03207397,  0.01049805, -0.03356934,  0.19360352,  0.03198242,\n",
       "        0.07540894,  0.01025391,  0.06018066,  0.05883789, -0.0509491 ,\n",
       "        0.02683258,  0.00343513, -0.03076172,  0.05432129,  0.0725708 ,\n",
       "       -0.03356934,  0.10125732, -0.03591919, -0.03124237,  0.09735107,\n",
       "        0.11160278, -0.0222168 , -0.20800781,  0.03009033, -0.11071777,\n",
       "       -0.03536987,  0.13574219,  0.04980469, -0.02215576, -0.02602386,\n",
       "       -0.00415039, -0.05395508,  0.07437134, -0.06024933, -0.03504944,\n",
       "        0.03869629,  0.22302246, -0.06200409, -0.00738525, -0.07452393,\n",
       "       -0.1177063 ,  0.04080963, -0.01245117,  0.0664978 , -0.14364624,\n",
       "       -0.09924316, -0.0090332 ,  0.15786743, -0.12127686, -0.06176758,\n",
       "        0.00915527, -0.04327393,  0.13842773,  0.03790283,  0.05957031,\n",
       "        0.06726074, -0.06551743, -0.06695557,  0.04659271, -0.0012207 ,\n",
       "       -0.00405884,  0.02111816, -0.02844238,  0.09838867, -0.06158447,\n",
       "       -0.2055664 , -0.01228333,  0.17175293, -0.11096191,  0.0715332 ,\n",
       "        0.09204102, -0.03234863,  0.17938232, -0.04406738, -0.1305542 ,\n",
       "       -0.1762085 , -0.17480469, -0.05517578, -0.08056641, -0.01026917,\n",
       "        0.07465935,  0.02294922, -0.01877594,  0.01757812, -0.00724792,\n",
       "       -0.22363281, -0.05462646, -0.07971191, -0.06488037,  0.07299805,\n",
       "       -0.16687012,  0.05004883, -0.00765228, -0.01330566, -0.00906372,\n",
       "       -0.17529297, -0.22094727,  0.08047485,  0.01123047, -0.10455322,\n",
       "        0.02758789,  0.01849365, -0.03756523,  0.03100586, -0.08612061,\n",
       "       -0.00805664,  0.08457947, -0.12878418, -0.08148193, -0.06781006,\n",
       "        0.01300049, -0.02728271, -0.14820862, -0.02600098, -0.05670166,\n",
       "        0.24389648, -0.04608154, -0.08813477, -0.01441956,  0.00723267,\n",
       "       -0.09216309, -0.06097412, -0.02160645,  0.03631592,  0.13360596,\n",
       "       -0.06286621,  0.10122681,  0.00732422,  0.03469849, -0.07495117,\n",
       "       -0.02162933,  0.07867432, -0.06335449, -0.04772949,  0.14672852,\n",
       "       -0.0168457 , -0.01940918,  0.10458374,  0.04101562, -0.05374146,\n",
       "       -0.06848145,  0.0652771 , -0.099823  , -0.09835815, -0.08569336,\n",
       "        0.0489502 , -0.07437134, -0.02233887, -0.15844727,  0.06634521,\n",
       "       -0.10998535, -0.07354736,  0.03181934, -0.05625916,  0.06665039,\n",
       "       -0.00073242,  0.1293335 ,  0.02197266,  0.01179504,  0.13179016,\n",
       "        0.2545166 , -0.09533691, -0.12106323,  0.06729698, -0.01083374,\n",
       "       -0.13623047,  0.01716614,  0.01983643, -0.02430725, -0.07922363,\n",
       "       -0.05853271,  0.02416992, -0.01647949, -0.11755371,  0.13806152,\n",
       "        0.10961914,  0.06002808, -0.02514648,  0.14355469,  0.05395508,\n",
       "        0.20446777,  0.13604736,  0.00720215, -0.14814758, -0.06406403,\n",
       "       -0.09619141,  0.03833771, -0.09436035,  0.16357422,  0.09606934,\n",
       "       -0.08056641,  0.13989258,  0.11358643,  0.03413391, -0.15911865,\n",
       "        0.03510284, -0.05578613, -0.12826538,  0.13134766,  0.00726318,\n",
       "       -0.07606506,  0.13378906, -0.00079346,  0.05892944,  0.10699463,\n",
       "        0.11712646,  0.02737427, -0.07910156,  0.04800415, -0.05493164,\n",
       "        0.00512695, -0.0831604 ,  0.13891602,  0.15063477, -0.08959961,\n",
       "       -0.00701904,  0.03277588,  0.09204102,  0.02282715,  0.134552  ,\n",
       "       -0.08557129,  0.05578613, -0.03083038, -0.0379734 , -0.08184814,\n",
       "        0.07794189,  0.07592773,  0.00141907,  0.01171875,  0.0667572 ,\n",
       "        0.05480957, -0.09844971, -0.03366089, -0.04464722, -0.04934692,\n",
       "        0.07409668,  0.1274414 ,  0.0559845 , -0.01196289,  0.05569458,\n",
       "       -0.17102051, -0.13562012,  0.10766602, -0.09939575,  0.02270508,\n",
       "       -0.19238281,  0.06872559, -0.03991699,  0.15917969, -0.09651184,\n",
       "       -0.10406494, -0.01171875, -0.02056885,  0.02548218, -0.09210205,\n",
       "       -0.02206421,  0.09545898,  0.02429199,  0.19812012, -0.03625488,\n",
       "       -0.09777832,  0.05842495, -0.08563232, -0.07623291,  0.05267334],\n",
       "      dtype=float32)"
      ]
     },
     "execution_count": 25,
     "metadata": {},
     "output_type": "execute_result"
    }
   ],
   "source": [
    "vectCalc(\"BREAKING Weiner Cooperating FBI\")"
   ]
  },
  {
   "cell_type": "code",
   "execution_count": 28,
   "metadata": {},
   "outputs": [
    {
     "name": "stderr",
     "output_type": "stream",
     "text": [
      "Using TensorFlow backend.\n"
     ]
    }
   ],
   "source": [
    "from keras.models import model_from_json"
   ]
  },
  {
   "cell_type": "code",
   "execution_count": null,
   "metadata": {},
   "outputs": [
    {
     "name": "stdout",
     "output_type": "stream",
     "text": [
      "WARNING:tensorflow:From /home/bat/anaconda3/lib/python3.7/site-packages/keras/backend/tensorflow_backend.py:517: The name tf.placeholder is deprecated. Please use tf.compat.v1.placeholder instead.\n",
      "\n",
      "WARNING:tensorflow:From /home/bat/anaconda3/lib/python3.7/site-packages/keras/backend/tensorflow_backend.py:4115: The name tf.random_normal is deprecated. Please use tf.random.normal instead.\n",
      "\n",
      "WARNING:tensorflow:From /home/bat/anaconda3/lib/python3.7/site-packages/keras/backend/tensorflow_backend.py:174: The name tf.get_default_session is deprecated. Please use tf.compat.v1.get_default_session instead.\n",
      "\n",
      "WARNING:tensorflow:From /home/bat/anaconda3/lib/python3.7/site-packages/keras/backend/tensorflow_backend.py:181: The name tf.ConfigProto is deprecated. Please use tf.compat.v1.ConfigProto instead.\n",
      "\n",
      "WARNING:tensorflow:From /home/bat/anaconda3/lib/python3.7/site-packages/keras/backend/tensorflow_backend.py:186: The name tf.Session is deprecated. Please use tf.compat.v1.Session instead.\n",
      "\n"
     ]
    }
   ],
   "source": [
    "json_headline_file = open('headlineModel.json', 'r')\n",
    "loaded_headline_model_json = json_headline_file.read()\n",
    "json_headline_file.close()\n",
    "loaded_headline_model = model_from_json(loaded_headline_model_json)\n",
    "loaded_headline_model.load_weights(\"headlineModel.h5\")\n",
    "\n",
    "json_body_file = open('bodyModel.json', 'r')\n",
    "loaded_body_model_json = json_body_file.read()\n",
    "json_body_file.close()\n",
    "loaded_body_model = model_from_json(loaded_body_model_json)\n",
    "loaded_body_model.load_weights(\"bodyModel.h5\")"
   ]
  },
  {
   "cell_type": "code",
   "execution_count": null,
   "metadata": {},
   "outputs": [],
   "source": []
  }
 ],
 "metadata": {
  "kernelspec": {
   "display_name": "Python 3",
   "language": "python",
   "name": "python3"
  },
  "language_info": {
   "codemirror_mode": {
    "name": "ipython",
    "version": 3
   },
   "file_extension": ".py",
   "mimetype": "text/x-python",
   "name": "python",
   "nbconvert_exporter": "python",
   "pygments_lexer": "ipython3",
   "version": "3.7.3"
  }
 },
 "nbformat": 4,
 "nbformat_minor": 2
}
