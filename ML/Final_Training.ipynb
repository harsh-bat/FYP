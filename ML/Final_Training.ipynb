{
  "nbformat": 4,
  "nbformat_minor": 0,
  "metadata": {
    "colab": {
      "name": "FYP Training.ipynb",
      "provenance": [],
      "collapsed_sections": []
    },
    "kernelspec": {
      "name": "python3",
      "display_name": "Python 3"
    },
    "accelerator": "GPU"
  },
  "cells": [
    {
      "cell_type": "code",
      "metadata": {
        "id": "vCuH-BcR5tR-",
        "colab_type": "code",
        "colab": {}
      },
      "source": [
        "import numpy as np\n",
        "import pandas as pd\n",
        "import matplotlib.pyplot as plt\n",
        "from sklearn.model_selection import train_test_split\n",
        "from nltk.corpus import stopwords\n",
        "from nltk.tokenize import word_tokenize \n",
        "\n",
        "from tensorflow.keras.preprocessing.text import Tokenizer\n",
        "from tensorflow.keras.preprocessing.sequence import pad_sequences\n",
        "from tensorflow.keras.layers import Dense, Input, GlobalMaxPooling1D, LSTM, Embedding \n",
        "from tensorflow.keras.models import Model\n",
        "import pickle"
      ],
      "execution_count": null,
      "outputs": []
    },
    {
      "cell_type": "code",
      "metadata": {
        "id": "vDCFZ-vR5xAt",
        "colab_type": "code",
        "colab": {}
      },
      "source": [
        "cleandata = pd.read_csv('/content/drive/My Drive/ColabNotebooks/FYP Try/new_clean_content.csv')"
      ],
      "execution_count": null,
      "outputs": []
    },
    {
      "cell_type": "code",
      "metadata": {
        "id": "V8uQApGT6DbI",
        "colab_type": "code",
        "colab": {}
      },
      "source": [
        "df_train, df_test, Ytrain, Ytest = train_test_split(cleandata['clean content'], cleandata['label'], test_size=0.33)"
      ],
      "execution_count": null,
      "outputs": []
    },
    {
      "cell_type": "code",
      "metadata": {
        "id": "1VEFbZ5o6Je8",
        "colab_type": "code",
        "colab": {}
      },
      "source": [
        "T = 29286"
      ],
      "execution_count": null,
      "outputs": []
    },
    {
      "cell_type": "code",
      "metadata": {
        "id": "0UuWtiaH6NNG",
        "colab_type": "code",
        "colab": {}
      },
      "source": [
        "tokenizer = None\n",
        "with open('/content/drive/My Drive/ColabNotebooks/FYP Try/tokenizer.pickle', 'rb') as handle:\n",
        "    tokenizer = pickle.load(handle)"
      ],
      "execution_count": null,
      "outputs": []
    },
    {
      "cell_type": "code",
      "metadata": {
        "id": "S7ek8xW56Vwj",
        "colab_type": "code",
        "colab": {
          "base_uri": "https://localhost:8080/",
          "height": 34
        },
        "outputId": "9cbc18e2-fdf7-4aba-ae6a-dc01036a5919"
      },
      "source": [
        "len(tokenizer.word_index)"
      ],
      "execution_count": null,
      "outputs": [
        {
          "output_type": "execute_result",
          "data": {
            "text/plain": [
              "155673"
            ]
          },
          "metadata": {
            "tags": []
          },
          "execution_count": 8
        }
      ]
    },
    {
      "cell_type": "code",
      "metadata": {
        "id": "MY7rcFSY6kSW",
        "colab_type": "code",
        "colab": {}
      },
      "source": [
        "V = len(tokenizer.word_index)+1"
      ],
      "execution_count": null,
      "outputs": []
    },
    {
      "cell_type": "code",
      "metadata": {
        "id": "Ncl0rDAX6rtQ",
        "colab_type": "code",
        "colab": {}
      },
      "source": [
        "sequences_train = tokenizer.texts_to_sequences(df_train)\n",
        "sequences_test = tokenizer.texts_to_sequences(df_test)"
      ],
      "execution_count": null,
      "outputs": []
    },
    {
      "cell_type": "code",
      "metadata": {
        "id": "W769P8-K6yNF",
        "colab_type": "code",
        "colab": {}
      },
      "source": [
        "data_train = pad_sequences(sequences_train)"
      ],
      "execution_count": null,
      "outputs": []
    },
    {
      "cell_type": "code",
      "metadata": {
        "id": "7yJtvf3J7BVw",
        "colab_type": "code",
        "colab": {
          "base_uri": "https://localhost:8080/",
          "height": 34
        },
        "outputId": "d08de318-eaed-4fac-b81f-68c1f94b7016"
      },
      "source": [
        "T = data_train.shape[1]\n",
        "T"
      ],
      "execution_count": null,
      "outputs": [
        {
          "output_type": "execute_result",
          "data": {
            "text/plain": [
              "29286"
            ]
          },
          "metadata": {
            "tags": []
          },
          "execution_count": 13
        }
      ]
    },
    {
      "cell_type": "code",
      "metadata": {
        "id": "qpd6Eey97CxN",
        "colab_type": "code",
        "colab": {}
      },
      "source": [
        "data_test = pad_sequences(sequences_test, maxlen=T)"
      ],
      "execution_count": null,
      "outputs": []
    },
    {
      "cell_type": "code",
      "metadata": {
        "id": "mGVYISMl7EWM",
        "colab_type": "code",
        "colab": {}
      },
      "source": [
        "embedding_matrix = np.load('/content/drive/My Drive/ColabNotebooks/FYP Try/embmat.npy')"
      ],
      "execution_count": null,
      "outputs": []
    },
    {
      "cell_type": "code",
      "metadata": {
        "id": "Gbe2cQ9l7YMG",
        "colab_type": "code",
        "colab": {
          "base_uri": "https://localhost:8080/",
          "height": 34
        },
        "outputId": "08f7ebc1-7a6d-4a2a-9c03-0c2049b8fca6"
      },
      "source": [
        "embedding_matrix.shape"
      ],
      "execution_count": null,
      "outputs": [
        {
          "output_type": "execute_result",
          "data": {
            "text/plain": [
              "(155674, 300)"
            ]
          },
          "metadata": {
            "tags": []
          },
          "execution_count": 16
        }
      ]
    },
    {
      "cell_type": "code",
      "metadata": {
        "id": "WERDj44W7bH4",
        "colab_type": "code",
        "colab": {}
      },
      "source": [
        "M = 10\n",
        "\n",
        "\n",
        "i = Input(shape=(T,))\n",
        "x = Embedding(V, 300, weights=[embedding_matrix], trainable=False)(i)\n",
        "\n",
        "# Now we have N x T x D\n",
        "\n",
        "x = LSTM(M, return_sequences=True)(x)\n",
        "x = GlobalMaxPooling1D()(x)\n",
        "x = Dense(1, activation='sigmoid')(x)\n",
        "\n",
        "model = Model(i, x)"
      ],
      "execution_count": null,
      "outputs": []
    },
    {
      "cell_type": "code",
      "metadata": {
        "id": "yhacuv7y7gdh",
        "colab_type": "code",
        "colab": {}
      },
      "source": [
        "model.compile(\n",
        "    optimizer='adam',\n",
        "    loss = 'binary_crossentropy',\n",
        "    metrics = ['accuracy']\n",
        ")"
      ],
      "execution_count": null,
      "outputs": []
    },
    {
      "cell_type": "code",
      "metadata": {
        "id": "lIC_Q4pI7ikZ",
        "colab_type": "code",
        "colab": {
          "base_uri": "https://localhost:8080/",
          "height": 353
        },
        "outputId": "14455025-9347-4a4f-a68c-848bc6465b47"
      },
      "source": [
        "r = model.fit(\n",
        "  data_train,\n",
        "  Ytrain,\n",
        "  epochs=10,\n",
        "  validation_data=(data_test, Ytest),\n",
        "  batch_size=50\n",
        ")"
      ],
      "execution_count": null,
      "outputs": [
        {
          "output_type": "stream",
          "text": [
            "Epoch 1/10\n",
            "374/374 [==============================] - 584s 2s/step - loss: 0.5617 - accuracy: 0.7108 - val_loss: 0.4393 - val_accuracy: 0.8180\n",
            "Epoch 2/10\n",
            "374/374 [==============================] - 578s 2s/step - loss: 0.3922 - accuracy: 0.8391 - val_loss: 0.3857 - val_accuracy: 0.8247\n",
            "Epoch 3/10\n",
            "374/374 [==============================] - 577s 2s/step - loss: 0.3645 - accuracy: 0.8539 - val_loss: 0.3709 - val_accuracy: 0.8453\n",
            "Epoch 4/10\n",
            "374/374 [==============================] - 569s 2s/step - loss: 0.3792 - accuracy: 0.8456 - val_loss: 0.3555 - val_accuracy: 0.8600\n",
            "Epoch 5/10\n",
            "374/374 [==============================] - 572s 2s/step - loss: 0.3240 - accuracy: 0.8754 - val_loss: 0.3122 - val_accuracy: 0.8785\n",
            "Epoch 6/10\n",
            "374/374 [==============================] - 578s 2s/step - loss: 0.2853 - accuracy: 0.8882 - val_loss: 0.2764 - val_accuracy: 0.8939\n",
            "Epoch 7/10\n",
            "374/374 [==============================] - 577s 2s/step - loss: 0.2495 - accuracy: 0.9070 - val_loss: 0.2351 - val_accuracy: 0.9147\n",
            "Epoch 8/10\n",
            "374/374 [==============================] - 573s 2s/step - loss: 0.2202 - accuracy: 0.9165 - val_loss: 0.2340 - val_accuracy: 0.9103\n",
            "Epoch 9/10\n",
            "374/374 [==============================] - 577s 2s/step - loss: 0.1994 - accuracy: 0.9288 - val_loss: 0.2069 - val_accuracy: 0.9243\n",
            "Epoch 10/10\n",
            "374/374 [==============================] - 578s 2s/step - loss: 0.1894 - accuracy: 0.9311 - val_loss: 0.2045 - val_accuracy: 0.9248\n"
          ],
          "name": "stdout"
        }
      ]
    },
    {
      "cell_type": "code",
      "metadata": {
        "id": "X3CvFfv77laF",
        "colab_type": "code",
        "colab": {
          "base_uri": "https://localhost:8080/",
          "height": 185
        },
        "outputId": "48ba3e35-f139-49ba-a283-85987f6ce699"
      },
      "source": [
        "r2 = model.fit(\n",
        "  data_train,\n",
        "  Ytrain,\n",
        "  epochs=5,\n",
        "  validation_data=(data_test, Ytest),\n",
        "  batch_size=50\n",
        ")"
      ],
      "execution_count": null,
      "outputs": [
        {
          "output_type": "stream",
          "text": [
            "Epoch 1/5\n",
            "374/374 [==============================] - 573s 2s/step - loss: 0.1744 - accuracy: 0.9380 - val_loss: 0.1943 - val_accuracy: 0.9310\n",
            "Epoch 2/5\n",
            "374/374 [==============================] - 574s 2s/step - loss: 0.1772 - accuracy: 0.9350 - val_loss: 0.2285 - val_accuracy: 0.9134\n",
            "Epoch 3/5\n",
            "374/374 [==============================] - 574s 2s/step - loss: 0.1640 - accuracy: 0.9425 - val_loss: 0.1714 - val_accuracy: 0.9409\n",
            "Epoch 4/5\n",
            "374/374 [==============================] - 572s 2s/step - loss: 0.1531 - accuracy: 0.9443 - val_loss: 0.1724 - val_accuracy: 0.9383\n",
            "Epoch 5/5\n",
            "374/374 [==============================] - 575s 2s/step - loss: 0.1353 - accuracy: 0.9529 - val_loss: 0.1652 - val_accuracy: 0.9418\n"
          ],
          "name": "stdout"
        }
      ]
    },
    {
      "cell_type": "code",
      "metadata": {
        "id": "epnoq4VLNYR4",
        "colab_type": "code",
        "colab": {}
      },
      "source": [
        "model.save('/content/drive/My Drive/ColabNotebooks/FYP Try/model15epo.h5')"
      ],
      "execution_count": null,
      "outputs": []
    },
    {
      "cell_type": "code",
      "metadata": {
        "id": "iMfZlt_HZgud",
        "colab_type": "code",
        "colab": {}
      },
      "source": [
        "model.save('model15epo.h5')"
      ],
      "execution_count": null,
      "outputs": []
    },
    {
      "cell_type": "code",
      "metadata": {
        "id": "kxydwpAOcgmZ",
        "colab_type": "code",
        "colab": {
          "base_uri": "https://localhost:8080/",
          "height": 319
        },
        "outputId": "f43de82a-a74e-47ca-8de9-04ae656d8e59"
      },
      "source": [
        "model.summary()"
      ],
      "execution_count": null,
      "outputs": [
        {
          "output_type": "stream",
          "text": [
            "Model: \"functional_1\"\n",
            "_________________________________________________________________\n",
            "Layer (type)                 Output Shape              Param #   \n",
            "=================================================================\n",
            "input_1 (InputLayer)         [(None, 29286)]           0         \n",
            "_________________________________________________________________\n",
            "embedding (Embedding)        (None, 29286, 300)        46702200  \n",
            "_________________________________________________________________\n",
            "lstm (LSTM)                  (None, 29286, 10)         12440     \n",
            "_________________________________________________________________\n",
            "global_max_pooling1d (Global (None, 10)                0         \n",
            "_________________________________________________________________\n",
            "dense (Dense)                (None, 1)                 11        \n",
            "=================================================================\n",
            "Total params: 46,714,651\n",
            "Trainable params: 12,451\n",
            "Non-trainable params: 46,702,200\n",
            "_________________________________________________________________\n"
          ],
          "name": "stdout"
        }
      ]
    },
    {
      "cell_type": "code",
      "metadata": {
        "id": "Y_uWDWGSdFkW",
        "colab_type": "code",
        "colab": {}
      },
      "source": [
        "np.save('/content/drive/My Drive/ColabNotebooks/FYP Try/data_train.npy', data_train)\n",
        "np.save('/content/drive/My Drive/ColabNotebooks/FYP Try/Ytrain.npy', Ytrain)\n",
        "np.save('/content/drive/My Drive/ColabNotebooks/FYP Try/data_test.npy', data_test) \n",
        "np.save('/content/drive/My Drive/ColabNotebooks/FYP Try/Ytest.npy', Ytest)"
      ],
      "execution_count": null,
      "outputs": []
    },
    {
      "cell_type": "code",
      "metadata": {
        "id": "DE9vkOstdy95",
        "colab_type": "code",
        "colab": {
          "base_uri": "https://localhost:8080/",
          "height": 134
        },
        "outputId": "54af4796-ce90-463a-fca1-c5215915c6b9"
      },
      "source": [
        "model.predict(data_test)"
      ],
      "execution_count": null,
      "outputs": [
        {
          "output_type": "execute_result",
          "data": {
            "text/plain": [
              "array([[0.02184489],\n",
              "       [0.12484632],\n",
              "       [0.09486606],\n",
              "       ...,\n",
              "       [0.8651271 ],\n",
              "       [0.98749083],\n",
              "       [0.99394965]], dtype=float32)"
            ]
          },
          "metadata": {
            "tags": []
          },
          "execution_count": 25
        }
      ]
    },
    {
      "cell_type": "code",
      "metadata": {
        "id": "hKCpsf9Bd5IE",
        "colab_type": "code",
        "colab": {
          "base_uri": "https://localhost:8080/",
          "height": 353
        },
        "outputId": "117e748e-07f8-4c0b-8125-e22c3b12bf70"
      },
      "source": [
        "r3 = model.fit(\n",
        "  data_train,\n",
        "  Ytrain,\n",
        "  epochs=10,\n",
        "  validation_data=(data_test, Ytest),\n",
        "  batch_size=50\n",
        ")"
      ],
      "execution_count": null,
      "outputs": [
        {
          "output_type": "stream",
          "text": [
            "Epoch 1/10\n",
            "374/374 [==============================] - 585s 2s/step - loss: 0.1301 - accuracy: 0.9551 - val_loss: 0.1614 - val_accuracy: 0.9427\n",
            "Epoch 2/10\n",
            "374/374 [==============================] - 580s 2s/step - loss: 0.1238 - accuracy: 0.9582 - val_loss: 0.1604 - val_accuracy: 0.9438\n",
            "Epoch 3/10\n",
            "374/374 [==============================] - 578s 2s/step - loss: 0.1158 - accuracy: 0.9607 - val_loss: 0.1667 - val_accuracy: 0.9408\n",
            "Epoch 4/10\n",
            "374/374 [==============================] - 577s 2s/step - loss: 0.1117 - accuracy: 0.9631 - val_loss: 0.1576 - val_accuracy: 0.9420\n",
            "Epoch 5/10\n",
            "374/374 [==============================] - 575s 2s/step - loss: 0.1112 - accuracy: 0.9630 - val_loss: 0.1688 - val_accuracy: 0.9380\n",
            "Epoch 6/10\n",
            "374/374 [==============================] - 571s 2s/step - loss: 0.0995 - accuracy: 0.9681 - val_loss: 0.1487 - val_accuracy: 0.9475\n",
            "Epoch 7/10\n",
            "374/374 [==============================] - 571s 2s/step - loss: 0.0944 - accuracy: 0.9684 - val_loss: 0.1545 - val_accuracy: 0.9448\n",
            "Epoch 8/10\n",
            "374/374 [==============================] - 567s 2s/step - loss: 0.0915 - accuracy: 0.9700 - val_loss: 0.1871 - val_accuracy: 0.9276\n",
            "Epoch 9/10\n",
            "374/374 [==============================] - 560s 1s/step - loss: 0.0854 - accuracy: 0.9720 - val_loss: 0.1520 - val_accuracy: 0.9464\n",
            "Epoch 10/10\n",
            "374/374 [==============================] - 559s 1s/step - loss: 0.0801 - accuracy: 0.9746 - val_loss: 0.1621 - val_accuracy: 0.9387\n"
          ],
          "name": "stdout"
        }
      ]
    },
    {
      "cell_type": "code",
      "metadata": {
        "id": "-HL-ogqwhKZs",
        "colab_type": "code",
        "colab": {}
      },
      "source": [
        "model.save('/content/drive/My Drive/ColabNotebooks/FYP Try/model25epo.h5')"
      ],
      "execution_count": null,
      "outputs": []
    },
    {
      "cell_type": "code",
      "metadata": {
        "id": "ylaiFQabhOsS",
        "colab_type": "code",
        "colab": {}
      },
      "source": [
        "model.save('model25epo.h5')"
      ],
      "execution_count": null,
      "outputs": []
    },
    {
      "cell_type": "code",
      "metadata": {
        "id": "OCdkCSgBvi51",
        "colab_type": "code",
        "colab": {
          "base_uri": "https://localhost:8080/",
          "height": 319
        },
        "outputId": "bd00ceba-38ef-444c-c2f1-c7494b492c65"
      },
      "source": [
        "model.summary()"
      ],
      "execution_count": null,
      "outputs": [
        {
          "output_type": "stream",
          "text": [
            "Model: \"functional_1\"\n",
            "_________________________________________________________________\n",
            "Layer (type)                 Output Shape              Param #   \n",
            "=================================================================\n",
            "input_1 (InputLayer)         [(None, 29286)]           0         \n",
            "_________________________________________________________________\n",
            "embedding (Embedding)        (None, 29286, 300)        46702200  \n",
            "_________________________________________________________________\n",
            "lstm (LSTM)                  (None, 29286, 10)         12440     \n",
            "_________________________________________________________________\n",
            "global_max_pooling1d (Global (None, 10)                0         \n",
            "_________________________________________________________________\n",
            "dense (Dense)                (None, 1)                 11        \n",
            "=================================================================\n",
            "Total params: 46,714,651\n",
            "Trainable params: 12,451\n",
            "Non-trainable params: 46,702,200\n",
            "_________________________________________________________________\n"
          ],
          "name": "stdout"
        }
      ]
    },
    {
      "cell_type": "code",
      "metadata": {
        "id": "8J5zNYuf4JQa",
        "colab_type": "code",
        "colab": {
          "base_uri": "https://localhost:8080/",
          "height": 500
        },
        "outputId": "fcc2af04-b58b-4b9e-f221-a05785fe4c21"
      },
      "source": [
        "plt.figure(figsize=(20,8))\n",
        "plt.plot(r.history['loss']+r2.history['loss']+r3.history['loss'], label='loss')\n",
        "plt.plot(r.history['val_loss']+r2.history['val_loss']+r3.history['val_loss'], label='val_loss')\n",
        "plt.legend()"
      ],
      "execution_count": null,
      "outputs": [
        {
          "output_type": "execute_result",
          "data": {
            "text/plain": [
              "<matplotlib.legend.Legend at 0x7fc3551510f0>"
            ]
          },
          "metadata": {
            "tags": []
          },
          "execution_count": 36
        },
        {
          "output_type": "display_data",
          "data": {
            "image/png": "[encoded data removed]",
            "text/plain": [
              "<Figure size 1440x576 with 1 Axes>"
            ]
          },
          "metadata": {
            "tags": [],
            "needs_background": "light"
          }
        }
      ]
    },
    {
      "cell_type": "code",
      "metadata": {
        "id": "g9JdK7Yy4WX0",
        "colab_type": "code",
        "colab": {
          "base_uri": "https://localhost:8080/",
          "height": 500
        },
        "outputId": "716c4eb5-a233-4e02-ff69-d78e73e21a0b"
      },
      "source": [
        "plt.figure(figsize=(20,8))\n",
        "plt.plot(r.history['accuracy']+r2.history['accuracy']+r3.history['accuracy'], label='accuracy')\n",
        "plt.plot(r.history['val_accuracy']+r2.history['val_accuracy']+r3.history['val_accuracy'], label='val_accuracy')\n",
        "plt.legend()"
      ],
      "execution_count": null,
      "outputs": [
        {
          "output_type": "execute_result",
          "data": {
            "text/plain": [
              "<matplotlib.legend.Legend at 0x7fc3550bf1d0>"
            ]
          },
          "metadata": {
            "tags": []
          },
          "execution_count": 37
        },
        {
          "output_type": "display_data",
          "data": {
            "image/png": "[encoded data removed]",
            "text/plain": [
              "<Figure size 1440x576 with 1 Axes>"
            ]
          },
          "metadata": {
            "tags": [],
            "needs_background": "light"
          }
        }
      ]
    },
    {
      "cell_type": "code",
      "metadata": {
        "id": "BtzyuM2L452M",
        "colab_type": "code",
        "colab": {}
      },
      "source": [
        ""
      ],
      "execution_count": null,
      "outputs": []
    }
  ]
}