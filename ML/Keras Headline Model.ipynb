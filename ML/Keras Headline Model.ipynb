{
 "cells": [
  {
   "cell_type": "markdown",
   "metadata": {},
   "source": [
    "# Keras Headline Model"
   ]
  },
  {
   "cell_type": "code",
   "execution_count": 1,
   "metadata": {},
   "outputs": [],
   "source": [
    "import numpy as np\n",
    "import pandas as pd\n",
    "import seaborn as sns\n",
    "import matplotlib.pyplot as plt\n",
    "%matplotlib inline"
   ]
  },
  {
   "cell_type": "code",
   "execution_count": 2,
   "metadata": {},
   "outputs": [],
   "source": [
    "headline_data = pd.read_csv(\"Headline Vector.csv\")"
   ]
  },
  {
   "cell_type": "code",
   "execution_count": 3,
   "metadata": {},
   "outputs": [
    {
     "data": {
      "text/html": [
       "<div>\n",
       "<style scoped>\n",
       "    .dataframe tbody tr th:only-of-type {\n",
       "        vertical-align: middle;\n",
       "    }\n",
       "\n",
       "    .dataframe tbody tr th {\n",
       "        vertical-align: top;\n",
       "    }\n",
       "\n",
       "    .dataframe thead th {\n",
       "        text-align: right;\n",
       "    }\n",
       "</style>\n",
       "<table border=\"1\" class=\"dataframe\">\n",
       "  <thead>\n",
       "    <tr style=\"text-align: right;\">\n",
       "      <th></th>\n",
       "      <th>0</th>\n",
       "      <th>1</th>\n",
       "      <th>2</th>\n",
       "      <th>3</th>\n",
       "      <th>4</th>\n",
       "      <th>5</th>\n",
       "      <th>6</th>\n",
       "      <th>7</th>\n",
       "      <th>8</th>\n",
       "      <th>9</th>\n",
       "      <th>...</th>\n",
       "      <th>291</th>\n",
       "      <th>292</th>\n",
       "      <th>293</th>\n",
       "      <th>294</th>\n",
       "      <th>295</th>\n",
       "      <th>296</th>\n",
       "      <th>297</th>\n",
       "      <th>298</th>\n",
       "      <th>299</th>\n",
       "      <th>Fake</th>\n",
       "    </tr>\n",
       "  </thead>\n",
       "  <tbody>\n",
       "    <tr>\n",
       "      <th>0</th>\n",
       "      <td>0.075134</td>\n",
       "      <td>0.095032</td>\n",
       "      <td>-0.018885</td>\n",
       "      <td>0.180705</td>\n",
       "      <td>-0.102905</td>\n",
       "      <td>-0.075216</td>\n",
       "      <td>-0.176351</td>\n",
       "      <td>0.073771</td>\n",
       "      <td>0.096600</td>\n",
       "      <td>0.183268</td>\n",
       "      <td>...</td>\n",
       "      <td>-0.074249</td>\n",
       "      <td>-0.071838</td>\n",
       "      <td>0.033000</td>\n",
       "      <td>-0.082937</td>\n",
       "      <td>0.046611</td>\n",
       "      <td>-0.056780</td>\n",
       "      <td>-0.076497</td>\n",
       "      <td>-0.079346</td>\n",
       "      <td>-0.049487</td>\n",
       "      <td>1.0</td>\n",
       "    </tr>\n",
       "    <tr>\n",
       "      <th>1</th>\n",
       "      <td>0.051987</td>\n",
       "      <td>0.013672</td>\n",
       "      <td>0.053021</td>\n",
       "      <td>-0.163184</td>\n",
       "      <td>-0.148584</td>\n",
       "      <td>-0.017378</td>\n",
       "      <td>0.009473</td>\n",
       "      <td>-0.025668</td>\n",
       "      <td>0.185156</td>\n",
       "      <td>0.015948</td>\n",
       "      <td>...</td>\n",
       "      <td>0.022070</td>\n",
       "      <td>0.054199</td>\n",
       "      <td>-0.010620</td>\n",
       "      <td>-0.011060</td>\n",
       "      <td>0.019336</td>\n",
       "      <td>-0.096582</td>\n",
       "      <td>-0.219296</td>\n",
       "      <td>-0.019531</td>\n",
       "      <td>-0.034570</td>\n",
       "      <td>1.0</td>\n",
       "    </tr>\n",
       "    <tr>\n",
       "      <th>2</th>\n",
       "      <td>-0.053218</td>\n",
       "      <td>-0.006348</td>\n",
       "      <td>0.029297</td>\n",
       "      <td>-0.024763</td>\n",
       "      <td>-0.101214</td>\n",
       "      <td>0.095721</td>\n",
       "      <td>0.017421</td>\n",
       "      <td>0.055664</td>\n",
       "      <td>0.077637</td>\n",
       "      <td>0.046125</td>\n",
       "      <td>...</td>\n",
       "      <td>0.054060</td>\n",
       "      <td>0.016811</td>\n",
       "      <td>0.039010</td>\n",
       "      <td>-0.062762</td>\n",
       "      <td>-0.095503</td>\n",
       "      <td>0.080261</td>\n",
       "      <td>-0.145647</td>\n",
       "      <td>-0.119036</td>\n",
       "      <td>0.022374</td>\n",
       "      <td>1.0</td>\n",
       "    </tr>\n",
       "    <tr>\n",
       "      <th>3</th>\n",
       "      <td>0.004852</td>\n",
       "      <td>-0.001902</td>\n",
       "      <td>0.050012</td>\n",
       "      <td>0.075821</td>\n",
       "      <td>-0.047064</td>\n",
       "      <td>-0.048322</td>\n",
       "      <td>-0.006976</td>\n",
       "      <td>-0.144267</td>\n",
       "      <td>0.094218</td>\n",
       "      <td>0.108246</td>\n",
       "      <td>...</td>\n",
       "      <td>-0.010461</td>\n",
       "      <td>-0.087931</td>\n",
       "      <td>0.035131</td>\n",
       "      <td>0.014521</td>\n",
       "      <td>-0.154073</td>\n",
       "      <td>-0.074272</td>\n",
       "      <td>-0.091553</td>\n",
       "      <td>0.031362</td>\n",
       "      <td>0.067342</td>\n",
       "      <td>1.0</td>\n",
       "    </tr>\n",
       "    <tr>\n",
       "      <th>4</th>\n",
       "      <td>0.041016</td>\n",
       "      <td>0.048256</td>\n",
       "      <td>0.016785</td>\n",
       "      <td>0.097397</td>\n",
       "      <td>-0.040054</td>\n",
       "      <td>-0.036987</td>\n",
       "      <td>0.063026</td>\n",
       "      <td>-0.016579</td>\n",
       "      <td>0.097771</td>\n",
       "      <td>-0.001984</td>\n",
       "      <td>...</td>\n",
       "      <td>-0.087311</td>\n",
       "      <td>-0.083374</td>\n",
       "      <td>-0.000671</td>\n",
       "      <td>-0.103638</td>\n",
       "      <td>-0.021179</td>\n",
       "      <td>0.025879</td>\n",
       "      <td>-0.113892</td>\n",
       "      <td>0.025085</td>\n",
       "      <td>0.084534</td>\n",
       "      <td>1.0</td>\n",
       "    </tr>\n",
       "  </tbody>\n",
       "</table>\n",
       "<p>5 rows × 301 columns</p>\n",
       "</div>"
      ],
      "text/plain": [
       "          0         1         2         3         4         5         6  \\\n",
       "0  0.075134  0.095032 -0.018885  0.180705 -0.102905 -0.075216 -0.176351   \n",
       "1  0.051987  0.013672  0.053021 -0.163184 -0.148584 -0.017378  0.009473   \n",
       "2 -0.053218 -0.006348  0.029297 -0.024763 -0.101214  0.095721  0.017421   \n",
       "3  0.004852 -0.001902  0.050012  0.075821 -0.047064 -0.048322 -0.006976   \n",
       "4  0.041016  0.048256  0.016785  0.097397 -0.040054 -0.036987  0.063026   \n",
       "\n",
       "          7         8         9  ...       291       292       293       294  \\\n",
       "0  0.073771  0.096600  0.183268  ... -0.074249 -0.071838  0.033000 -0.082937   \n",
       "1 -0.025668  0.185156  0.015948  ...  0.022070  0.054199 -0.010620 -0.011060   \n",
       "2  0.055664  0.077637  0.046125  ...  0.054060  0.016811  0.039010 -0.062762   \n",
       "3 -0.144267  0.094218  0.108246  ... -0.010461 -0.087931  0.035131  0.014521   \n",
       "4 -0.016579  0.097771 -0.001984  ... -0.087311 -0.083374 -0.000671 -0.103638   \n",
       "\n",
       "        295       296       297       298       299  Fake  \n",
       "0  0.046611 -0.056780 -0.076497 -0.079346 -0.049487   1.0  \n",
       "1  0.019336 -0.096582 -0.219296 -0.019531 -0.034570   1.0  \n",
       "2 -0.095503  0.080261 -0.145647 -0.119036  0.022374   1.0  \n",
       "3 -0.154073 -0.074272 -0.091553  0.031362  0.067342   1.0  \n",
       "4 -0.021179  0.025879 -0.113892  0.025085  0.084534   1.0  \n",
       "\n",
       "[5 rows x 301 columns]"
      ]
     },
     "execution_count": 3,
     "metadata": {},
     "output_type": "execute_result"
    }
   ],
   "source": [
    "headline_data.head()"
   ]
  },
  {
   "cell_type": "code",
   "execution_count": 4,
   "metadata": {},
   "outputs": [],
   "source": [
    "headline_data.dropna(inplace=True)"
   ]
  },
  {
   "cell_type": "code",
   "execution_count": 5,
   "metadata": {},
   "outputs": [
    {
     "data": {
      "text/html": [
       "<div>\n",
       "<style scoped>\n",
       "    .dataframe tbody tr th:only-of-type {\n",
       "        vertical-align: middle;\n",
       "    }\n",
       "\n",
       "    .dataframe tbody tr th {\n",
       "        vertical-align: top;\n",
       "    }\n",
       "\n",
       "    .dataframe thead th {\n",
       "        text-align: right;\n",
       "    }\n",
       "</style>\n",
       "<table border=\"1\" class=\"dataframe\">\n",
       "  <thead>\n",
       "    <tr style=\"text-align: right;\">\n",
       "      <th></th>\n",
       "      <th>0</th>\n",
       "      <th>1</th>\n",
       "      <th>2</th>\n",
       "      <th>3</th>\n",
       "      <th>4</th>\n",
       "      <th>5</th>\n",
       "      <th>6</th>\n",
       "      <th>7</th>\n",
       "      <th>8</th>\n",
       "      <th>9</th>\n",
       "      <th>...</th>\n",
       "      <th>290</th>\n",
       "      <th>291</th>\n",
       "      <th>292</th>\n",
       "      <th>293</th>\n",
       "      <th>294</th>\n",
       "      <th>295</th>\n",
       "      <th>296</th>\n",
       "      <th>297</th>\n",
       "      <th>298</th>\n",
       "      <th>299</th>\n",
       "    </tr>\n",
       "  </thead>\n",
       "  <tbody>\n",
       "    <tr>\n",
       "      <th>0</th>\n",
       "      <td>0.075134</td>\n",
       "      <td>0.095032</td>\n",
       "      <td>-0.018885</td>\n",
       "      <td>0.180705</td>\n",
       "      <td>-0.102905</td>\n",
       "      <td>-0.075216</td>\n",
       "      <td>-0.176351</td>\n",
       "      <td>0.073771</td>\n",
       "      <td>0.096600</td>\n",
       "      <td>0.183268</td>\n",
       "      <td>...</td>\n",
       "      <td>0.090658</td>\n",
       "      <td>-0.074249</td>\n",
       "      <td>-0.071838</td>\n",
       "      <td>0.033000</td>\n",
       "      <td>-0.082937</td>\n",
       "      <td>0.046611</td>\n",
       "      <td>-0.056780</td>\n",
       "      <td>-0.076497</td>\n",
       "      <td>-0.079346</td>\n",
       "      <td>-0.049487</td>\n",
       "    </tr>\n",
       "    <tr>\n",
       "      <th>1</th>\n",
       "      <td>0.051987</td>\n",
       "      <td>0.013672</td>\n",
       "      <td>0.053021</td>\n",
       "      <td>-0.163184</td>\n",
       "      <td>-0.148584</td>\n",
       "      <td>-0.017378</td>\n",
       "      <td>0.009473</td>\n",
       "      <td>-0.025668</td>\n",
       "      <td>0.185156</td>\n",
       "      <td>0.015948</td>\n",
       "      <td>...</td>\n",
       "      <td>0.059033</td>\n",
       "      <td>0.022070</td>\n",
       "      <td>0.054199</td>\n",
       "      <td>-0.010620</td>\n",
       "      <td>-0.011060</td>\n",
       "      <td>0.019336</td>\n",
       "      <td>-0.096582</td>\n",
       "      <td>-0.219296</td>\n",
       "      <td>-0.019531</td>\n",
       "      <td>-0.034570</td>\n",
       "    </tr>\n",
       "    <tr>\n",
       "      <th>2</th>\n",
       "      <td>-0.053218</td>\n",
       "      <td>-0.006348</td>\n",
       "      <td>0.029297</td>\n",
       "      <td>-0.024763</td>\n",
       "      <td>-0.101214</td>\n",
       "      <td>0.095721</td>\n",
       "      <td>0.017421</td>\n",
       "      <td>0.055664</td>\n",
       "      <td>0.077637</td>\n",
       "      <td>0.046125</td>\n",
       "      <td>...</td>\n",
       "      <td>0.025997</td>\n",
       "      <td>0.054060</td>\n",
       "      <td>0.016811</td>\n",
       "      <td>0.039010</td>\n",
       "      <td>-0.062762</td>\n",
       "      <td>-0.095503</td>\n",
       "      <td>0.080261</td>\n",
       "      <td>-0.145647</td>\n",
       "      <td>-0.119036</td>\n",
       "      <td>0.022374</td>\n",
       "    </tr>\n",
       "    <tr>\n",
       "      <th>3</th>\n",
       "      <td>0.004852</td>\n",
       "      <td>-0.001902</td>\n",
       "      <td>0.050012</td>\n",
       "      <td>0.075821</td>\n",
       "      <td>-0.047064</td>\n",
       "      <td>-0.048322</td>\n",
       "      <td>-0.006976</td>\n",
       "      <td>-0.144267</td>\n",
       "      <td>0.094218</td>\n",
       "      <td>0.108246</td>\n",
       "      <td>...</td>\n",
       "      <td>0.041168</td>\n",
       "      <td>-0.010461</td>\n",
       "      <td>-0.087931</td>\n",
       "      <td>0.035131</td>\n",
       "      <td>0.014521</td>\n",
       "      <td>-0.154073</td>\n",
       "      <td>-0.074272</td>\n",
       "      <td>-0.091553</td>\n",
       "      <td>0.031362</td>\n",
       "      <td>0.067342</td>\n",
       "    </tr>\n",
       "    <tr>\n",
       "      <th>4</th>\n",
       "      <td>0.041016</td>\n",
       "      <td>0.048256</td>\n",
       "      <td>0.016785</td>\n",
       "      <td>0.097397</td>\n",
       "      <td>-0.040054</td>\n",
       "      <td>-0.036987</td>\n",
       "      <td>0.063026</td>\n",
       "      <td>-0.016579</td>\n",
       "      <td>0.097771</td>\n",
       "      <td>-0.001984</td>\n",
       "      <td>...</td>\n",
       "      <td>-0.027811</td>\n",
       "      <td>-0.087311</td>\n",
       "      <td>-0.083374</td>\n",
       "      <td>-0.000671</td>\n",
       "      <td>-0.103638</td>\n",
       "      <td>-0.021179</td>\n",
       "      <td>0.025879</td>\n",
       "      <td>-0.113892</td>\n",
       "      <td>0.025085</td>\n",
       "      <td>0.084534</td>\n",
       "    </tr>\n",
       "  </tbody>\n",
       "</table>\n",
       "<p>5 rows × 300 columns</p>\n",
       "</div>"
      ],
      "text/plain": [
       "          0         1         2         3         4         5         6  \\\n",
       "0  0.075134  0.095032 -0.018885  0.180705 -0.102905 -0.075216 -0.176351   \n",
       "1  0.051987  0.013672  0.053021 -0.163184 -0.148584 -0.017378  0.009473   \n",
       "2 -0.053218 -0.006348  0.029297 -0.024763 -0.101214  0.095721  0.017421   \n",
       "3  0.004852 -0.001902  0.050012  0.075821 -0.047064 -0.048322 -0.006976   \n",
       "4  0.041016  0.048256  0.016785  0.097397 -0.040054 -0.036987  0.063026   \n",
       "\n",
       "          7         8         9  ...       290       291       292       293  \\\n",
       "0  0.073771  0.096600  0.183268  ...  0.090658 -0.074249 -0.071838  0.033000   \n",
       "1 -0.025668  0.185156  0.015948  ...  0.059033  0.022070  0.054199 -0.010620   \n",
       "2  0.055664  0.077637  0.046125  ...  0.025997  0.054060  0.016811  0.039010   \n",
       "3 -0.144267  0.094218  0.108246  ...  0.041168 -0.010461 -0.087931  0.035131   \n",
       "4 -0.016579  0.097771 -0.001984  ... -0.027811 -0.087311 -0.083374 -0.000671   \n",
       "\n",
       "        294       295       296       297       298       299  \n",
       "0 -0.082937  0.046611 -0.056780 -0.076497 -0.079346 -0.049487  \n",
       "1 -0.011060  0.019336 -0.096582 -0.219296 -0.019531 -0.034570  \n",
       "2 -0.062762 -0.095503  0.080261 -0.145647 -0.119036  0.022374  \n",
       "3  0.014521 -0.154073 -0.074272 -0.091553  0.031362  0.067342  \n",
       "4 -0.103638 -0.021179  0.025879 -0.113892  0.025085  0.084534  \n",
       "\n",
       "[5 rows x 300 columns]"
      ]
     },
     "execution_count": 5,
     "metadata": {},
     "output_type": "execute_result"
    }
   ],
   "source": [
    "X= headline_data.drop(\"Fake\",axis=1)\n",
    "y= headline_data[\"Fake\"]\n",
    "X.head()"
   ]
  },
  {
   "cell_type": "code",
   "execution_count": 6,
   "metadata": {},
   "outputs": [],
   "source": [
    "from sklearn.model_selection import train_test_split\n",
    "X_train, X_test, y_train, y_test = train_test_split(X, y, test_size=0.01)"
   ]
  },
  {
   "cell_type": "code",
   "execution_count": 7,
   "metadata": {},
   "outputs": [
    {
     "name": "stderr",
     "output_type": "stream",
     "text": [
      "Using TensorFlow backend.\n"
     ]
    }
   ],
   "source": [
    "from keras import Sequential\n",
    "from keras.layers import Dense"
   ]
  },
  {
   "cell_type": "code",
   "execution_count": 8,
   "metadata": {},
   "outputs": [
    {
     "name": "stdout",
     "output_type": "stream",
     "text": [
      "WARNING:tensorflow:From /home/bat/anaconda3/lib/python3.7/site-packages/keras/backend/tensorflow_backend.py:74: The name tf.get_default_graph is deprecated. Please use tf.compat.v1.get_default_graph instead.\n",
      "\n",
      "WARNING:tensorflow:From /home/bat/anaconda3/lib/python3.7/site-packages/keras/backend/tensorflow_backend.py:517: The name tf.placeholder is deprecated. Please use tf.compat.v1.placeholder instead.\n",
      "\n",
      "WARNING:tensorflow:From /home/bat/anaconda3/lib/python3.7/site-packages/keras/backend/tensorflow_backend.py:4115: The name tf.random_normal is deprecated. Please use tf.random.normal instead.\n",
      "\n"
     ]
    }
   ],
   "source": [
    "classifier = Sequential()\n",
    "classifier.add(Dense(500, activation='relu', kernel_initializer='random_normal', input_dim=300))\n",
    "classifier.add(Dense(400, activation='relu', kernel_initializer='random_normal'))\n",
    "classifier.add(Dense(300, activation='relu', kernel_initializer='random_normal'))\n",
    "classifier.add(Dense(100, activation='relu', kernel_initializer='random_normal'))\n",
    "classifier.add(Dense(1, activation='sigmoid', kernel_initializer='random_normal'))"
   ]
  },
  {
   "cell_type": "code",
   "execution_count": 9,
   "metadata": {},
   "outputs": [
    {
     "name": "stdout",
     "output_type": "stream",
     "text": [
      "WARNING:tensorflow:From /home/bat/anaconda3/lib/python3.7/site-packages/keras/optimizers.py:790: The name tf.train.Optimizer is deprecated. Please use tf.compat.v1.train.Optimizer instead.\n",
      "\n",
      "WARNING:tensorflow:From /home/bat/anaconda3/lib/python3.7/site-packages/keras/backend/tensorflow_backend.py:3376: The name tf.log is deprecated. Please use tf.math.log instead.\n",
      "\n",
      "WARNING:tensorflow:From /home/bat/anaconda3/lib/python3.7/site-packages/tensorflow/python/ops/nn_impl.py:180: add_dispatch_support.<locals>.wrapper (from tensorflow.python.ops.array_ops) is deprecated and will be removed in a future version.\n",
      "Instructions for updating:\n",
      "Use tf.where in 2.0, which has the same broadcast rule as np.where\n"
     ]
    }
   ],
   "source": [
    "#Compiling the neural network\n",
    "classifier.compile(optimizer ='adam',loss='binary_crossentropy', metrics =['accuracy'])"
   ]
  },
  {
   "cell_type": "code",
   "execution_count": 10,
   "metadata": {},
   "outputs": [
    {
     "name": "stdout",
     "output_type": "stream",
     "text": [
      "WARNING:tensorflow:From /home/bat/anaconda3/lib/python3.7/site-packages/keras/backend/tensorflow_backend.py:986: The name tf.assign_add is deprecated. Please use tf.compat.v1.assign_add instead.\n",
      "\n",
      "Epoch 1/90\n",
      "26986/26986 [==============================] - 52s 2ms/step - loss: 0.5995 - acc: 0.6755\n",
      "Epoch 2/90\n",
      "26986/26986 [==============================] - 17s 622us/step - loss: 0.5238 - acc: 0.7367\n",
      "Epoch 3/90\n",
      "26986/26986 [==============================] - 17s 644us/step - loss: 0.4593 - acc: 0.7773\n",
      "Epoch 4/90\n",
      "26986/26986 [==============================] - 18s 677us/step - loss: 0.3909 - acc: 0.8181\n",
      "Epoch 5/90\n",
      "26986/26986 [==============================] - 16s 580us/step - loss: 0.3272 - acc: 0.8497\n",
      "Epoch 6/90\n",
      "26986/26986 [==============================] - 15s 543us/step - loss: 0.2676 - acc: 0.8804\n",
      "Epoch 7/90\n",
      "26986/26986 [==============================] - 14s 521us/step - loss: 0.2166 - acc: 0.9054\n",
      "Epoch 8/90\n",
      "26986/26986 [==============================] - 15s 546us/step - loss: 0.1845 - acc: 0.9229\n",
      "Epoch 9/90\n",
      "26986/26986 [==============================] - 15s 541us/step - loss: 0.1586 - acc: 0.9342\n",
      "Epoch 10/90\n",
      "26986/26986 [==============================] - 15s 568us/step - loss: 0.1414 - acc: 0.9429\n",
      "Epoch 11/90\n",
      "26986/26986 [==============================] - 17s 617us/step - loss: 0.1222 - acc: 0.9497\n",
      "Epoch 12/90\n",
      "26986/26986 [==============================] - 18s 659us/step - loss: 0.1150 - acc: 0.9534\n",
      "Epoch 13/90\n",
      "26986/26986 [==============================] - 20s 724us/step - loss: 0.0978 - acc: 0.9610\n",
      "Epoch 14/90\n",
      "26986/26986 [==============================] - 20s 757us/step - loss: 0.0918 - acc: 0.9655\n",
      "Epoch 15/90\n",
      "26986/26986 [==============================] - 20s 726us/step - loss: 0.0806 - acc: 0.9699\n",
      "Epoch 16/90\n",
      "26986/26986 [==============================] - 20s 725us/step - loss: 0.0762 - acc: 0.9708\n",
      "Epoch 17/90\n",
      "26986/26986 [==============================] - 21s 772us/step - loss: 0.0714 - acc: 0.9733\n",
      "Epoch 18/90\n",
      "26986/26986 [==============================] - 19s 715us/step - loss: 0.0700 - acc: 0.9754\n",
      "Epoch 19/90\n",
      "26986/26986 [==============================] - 19s 695us/step - loss: 0.0648 - acc: 0.9764\n",
      "Epoch 20/90\n",
      "26986/26986 [==============================] - 20s 724us/step - loss: 0.0540 - acc: 0.9798\n",
      "Epoch 21/90\n",
      "26986/26986 [==============================] - 20s 736us/step - loss: 0.0557 - acc: 0.9799\n",
      "Epoch 22/90\n",
      "26986/26986 [==============================] - 20s 724us/step - loss: 0.0497 - acc: 0.9825\n",
      "Epoch 23/90\n",
      "26986/26986 [==============================] - 20s 755us/step - loss: 0.0472 - acc: 0.9842\n",
      "Epoch 24/90\n",
      "26986/26986 [==============================] - 21s 792us/step - loss: 0.0495 - acc: 0.9827\n",
      "Epoch 25/90\n",
      "26986/26986 [==============================] - 16s 603us/step - loss: 0.0406 - acc: 0.9869\n",
      "Epoch 26/90\n",
      "26986/26986 [==============================] - 17s 638us/step - loss: 0.0421 - acc: 0.9851\n",
      "Epoch 27/90\n",
      "26986/26986 [==============================] - 22s 802us/step - loss: 0.0397 - acc: 0.9869\n",
      "Epoch 28/90\n",
      "26986/26986 [==============================] - 19s 688us/step - loss: 0.0385 - acc: 0.9861\n",
      "Epoch 29/90\n",
      "26986/26986 [==============================] - 18s 683us/step - loss: 0.0380 - acc: 0.9872\n",
      "Epoch 30/90\n",
      "26986/26986 [==============================] - 18s 685us/step - loss: 0.0355 - acc: 0.9887\n",
      "Epoch 31/90\n",
      "26986/26986 [==============================] - 18s 679us/step - loss: 0.0359 - acc: 0.9874\n",
      "Epoch 32/90\n",
      "26986/26986 [==============================] - 19s 692us/step - loss: 0.0335 - acc: 0.9891\n",
      "Epoch 33/90\n",
      "26986/26986 [==============================] - 19s 703us/step - loss: 0.0323 - acc: 0.9886\n",
      "Epoch 34/90\n",
      "26986/26986 [==============================] - 19s 700us/step - loss: 0.0331 - acc: 0.9891\n",
      "Epoch 35/90\n",
      "26986/26986 [==============================] - 19s 699us/step - loss: 0.0313 - acc: 0.9902\n",
      "Epoch 36/90\n",
      "26986/26986 [==============================] - 19s 697us/step - loss: 0.0311 - acc: 0.9905\n",
      "Epoch 37/90\n",
      "26986/26986 [==============================] - 19s 698us/step - loss: 0.0317 - acc: 0.9903\n",
      "Epoch 38/90\n",
      "26986/26986 [==============================] - 19s 712us/step - loss: 0.0302 - acc: 0.9899\n",
      "Epoch 39/90\n",
      "26986/26986 [==============================] - 19s 715us/step - loss: 0.0290 - acc: 0.9905\n",
      "Epoch 40/90\n",
      "26986/26986 [==============================] - 20s 747us/step - loss: 0.0255 - acc: 0.9913\n",
      "Epoch 41/90\n",
      "26986/26986 [==============================] - 17s 632us/step - loss: 0.0261 - acc: 0.9911\n",
      "Epoch 42/90\n",
      "26986/26986 [==============================] - 15s 546us/step - loss: 0.0262 - acc: 0.9913\n",
      "Epoch 43/90\n",
      "26986/26986 [==============================] - 18s 671us/step - loss: 0.0252 - acc: 0.9921\n",
      "Epoch 44/90\n",
      "26986/26986 [==============================] - 19s 702us/step - loss: 0.0270 - acc: 0.9917\n",
      "Epoch 45/90\n",
      "26986/26986 [==============================] - 17s 627us/step - loss: 0.0237 - acc: 0.9923\n",
      "Epoch 46/90\n",
      "26986/26986 [==============================] - 18s 684us/step - loss: 0.0258 - acc: 0.9919\n",
      "Epoch 47/90\n",
      "26986/26986 [==============================] - 18s 662us/step - loss: 0.0224 - acc: 0.9929\n",
      "Epoch 48/90\n",
      "26986/26986 [==============================] - 18s 671us/step - loss: 0.0298 - acc: 0.9926\n",
      "Epoch 49/90\n",
      "26986/26986 [==============================] - 17s 631us/step - loss: 0.0233 - acc: 0.9928\n",
      "Epoch 50/90\n",
      "26986/26986 [==============================] - 18s 677us/step - loss: 0.0229 - acc: 0.9925\n",
      "Epoch 51/90\n",
      "26986/26986 [==============================] - 19s 706us/step - loss: 0.0228 - acc: 0.9928\n",
      "Epoch 52/90\n",
      "26986/26986 [==============================] - 19s 709us/step - loss: 0.0243 - acc: 0.9926\n",
      "Epoch 53/90\n",
      "26986/26986 [==============================] - 20s 752us/step - loss: 0.0259 - acc: 0.9924\n",
      "Epoch 54/90\n",
      "26986/26986 [==============================] - 18s 676us/step - loss: 0.0263 - acc: 0.9931\n",
      "Epoch 55/90\n",
      "26986/26986 [==============================] - 15s 549us/step - loss: 0.0231 - acc: 0.9931\n",
      "Epoch 56/90\n",
      "26986/26986 [==============================] - 15s 571us/step - loss: 0.0200 - acc: 0.9943\n",
      "Epoch 57/90\n",
      "26986/26986 [==============================] - 14s 532us/step - loss: 0.0216 - acc: 0.9939\n",
      "Epoch 58/90\n",
      "26986/26986 [==============================] - 15s 538us/step - loss: 0.0214 - acc: 0.9937\n",
      "Epoch 59/90\n",
      "26986/26986 [==============================] - 15s 547us/step - loss: 0.0268 - acc: 0.9926\n",
      "Epoch 60/90\n",
      "26986/26986 [==============================] - 21s 782us/step - loss: 0.0233 - acc: 0.9932\n",
      "Epoch 61/90\n",
      "26986/26986 [==============================] - 18s 671us/step - loss: 0.0206 - acc: 0.9935\n",
      "Epoch 62/90\n",
      "26986/26986 [==============================] - 20s 737us/step - loss: 0.0235 - acc: 0.9942\n",
      "Epoch 63/90\n",
      "26986/26986 [==============================] - 19s 698us/step - loss: 0.0217 - acc: 0.9936\n",
      "Epoch 64/90\n",
      "26986/26986 [==============================] - 19s 698us/step - loss: 0.0176 - acc: 0.9946\n",
      "Epoch 65/90\n",
      "26986/26986 [==============================] - 19s 691us/step - loss: 0.0210 - acc: 0.9933\n",
      "Epoch 66/90\n",
      "26986/26986 [==============================] - 19s 696us/step - loss: 0.0181 - acc: 0.9943\n",
      "Epoch 67/90\n",
      "26986/26986 [==============================] - 20s 758us/step - loss: 0.0199 - acc: 0.9938\n",
      "Epoch 68/90\n",
      "26986/26986 [==============================] - 19s 697us/step - loss: 0.0133 - acc: 0.9954\n",
      "Epoch 69/90\n",
      "26986/26986 [==============================] - 19s 692us/step - loss: 0.0202 - acc: 0.9940\n",
      "Epoch 70/90\n",
      "26986/26986 [==============================] - 19s 705us/step - loss: 0.0186 - acc: 0.9945\n",
      "Epoch 71/90\n",
      "26986/26986 [==============================] - 20s 742us/step - loss: 0.0169 - acc: 0.9951\n",
      "Epoch 72/90\n",
      "26986/26986 [==============================] - 20s 748us/step - loss: 0.0154 - acc: 0.9951\n",
      "Epoch 73/90\n",
      "26986/26986 [==============================] - 18s 676us/step - loss: 0.0174 - acc: 0.9945\n",
      "Epoch 74/90\n",
      "26986/26986 [==============================] - 15s 545us/step - loss: 0.0148 - acc: 0.9952\n",
      "Epoch 75/90\n",
      "26986/26986 [==============================] - 15s 559us/step - loss: 0.0216 - acc: 0.9941\n",
      "Epoch 76/90\n",
      "26986/26986 [==============================] - 14s 533us/step - loss: 0.0190 - acc: 0.9939\n",
      "Epoch 77/90\n",
      "26986/26986 [==============================] - 16s 575us/step - loss: 0.0123 - acc: 0.9960\n",
      "Epoch 78/90\n",
      "26986/26986 [==============================] - 16s 577us/step - loss: 0.0157 - acc: 0.9952\n",
      "Epoch 79/90\n",
      "26986/26986 [==============================] - 16s 583us/step - loss: 0.0124 - acc: 0.9958\n",
      "Epoch 80/90\n",
      "26986/26986 [==============================] - 16s 596us/step - loss: 0.0150 - acc: 0.9959\n",
      "Epoch 81/90\n",
      "26986/26986 [==============================] - 16s 597us/step - loss: 0.0190 - acc: 0.9945\n",
      "Epoch 82/90\n",
      "26986/26986 [==============================] - 15s 557us/step - loss: 0.0166 - acc: 0.9959\n",
      "Epoch 83/90\n",
      "26986/26986 [==============================] - 15s 565us/step - loss: 0.0158 - acc: 0.9957\n",
      "Epoch 84/90\n",
      "26986/26986 [==============================] - 15s 552us/step - loss: 0.0148 - acc: 0.9957\n",
      "Epoch 85/90\n",
      "26986/26986 [==============================] - 15s 559us/step - loss: 0.0148 - acc: 0.9946\n",
      "Epoch 86/90\n",
      "26986/26986 [==============================] - 15s 563us/step - loss: 0.0188 - acc: 0.9953\n",
      "Epoch 87/90\n",
      "26986/26986 [==============================] - 16s 577us/step - loss: 0.0150 - acc: 0.9957\n",
      "Epoch 88/90\n",
      "26986/26986 [==============================] - 16s 575us/step - loss: 0.0171 - acc: 0.9947\n",
      "Epoch 89/90\n",
      "26986/26986 [==============================] - 15s 544us/step - loss: 0.0142 - acc: 0.9954\n",
      "Epoch 90/90\n",
      "26986/26986 [==============================] - 15s 568us/step - loss: 0.0140 - acc: 0.9956\n"
     ]
    }
   ],
   "source": [
    "#Fitting the data to the training dataset\n",
    "history = classifier.fit(X_train,y_train, batch_size=10, epochs=90)"
   ]
  },
  {
   "cell_type": "code",
   "execution_count": 11,
   "metadata": {},
   "outputs": [
    {
     "name": "stdout",
     "output_type": "stream",
     "text": [
      "26986/26986 [==============================] - 1s 28us/step\n"
     ]
    },
    {
     "data": {
      "text/plain": [
       "[0.015909057760661545, 0.9955161935818573]"
      ]
     },
     "execution_count": 11,
     "metadata": {},
     "output_type": "execute_result"
    }
   ],
   "source": [
    "eval_model=classifier.evaluate(X_train, y_train)\n",
    "eval_model"
   ]
  },
  {
   "cell_type": "code",
   "execution_count": 8,
   "metadata": {},
   "outputs": [
    {
     "data": {
      "text/plain": [
       "(273, 300)"
      ]
     },
     "execution_count": 8,
     "metadata": {},
     "output_type": "execute_result"
    }
   ],
   "source": [
    "X_test.shape"
   ]
  },
  {
   "cell_type": "code",
   "execution_count": 12,
   "metadata": {},
   "outputs": [],
   "source": [
    "y_pred=classifier.predict(X_test)\n",
    "y_pred =(y_pred>0.5)"
   ]
  },
  {
   "cell_type": "code",
   "execution_count": 13,
   "metadata": {},
   "outputs": [
    {
     "name": "stdout",
     "output_type": "stream",
     "text": [
      "[[109  45]\n",
      " [ 38  81]]\n"
     ]
    }
   ],
   "source": [
    "from sklearn.metrics import confusion_matrix\n",
    "cm = confusion_matrix(y_test, y_pred)\n",
    "print(cm)"
   ]
  },
  {
   "cell_type": "code",
   "execution_count": 14,
   "metadata": {},
   "outputs": [
    {
     "data": {
      "text/plain": [
       "0.6959706959706959"
      ]
     },
     "execution_count": 14,
     "metadata": {},
     "output_type": "execute_result"
    }
   ],
   "source": [
    "from sklearn.metrics import accuracy_score\n",
    "accuracy_score(y_test, y_pred)"
   ]
  },
  {
   "cell_type": "code",
   "execution_count": 15,
   "metadata": {},
   "outputs": [
    {
     "name": "stdout",
     "output_type": "stream",
     "text": [
      "Saved model to disk\n"
     ]
    }
   ],
   "source": [
    "model_json = classifier.to_json()\n",
    "with open(\"initHeadlineModel.json\", \"w\") as json_file:\n",
    "    json_file.write(model_json)\n",
    "# serialize weights to HDF5\n",
    "classifier.save_weights(\"initHeadlineModel.h5\")\n",
    "print(\"Saved model to disk\")"
   ]
  },
  {
   "cell_type": "code",
   "execution_count": 16,
   "metadata": {},
   "outputs": [
    {
     "data": {
      "image/png": "[encoded data removed]",
      "text/plain": [
       "<Figure size 864x360 with 1 Axes>"
      ]
     },
     "metadata": {
      "needs_background": "light"
     },
     "output_type": "display_data"
    },
    {
     "name": "stdout",
     "output_type": "stream",
     "text": [
      "\n",
      "\n",
      "\n",
      "\n",
      "\n",
      "\n"
     ]
    },
    {
     "data": {
      "image/png": "[encoded data removed]",
      "text/plain": [
       "<Figure size 864x360 with 1 Axes>"
      ]
     },
     "metadata": {
      "needs_background": "light"
     },
     "output_type": "display_data"
    }
   ],
   "source": [
    "plt.figure(figsize=(12,5))\n",
    "plt.plot(history.history['acc'])\n",
    "plt.title('Model Accuracy Train Set')\n",
    "plt.ylabel('Accuracy')\n",
    "plt.xlabel('Epoch')\n",
    "plt.show()\n",
    "print(\"\")\n",
    "print(\"\")\n",
    "print(\"\")\n",
    "print(\"\")\n",
    "print(\"\")\n",
    "print(\"\")\n",
    "\n",
    "\n",
    "plt.figure(figsize=(12,5))\n",
    "plt.plot(history.history['loss'])\n",
    "plt.title('Model Loss Train Set')\n",
    "plt.ylabel('Loss')\n",
    "plt.xlabel('Epoch')\n",
    "plt.show()"
   ]
  },
  {
   "cell_type": "code",
   "execution_count": 17,
   "metadata": {},
   "outputs": [
    {
     "name": "stdout",
     "output_type": "stream",
     "text": [
      "seaborn==0.9.0\n",
      "pandas==0.24.2\n",
      "numpy==1.16.4\n",
      "matplotlib==3.1.0\n"
     ]
    }
   ],
   "source": [
    "import pkg_resources\n",
    "import types\n",
    "def get_imports():\n",
    "    for name, val in globals().items():\n",
    "        if isinstance(val, types.ModuleType):\n",
    "            # Split ensures you get root package, \n",
    "            # not just imported function\n",
    "            name = val.__name__.split(\".\")[0]\n",
    "\n",
    "        elif isinstance(val, type):\n",
    "            name = val.__module__.split(\".\")[0]\n",
    "\n",
    "        # Some packages are weird and have different\n",
    "        # imported names vs. system/pip names. Unfortunately,\n",
    "        # there is no systematic way to get pip names from\n",
    "        # a package's imported name. You'll have to had\n",
    "        # exceptions to this list manually!\n",
    "        poorly_named_packages = {\n",
    "            \"PIL\": \"Pillow\",\n",
    "            \"sklearn\": \"scikit-learn\"\n",
    "        }\n",
    "        if name in poorly_named_packages.keys():\n",
    "            name = poorly_named_packages[name]\n",
    "\n",
    "        yield name\n",
    "imports = list(set(get_imports()))\n",
    "\n",
    "# The only way I found to get the version of the root package\n",
    "# from only the name of the package is to cross-check the names \n",
    "# of installed packages vs. imported packages\n",
    "requirements = []\n",
    "for m in pkg_resources.working_set:\n",
    "    if m.project_name in imports and m.project_name!=\"pip\":\n",
    "        requirements.append((m.project_name, m.version))\n",
    "\n",
    "for r in requirements:\n",
    "    print(\"{}=={}\".format(*r))"
   ]
  },
  {
   "cell_type": "code",
   "execution_count": 18,
   "metadata": {},
   "outputs": [],
   "source": [
    "model_json = classifier.to_json()\n",
    "with open(\"headlineModel.json\", \"w\") as json_file:\n",
    "    json_file.write(model_json)\n",
    "classifier.save_weights(\"headlineModel.h5\")"
   ]
  },
  {
   "cell_type": "code",
   "execution_count": 2,
   "metadata": {},
   "outputs": [
    {
     "name": "stderr",
     "output_type": "stream",
     "text": [
      "Using TensorFlow backend.\n"
     ]
    }
   ],
   "source": [
    "from keras.models import model_from_json"
   ]
  },
  {
   "cell_type": "code",
   "execution_count": 3,
   "metadata": {},
   "outputs": [
    {
     "name": "stdout",
     "output_type": "stream",
     "text": [
      "WARNING:tensorflow:From /home/bat/anaconda3/lib/python3.7/site-packages/keras/backend/tensorflow_backend.py:517: The name tf.placeholder is deprecated. Please use tf.compat.v1.placeholder instead.\n",
      "\n",
      "WARNING:tensorflow:From /home/bat/anaconda3/lib/python3.7/site-packages/keras/backend/tensorflow_backend.py:4115: The name tf.random_normal is deprecated. Please use tf.random.normal instead.\n",
      "\n",
      "WARNING:tensorflow:From /home/bat/anaconda3/lib/python3.7/site-packages/keras/backend/tensorflow_backend.py:174: The name tf.get_default_session is deprecated. Please use tf.compat.v1.get_default_session instead.\n",
      "\n",
      "WARNING:tensorflow:From /home/bat/anaconda3/lib/python3.7/site-packages/keras/backend/tensorflow_backend.py:181: The name tf.ConfigProto is deprecated. Please use tf.compat.v1.ConfigProto instead.\n",
      "\n",
      "WARNING:tensorflow:From /home/bat/anaconda3/lib/python3.7/site-packages/keras/backend/tensorflow_backend.py:186: The name tf.Session is deprecated. Please use tf.compat.v1.Session instead.\n",
      "\n"
     ]
    },
    {
     "ename": "KeyboardInterrupt",
     "evalue": "",
     "output_type": "error",
     "traceback": [
      "\u001b[0;31m---------------------------------------------------------------------------\u001b[0m",
      "\u001b[0;31mKeyboardInterrupt\u001b[0m                         Traceback (most recent call last)",
      "\u001b[0;32m<ipython-input-3-5b36ffba96ee>\u001b[0m in \u001b[0;36m<module>\u001b[0;34m\u001b[0m\n\u001b[1;32m      3\u001b[0m \u001b[0mjson_headline_file\u001b[0m\u001b[0;34m.\u001b[0m\u001b[0mclose\u001b[0m\u001b[0;34m(\u001b[0m\u001b[0;34m)\u001b[0m\u001b[0;34m\u001b[0m\u001b[0;34m\u001b[0m\u001b[0m\n\u001b[1;32m      4\u001b[0m \u001b[0mloaded_headline_model\u001b[0m \u001b[0;34m=\u001b[0m \u001b[0mmodel_from_json\u001b[0m\u001b[0;34m(\u001b[0m\u001b[0mloaded_headline_model_json\u001b[0m\u001b[0;34m)\u001b[0m\u001b[0;34m\u001b[0m\u001b[0;34m\u001b[0m\u001b[0m\n\u001b[0;32m----> 5\u001b[0;31m \u001b[0mloaded_headline_model\u001b[0m\u001b[0;34m.\u001b[0m\u001b[0mload_weights\u001b[0m\u001b[0;34m(\u001b[0m\u001b[0;34m\"headlineModel.h5\"\u001b[0m\u001b[0;34m)\u001b[0m\u001b[0;34m\u001b[0m\u001b[0;34m\u001b[0m\u001b[0m\n\u001b[0m\u001b[1;32m      6\u001b[0m \u001b[0;34m\u001b[0m\u001b[0m\n\u001b[1;32m      7\u001b[0m \u001b[0mjson_body_file\u001b[0m \u001b[0;34m=\u001b[0m \u001b[0mopen\u001b[0m\u001b[0;34m(\u001b[0m\u001b[0;34m'bodyModel.json'\u001b[0m\u001b[0;34m,\u001b[0m \u001b[0;34m'r'\u001b[0m\u001b[0;34m)\u001b[0m\u001b[0;34m\u001b[0m\u001b[0;34m\u001b[0m\u001b[0m\n",
      "\u001b[0;32m~/anaconda3/lib/python3.7/site-packages/keras/engine/network.py\u001b[0m in \u001b[0;36mload_weights\u001b[0;34m(self, filepath, by_name, skip_mismatch, reshape)\u001b[0m\n\u001b[1;32m   1164\u001b[0m             \u001b[0;32melse\u001b[0m\u001b[0;34m:\u001b[0m\u001b[0;34m\u001b[0m\u001b[0;34m\u001b[0m\u001b[0m\n\u001b[1;32m   1165\u001b[0m                 saving.load_weights_from_hdf5_group(\n\u001b[0;32m-> 1166\u001b[0;31m                     f, self.layers, reshape=reshape)\n\u001b[0m\u001b[1;32m   1167\u001b[0m \u001b[0;34m\u001b[0m\u001b[0m\n\u001b[1;32m   1168\u001b[0m     \u001b[0;32mdef\u001b[0m \u001b[0m_updated_config\u001b[0m\u001b[0;34m(\u001b[0m\u001b[0mself\u001b[0m\u001b[0;34m)\u001b[0m\u001b[0;34m:\u001b[0m\u001b[0;34m\u001b[0m\u001b[0;34m\u001b[0m\u001b[0m\n",
      "\u001b[0;32m~/anaconda3/lib/python3.7/site-packages/keras/engine/saving.py\u001b[0m in \u001b[0;36mload_weights_from_hdf5_group\u001b[0;34m(f, layers, reshape)\u001b[0m\n\u001b[1;32m   1056\u001b[0m                              ' elements.')\n\u001b[1;32m   1057\u001b[0m         \u001b[0mweight_value_tuples\u001b[0m \u001b[0;34m+=\u001b[0m \u001b[0mzip\u001b[0m\u001b[0;34m(\u001b[0m\u001b[0msymbolic_weights\u001b[0m\u001b[0;34m,\u001b[0m \u001b[0mweight_values\u001b[0m\u001b[0;34m)\u001b[0m\u001b[0;34m\u001b[0m\u001b[0;34m\u001b[0m\u001b[0m\n\u001b[0;32m-> 1058\u001b[0;31m     \u001b[0mK\u001b[0m\u001b[0;34m.\u001b[0m\u001b[0mbatch_set_value\u001b[0m\u001b[0;34m(\u001b[0m\u001b[0mweight_value_tuples\u001b[0m\u001b[0;34m)\u001b[0m\u001b[0;34m\u001b[0m\u001b[0;34m\u001b[0m\u001b[0m\n\u001b[0m\u001b[1;32m   1059\u001b[0m \u001b[0;34m\u001b[0m\u001b[0m\n\u001b[1;32m   1060\u001b[0m \u001b[0;34m\u001b[0m\u001b[0m\n",
      "\u001b[0;32m~/anaconda3/lib/python3.7/site-packages/keras/backend/tensorflow_backend.py\u001b[0m in \u001b[0;36mbatch_set_value\u001b[0;34m(tuples)\u001b[0m\n\u001b[1;32m   2468\u001b[0m             \u001b[0massign_ops\u001b[0m\u001b[0;34m.\u001b[0m\u001b[0mappend\u001b[0m\u001b[0;34m(\u001b[0m\u001b[0massign_op\u001b[0m\u001b[0;34m)\u001b[0m\u001b[0;34m\u001b[0m\u001b[0;34m\u001b[0m\u001b[0m\n\u001b[1;32m   2469\u001b[0m             \u001b[0mfeed_dict\u001b[0m\u001b[0;34m[\u001b[0m\u001b[0massign_placeholder\u001b[0m\u001b[0;34m]\u001b[0m \u001b[0;34m=\u001b[0m \u001b[0mvalue\u001b[0m\u001b[0;34m\u001b[0m\u001b[0;34m\u001b[0m\u001b[0m\n\u001b[0;32m-> 2470\u001b[0;31m         \u001b[0mget_session\u001b[0m\u001b[0;34m(\u001b[0m\u001b[0;34m)\u001b[0m\u001b[0;34m.\u001b[0m\u001b[0mrun\u001b[0m\u001b[0;34m(\u001b[0m\u001b[0massign_ops\u001b[0m\u001b[0;34m,\u001b[0m \u001b[0mfeed_dict\u001b[0m\u001b[0;34m=\u001b[0m\u001b[0mfeed_dict\u001b[0m\u001b[0;34m)\u001b[0m\u001b[0;34m\u001b[0m\u001b[0;34m\u001b[0m\u001b[0m\n\u001b[0m\u001b[1;32m   2471\u001b[0m \u001b[0;34m\u001b[0m\u001b[0m\n\u001b[1;32m   2472\u001b[0m \u001b[0;34m\u001b[0m\u001b[0m\n",
      "\u001b[0;32m~/anaconda3/lib/python3.7/site-packages/keras/backend/tensorflow_backend.py\u001b[0m in \u001b[0;36mget_session\u001b[0;34m()\u001b[0m\n\u001b[1;32m    204\u001b[0m                     \u001b[0mv\u001b[0m\u001b[0;34m.\u001b[0m\u001b[0m_keras_initialized\u001b[0m \u001b[0;34m=\u001b[0m \u001b[0;32mTrue\u001b[0m\u001b[0;34m\u001b[0m\u001b[0;34m\u001b[0m\u001b[0m\n\u001b[1;32m    205\u001b[0m                 \u001b[0;32mif\u001b[0m \u001b[0muninitialized_vars\u001b[0m\u001b[0;34m:\u001b[0m\u001b[0;34m\u001b[0m\u001b[0;34m\u001b[0m\u001b[0m\n\u001b[0;32m--> 206\u001b[0;31m                     \u001b[0msession\u001b[0m\u001b[0;34m.\u001b[0m\u001b[0mrun\u001b[0m\u001b[0;34m(\u001b[0m\u001b[0mtf\u001b[0m\u001b[0;34m.\u001b[0m\u001b[0mvariables_initializer\u001b[0m\u001b[0;34m(\u001b[0m\u001b[0muninitialized_vars\u001b[0m\u001b[0;34m)\u001b[0m\u001b[0;34m)\u001b[0m\u001b[0;34m\u001b[0m\u001b[0;34m\u001b[0m\u001b[0m\n\u001b[0m\u001b[1;32m    207\u001b[0m     \u001b[0;31m# hack for list_devices() function.\u001b[0m\u001b[0;34m\u001b[0m\u001b[0;34m\u001b[0m\u001b[0;34m\u001b[0m\u001b[0m\n\u001b[1;32m    208\u001b[0m     \u001b[0;31m# list_devices() function is not available under tensorflow r1.3.\u001b[0m\u001b[0;34m\u001b[0m\u001b[0;34m\u001b[0m\u001b[0;34m\u001b[0m\u001b[0m\n",
      "\u001b[0;32m~/anaconda3/lib/python3.7/site-packages/tensorflow/python/client/session.py\u001b[0m in \u001b[0;36mrun\u001b[0;34m(self, fetches, feed_dict, options, run_metadata)\u001b[0m\n\u001b[1;32m    948\u001b[0m     \u001b[0;32mtry\u001b[0m\u001b[0;34m:\u001b[0m\u001b[0;34m\u001b[0m\u001b[0;34m\u001b[0m\u001b[0m\n\u001b[1;32m    949\u001b[0m       result = self._run(None, fetches, feed_dict, options_ptr,\n\u001b[0;32m--> 950\u001b[0;31m                          run_metadata_ptr)\n\u001b[0m\u001b[1;32m    951\u001b[0m       \u001b[0;32mif\u001b[0m \u001b[0mrun_metadata\u001b[0m\u001b[0;34m:\u001b[0m\u001b[0;34m\u001b[0m\u001b[0;34m\u001b[0m\u001b[0m\n\u001b[1;32m    952\u001b[0m         \u001b[0mproto_data\u001b[0m \u001b[0;34m=\u001b[0m \u001b[0mtf_session\u001b[0m\u001b[0;34m.\u001b[0m\u001b[0mTF_GetBuffer\u001b[0m\u001b[0;34m(\u001b[0m\u001b[0mrun_metadata_ptr\u001b[0m\u001b[0;34m)\u001b[0m\u001b[0;34m\u001b[0m\u001b[0;34m\u001b[0m\u001b[0m\n",
      "\u001b[0;32m~/anaconda3/lib/python3.7/site-packages/tensorflow/python/client/session.py\u001b[0m in \u001b[0;36m_run\u001b[0;34m(self, handle, fetches, feed_dict, options, run_metadata)\u001b[0m\n\u001b[1;32m   1171\u001b[0m     \u001b[0;32mif\u001b[0m \u001b[0mfinal_fetches\u001b[0m \u001b[0;32mor\u001b[0m \u001b[0mfinal_targets\u001b[0m \u001b[0;32mor\u001b[0m \u001b[0;34m(\u001b[0m\u001b[0mhandle\u001b[0m \u001b[0;32mand\u001b[0m \u001b[0mfeed_dict_tensor\u001b[0m\u001b[0;34m)\u001b[0m\u001b[0;34m:\u001b[0m\u001b[0;34m\u001b[0m\u001b[0;34m\u001b[0m\u001b[0m\n\u001b[1;32m   1172\u001b[0m       results = self._do_run(handle, final_targets, final_fetches,\n\u001b[0;32m-> 1173\u001b[0;31m                              feed_dict_tensor, options, run_metadata)\n\u001b[0m\u001b[1;32m   1174\u001b[0m     \u001b[0;32melse\u001b[0m\u001b[0;34m:\u001b[0m\u001b[0;34m\u001b[0m\u001b[0;34m\u001b[0m\u001b[0m\n\u001b[1;32m   1175\u001b[0m       \u001b[0mresults\u001b[0m \u001b[0;34m=\u001b[0m \u001b[0;34m[\u001b[0m\u001b[0;34m]\u001b[0m\u001b[0;34m\u001b[0m\u001b[0;34m\u001b[0m\u001b[0m\n",
      "\u001b[0;32m~/anaconda3/lib/python3.7/site-packages/tensorflow/python/client/session.py\u001b[0m in \u001b[0;36m_do_run\u001b[0;34m(self, handle, target_list, fetch_list, feed_dict, options, run_metadata)\u001b[0m\n\u001b[1;32m   1348\u001b[0m     \u001b[0;32mif\u001b[0m \u001b[0mhandle\u001b[0m \u001b[0;32mis\u001b[0m \u001b[0;32mNone\u001b[0m\u001b[0;34m:\u001b[0m\u001b[0;34m\u001b[0m\u001b[0;34m\u001b[0m\u001b[0m\n\u001b[1;32m   1349\u001b[0m       return self._do_call(_run_fn, feeds, fetches, targets, options,\n\u001b[0;32m-> 1350\u001b[0;31m                            run_metadata)\n\u001b[0m\u001b[1;32m   1351\u001b[0m     \u001b[0;32melse\u001b[0m\u001b[0;34m:\u001b[0m\u001b[0;34m\u001b[0m\u001b[0;34m\u001b[0m\u001b[0m\n\u001b[1;32m   1352\u001b[0m       \u001b[0;32mreturn\u001b[0m \u001b[0mself\u001b[0m\u001b[0;34m.\u001b[0m\u001b[0m_do_call\u001b[0m\u001b[0;34m(\u001b[0m\u001b[0m_prun_fn\u001b[0m\u001b[0;34m,\u001b[0m \u001b[0mhandle\u001b[0m\u001b[0;34m,\u001b[0m \u001b[0mfeeds\u001b[0m\u001b[0;34m,\u001b[0m \u001b[0mfetches\u001b[0m\u001b[0;34m)\u001b[0m\u001b[0;34m\u001b[0m\u001b[0;34m\u001b[0m\u001b[0m\n",
      "\u001b[0;32m~/anaconda3/lib/python3.7/site-packages/tensorflow/python/client/session.py\u001b[0m in \u001b[0;36m_do_call\u001b[0;34m(self, fn, *args)\u001b[0m\n\u001b[1;32m   1354\u001b[0m   \u001b[0;32mdef\u001b[0m \u001b[0m_do_call\u001b[0m\u001b[0;34m(\u001b[0m\u001b[0mself\u001b[0m\u001b[0;34m,\u001b[0m \u001b[0mfn\u001b[0m\u001b[0;34m,\u001b[0m \u001b[0;34m*\u001b[0m\u001b[0margs\u001b[0m\u001b[0;34m)\u001b[0m\u001b[0;34m:\u001b[0m\u001b[0;34m\u001b[0m\u001b[0;34m\u001b[0m\u001b[0m\n\u001b[1;32m   1355\u001b[0m     \u001b[0;32mtry\u001b[0m\u001b[0;34m:\u001b[0m\u001b[0;34m\u001b[0m\u001b[0;34m\u001b[0m\u001b[0m\n\u001b[0;32m-> 1356\u001b[0;31m       \u001b[0;32mreturn\u001b[0m \u001b[0mfn\u001b[0m\u001b[0;34m(\u001b[0m\u001b[0;34m*\u001b[0m\u001b[0margs\u001b[0m\u001b[0;34m)\u001b[0m\u001b[0;34m\u001b[0m\u001b[0;34m\u001b[0m\u001b[0m\n\u001b[0m\u001b[1;32m   1357\u001b[0m     \u001b[0;32mexcept\u001b[0m \u001b[0merrors\u001b[0m\u001b[0;34m.\u001b[0m\u001b[0mOpError\u001b[0m \u001b[0;32mas\u001b[0m \u001b[0me\u001b[0m\u001b[0;34m:\u001b[0m\u001b[0;34m\u001b[0m\u001b[0;34m\u001b[0m\u001b[0m\n\u001b[1;32m   1358\u001b[0m       \u001b[0mmessage\u001b[0m \u001b[0;34m=\u001b[0m \u001b[0mcompat\u001b[0m\u001b[0;34m.\u001b[0m\u001b[0mas_text\u001b[0m\u001b[0;34m(\u001b[0m\u001b[0me\u001b[0m\u001b[0;34m.\u001b[0m\u001b[0mmessage\u001b[0m\u001b[0;34m)\u001b[0m\u001b[0;34m\u001b[0m\u001b[0;34m\u001b[0m\u001b[0m\n",
      "\u001b[0;32m~/anaconda3/lib/python3.7/site-packages/tensorflow/python/client/session.py\u001b[0m in \u001b[0;36m_run_fn\u001b[0;34m(feed_dict, fetch_list, target_list, options, run_metadata)\u001b[0m\n\u001b[1;32m   1339\u001b[0m       \u001b[0mself\u001b[0m\u001b[0;34m.\u001b[0m\u001b[0m_extend_graph\u001b[0m\u001b[0;34m(\u001b[0m\u001b[0;34m)\u001b[0m\u001b[0;34m\u001b[0m\u001b[0;34m\u001b[0m\u001b[0m\n\u001b[1;32m   1340\u001b[0m       return self._call_tf_sessionrun(\n\u001b[0;32m-> 1341\u001b[0;31m           options, feed_dict, fetch_list, target_list, run_metadata)\n\u001b[0m\u001b[1;32m   1342\u001b[0m \u001b[0;34m\u001b[0m\u001b[0m\n\u001b[1;32m   1343\u001b[0m     \u001b[0;32mdef\u001b[0m \u001b[0m_prun_fn\u001b[0m\u001b[0;34m(\u001b[0m\u001b[0mhandle\u001b[0m\u001b[0;34m,\u001b[0m \u001b[0mfeed_dict\u001b[0m\u001b[0;34m,\u001b[0m \u001b[0mfetch_list\u001b[0m\u001b[0;34m)\u001b[0m\u001b[0;34m:\u001b[0m\u001b[0;34m\u001b[0m\u001b[0;34m\u001b[0m\u001b[0m\n",
      "\u001b[0;32m~/anaconda3/lib/python3.7/site-packages/tensorflow/python/client/session.py\u001b[0m in \u001b[0;36m_call_tf_sessionrun\u001b[0;34m(self, options, feed_dict, fetch_list, target_list, run_metadata)\u001b[0m\n\u001b[1;32m   1427\u001b[0m     return tf_session.TF_SessionRun_wrapper(\n\u001b[1;32m   1428\u001b[0m         \u001b[0mself\u001b[0m\u001b[0;34m.\u001b[0m\u001b[0m_session\u001b[0m\u001b[0;34m,\u001b[0m \u001b[0moptions\u001b[0m\u001b[0;34m,\u001b[0m \u001b[0mfeed_dict\u001b[0m\u001b[0;34m,\u001b[0m \u001b[0mfetch_list\u001b[0m\u001b[0;34m,\u001b[0m \u001b[0mtarget_list\u001b[0m\u001b[0;34m,\u001b[0m\u001b[0;34m\u001b[0m\u001b[0;34m\u001b[0m\u001b[0m\n\u001b[0;32m-> 1429\u001b[0;31m         run_metadata)\n\u001b[0m\u001b[1;32m   1430\u001b[0m \u001b[0;34m\u001b[0m\u001b[0m\n\u001b[1;32m   1431\u001b[0m   \u001b[0;32mdef\u001b[0m \u001b[0m_call_tf_sessionprun\u001b[0m\u001b[0;34m(\u001b[0m\u001b[0mself\u001b[0m\u001b[0;34m,\u001b[0m \u001b[0mhandle\u001b[0m\u001b[0;34m,\u001b[0m \u001b[0mfeed_dict\u001b[0m\u001b[0;34m,\u001b[0m \u001b[0mfetch_list\u001b[0m\u001b[0;34m)\u001b[0m\u001b[0;34m:\u001b[0m\u001b[0;34m\u001b[0m\u001b[0;34m\u001b[0m\u001b[0m\n",
      "\u001b[0;31mKeyboardInterrupt\u001b[0m: "
     ]
    }
   ],
   "source": [
    "json_headline_file = open('headlineModel.json', 'r')\n",
    "loaded_headline_model_json = json_headline_file.read()\n",
    "json_headline_file.close()\n",
    "loaded_headline_model = model_from_json(loaded_headline_model_json)\n",
    "loaded_headline_model.load_weights(\"headlineModel.h5\")\n",
    "\n",
    "json_body_file = open('bodyModel.json', 'r')\n",
    "loaded_body_model_json = json_body_file.read()\n",
    "json_body_file.close()\n",
    "loaded_body_model = model_from_json(loaded_body_model_json)\n",
    "loaded_body_model.load_weights(\"bodyModel.h5\")"
   ]
  },
  {
   "cell_type": "code",
   "execution_count": null,
   "metadata": {},
   "outputs": [],
   "source": []
  }
 ],
 "metadata": {
  "kernelspec": {
   "display_name": "Python 3",
   "language": "python",
   "name": "python3"
  },
  "language_info": {
   "codemirror_mode": {
    "name": "ipython",
    "version": 3
   },
   "file_extension": ".py",
   "mimetype": "text/x-python",
   "name": "python",
   "nbconvert_exporter": "python",
   "pygments_lexer": "ipython3",
   "version": "3.7.3"
  }
 },
 "nbformat": 4,
 "nbformat_minor": 2
}
