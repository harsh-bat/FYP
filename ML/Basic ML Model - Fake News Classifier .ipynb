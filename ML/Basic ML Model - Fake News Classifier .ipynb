{
 "cells": [
  {
   "cell_type": "markdown",
   "metadata": {},
   "source": [
    "# Building a basic fake news classifier using machine learning.  \n",
    "### Steps:  \n",
    "1. Importing libraries \n",
    "2. Data preprocessing \n",
    "3. TF-IDF Vectorizer Calculation  \n",
    "4. Model Building  \n",
    "5. Model Evaluation - Cross Validation  \n",
    "6. Result Analysis  "
   ]
  },
  {
   "cell_type": "code",
   "execution_count": 1,
   "metadata": {},
   "outputs": [],
   "source": [
    "import pandas as pd\n",
    "from collections import Counter\n",
    "import re\n",
    "import numpy as np\n",
    "from sklearn.utils import shuffle\n",
    "from sklearn.linear_model import LogisticRegression\n",
    "from sklearn.model_selection import cross_val_score, StratifiedKFold\n",
    "from sklearn.model_selection import train_test_split\n",
    "from sklearn.feature_extraction.text import TfidfVectorizer\n",
    "from sklearn.feature_extraction.stop_words import ENGLISH_STOP_WORDS\n",
    "from sklearn.metrics import f1_score, accuracy_score , recall_score , precision_score, confusion_matrix\n",
    "import matplotlib.pyplot as plt\n",
    "from xgboost import XGBClassifier\n",
    "from sklearn.ensemble import RandomForestClassifier\n",
    "import seaborn as sns\n",
    "from sklearn.naive_bayes import GaussianNB\n",
    "%matplotlib inline"
   ]
  },
  {
   "cell_type": "code",
   "execution_count": 2,
   "metadata": {},
   "outputs": [],
   "source": [
    "alldata = pd.read_csv('news_dataset.csv')"
   ]
  },
  {
   "cell_type": "code",
   "execution_count": 3,
   "metadata": {},
   "outputs": [
    {
     "data": {
      "text/html": [
       "<div>\n",
       "<style scoped>\n",
       "    .dataframe tbody tr th:only-of-type {\n",
       "        vertical-align: middle;\n",
       "    }\n",
       "\n",
       "    .dataframe tbody tr th {\n",
       "        vertical-align: top;\n",
       "    }\n",
       "\n",
       "    .dataframe thead th {\n",
       "        text-align: right;\n",
       "    }\n",
       "</style>\n",
       "<table border=\"1\" class=\"dataframe\">\n",
       "  <thead>\n",
       "    <tr style=\"text-align: right;\">\n",
       "      <th></th>\n",
       "      <th>Unnamed: 0</th>\n",
       "      <th>title</th>\n",
       "      <th>content</th>\n",
       "      <th>publication</th>\n",
       "      <th>label</th>\n",
       "    </tr>\n",
       "  </thead>\n",
       "  <tbody>\n",
       "    <tr>\n",
       "      <th>0</th>\n",
       "      <td>0</td>\n",
       "      <td>Muslims BUSTED: They Stole Millions In Gov’t B...</td>\n",
       "      <td>Print They should pay all the back all the mon...</td>\n",
       "      <td>100percentfedup</td>\n",
       "      <td>fake</td>\n",
       "    </tr>\n",
       "    <tr>\n",
       "      <th>1</th>\n",
       "      <td>1</td>\n",
       "      <td>Re: Why Did Attorney General Loretta Lynch Ple...</td>\n",
       "      <td>Why Did Attorney General Loretta Lynch Plead T...</td>\n",
       "      <td>100percentfedup</td>\n",
       "      <td>fake</td>\n",
       "    </tr>\n",
       "    <tr>\n",
       "      <th>2</th>\n",
       "      <td>2</td>\n",
       "      <td>BREAKING: Weiner Cooperating With FBI On Hilla...</td>\n",
       "      <td>Red State : \\nFox News Sunday reported this mo...</td>\n",
       "      <td>100percentfedup</td>\n",
       "      <td>fake</td>\n",
       "    </tr>\n",
       "    <tr>\n",
       "      <th>3</th>\n",
       "      <td>3</td>\n",
       "      <td>PIN DROP SPEECH BY FATHER OF DAUGHTER Kidnappe...</td>\n",
       "      <td>Email Kayla Mueller was a prisoner and torture...</td>\n",
       "      <td>100percentfedup</td>\n",
       "      <td>fake</td>\n",
       "    </tr>\n",
       "    <tr>\n",
       "      <th>4</th>\n",
       "      <td>4</td>\n",
       "      <td>FANTASTIC! TRUMP'S 7 POINT PLAN To Reform Heal...</td>\n",
       "      <td>Email HEALTHCARE REFORM TO MAKE AMERICA GREAT ...</td>\n",
       "      <td>100percentfedup</td>\n",
       "      <td>fake</td>\n",
       "    </tr>\n",
       "  </tbody>\n",
       "</table>\n",
       "</div>"
      ],
      "text/plain": [
       "   Unnamed: 0                                              title  \\\n",
       "0           0  Muslims BUSTED: They Stole Millions In Gov’t B...   \n",
       "1           1  Re: Why Did Attorney General Loretta Lynch Ple...   \n",
       "2           2  BREAKING: Weiner Cooperating With FBI On Hilla...   \n",
       "3           3  PIN DROP SPEECH BY FATHER OF DAUGHTER Kidnappe...   \n",
       "4           4  FANTASTIC! TRUMP'S 7 POINT PLAN To Reform Heal...   \n",
       "\n",
       "                                             content      publication label  \n",
       "0  Print They should pay all the back all the mon...  100percentfedup  fake  \n",
       "1  Why Did Attorney General Loretta Lynch Plead T...  100percentfedup  fake  \n",
       "2  Red State : \\nFox News Sunday reported this mo...  100percentfedup  fake  \n",
       "3  Email Kayla Mueller was a prisoner and torture...  100percentfedup  fake  \n",
       "4  Email HEALTHCARE REFORM TO MAKE AMERICA GREAT ...  100percentfedup  fake  "
      ]
     },
     "execution_count": 3,
     "metadata": {},
     "output_type": "execute_result"
    }
   ],
   "source": [
    "alldata.head()"
   ]
  },
  {
   "cell_type": "code",
   "execution_count": 4,
   "metadata": {},
   "outputs": [],
   "source": [
    "alldata['label'].replace({'fake':1, 'real':0}, inplace=True)"
   ]
  },
  {
   "cell_type": "code",
   "execution_count": 5,
   "metadata": {},
   "outputs": [
    {
     "data": {
      "text/plain": [
       "True"
      ]
     },
     "execution_count": 5,
     "metadata": {},
     "output_type": "execute_result"
    }
   ],
   "source": [
    "alldata.isnull().values.any()"
   ]
  },
  {
   "cell_type": "code",
   "execution_count": 6,
   "metadata": {},
   "outputs": [],
   "source": [
    "alldata.dropna(inplace=True)"
   ]
  },
  {
   "cell_type": "code",
   "execution_count": 7,
   "metadata": {},
   "outputs": [],
   "source": [
    "X_body_text = alldata['content']\n",
    "X_headline_text = alldata['title']\n",
    "X_combined_text = 10*(alldata['title'] + \" \") + alldata['content']\n",
    "y = alldata['label']"
   ]
  },
  {
   "cell_type": "code",
   "execution_count": 10,
   "metadata": {},
   "outputs": [],
   "source": [
    "# max_df = 0.50 means \"ignore terms that appear in more than 50% of the documents\".\n",
    "# max_df = 25 means \"ignore terms that appear in more than 25 documents\".\n",
    "# The default max_df is 1.0, which means \"ignore terms that appear in more than 100% of the documents\". Thus, the default setting does not ignore any terms.\n",
    "tfidf = TfidfVectorizer(stop_words=ENGLISH_STOP_WORDS,ngram_range=(1,2),max_df= 0.85, min_df= 0.01)"
   ]
  },
  {
   "cell_type": "code",
   "execution_count": 11,
   "metadata": {},
   "outputs": [],
   "source": [
    "X_body_tfidf = tfidf.fit_transform(X_body_text)\n",
    "X_headline_tfidf = tfidf.fit_transform (X_headline_text)\n",
    "X_combined_tfidf = tfidf.fit_transform (X_combined_text)"
   ]
  },
  {
   "cell_type": "code",
   "execution_count": 13,
   "metadata": {},
   "outputs": [],
   "source": [
    "X_headline_tfidf_train, X_headline_tfidf_test, y_headline_train, y_headline_test = train_test_split(X_headline_tfidf,y, test_size = 0.2, random_state=1234)\n",
    "X_body_tfidf_train, X_body_tfidf_test, y_body_train, y_body_test = train_test_split(X_body_tfidf,y, test_size = 0.2, random_state=1234)\n",
    "X_combined_tfidf_train, X_combined_tfidf_test, y_combined_train, y_combined_test = train_test_split(X_combined_tfidf,y, test_size = 0.2, random_state=1234)"
   ]
  },
  {
   "cell_type": "markdown",
   "metadata": {},
   "source": [
    "## Logistic Regression"
   ]
  },
  {
   "cell_type": "markdown",
   "metadata": {},
   "source": [
    "#### Using Headline"
   ]
  },
  {
   "cell_type": "code",
   "execution_count": 11,
   "metadata": {},
   "outputs": [
    {
     "name": "stdout",
     "output_type": "stream",
     "text": [
      "Logistic Regression:\n",
      "\n",
      "F1 Score 61.16%\n",
      "Accuracy Score 65.54%\n",
      "Recall Score: 0.37014061207609594\n",
      "Precision Score: 0.6879323597232898\n",
      "\n",
      "Confusion Matrix:\n",
      "[[2773  406]\n",
      " [1523  895]]\n"
     ]
    }
   ],
   "source": [
    "lr_headline = LogisticRegression(penalty='l2', solver='lbfgs')\n",
    "lr_headline.fit(X_headline_tfidf_train, y_headline_train)\n",
    "y_headline_pred = lr_headline.predict(X_headline_tfidf_test)\n",
    "print (\"Logistic Regression:\\n\")\n",
    "print (\"F1 Score {:.4}%\".format( f1_score(y_headline_test, y_headline_pred, average='macro')*100 ) )\n",
    "print (\"Accuracy Score {:.4}%\".format(accuracy_score(y_headline_test, y_headline_pred)*100) )\n",
    "print(f\"Recall Score: {recall_score(y_headline_test, y_headline_pred)}\")\n",
    "print(f\"Precision Score: {precision_score(y_headline_test, y_headline_pred)}\")\n",
    "print(\"\\nConfusion Matrix:\")\n",
    "print(confusion_matrix(y_headline_test, y_headline_pred))"
   ]
  },
  {
   "cell_type": "code",
   "execution_count": 12,
   "metadata": {},
   "outputs": [
    {
     "name": "stdout",
     "output_type": "stream",
     "text": [
      "[0.64607143 0.66035714 0.65916399 0.64724803 0.6336669  0.6350965\n",
      " 0.63652609 0.65618299 0.65582559 0.64081487]\n",
      "\n",
      "Cross Validation Mean Score: 0.6470953530689779\n"
     ]
    }
   ],
   "source": [
    "cros_val_list = cross_val_score(lr_headline, X_headline_tfidf, y, cv=StratifiedKFold(n_splits=10, shuffle=True, random_state=1234))\n",
    "print(cros_val_list)\n",
    "print(f\"\\nCross Validation Mean Score: {cros_val_list.mean()}\")"
   ]
  },
  {
   "cell_type": "markdown",
   "metadata": {},
   "source": [
    "### Using content"
   ]
  },
  {
   "cell_type": "code",
   "execution_count": 13,
   "metadata": {},
   "outputs": [
    {
     "name": "stdout",
     "output_type": "stream",
     "text": [
      "Logistic Regression:\n",
      "\n",
      "F1 Score 92.77%\n",
      "Accuracy Score 92.91%\n",
      "Recall Score: 0.9181141439205955\n",
      "Precision Score: 0.9177346010748243\n",
      "\n",
      "Confusion Matrix:\n",
      "[[2980  199]\n",
      " [ 198 2220]]\n"
     ]
    }
   ],
   "source": [
    "lr_body = LogisticRegression(penalty='l2', solver='lbfgs')\n",
    "lr_body.fit(X_body_tfidf_train, y_body_train)\n",
    "y_body_pred = lr_body.predict(X_body_tfidf_test)\n",
    "print (\"Logistic Regression:\\n\")\n",
    "print (\"F1 Score {:.4}%\".format( f1_score(y_body_test, y_body_pred, average='macro')*100 ) )\n",
    "print (\"Accuracy Score {:.4}%\".format(accuracy_score(y_body_test, y_body_pred)*100) )\n",
    "print(f\"Recall Score: {recall_score(y_body_test, y_body_pred)}\")\n",
    "print(f\"Precision Score: {precision_score(y_body_test, y_body_pred)}\")\n",
    "print(\"\\nConfusion Matrix:\")\n",
    "print(confusion_matrix(y_body_test, y_body_pred))"
   ]
  },
  {
   "cell_type": "code",
   "execution_count": 14,
   "metadata": {},
   "outputs": [
    {
     "name": "stdout",
     "output_type": "stream",
     "text": [
      "[0.92285714 0.92285714 0.93068953 0.92530379 0.94031451 0.93459614\n",
      " 0.93280915 0.93209435 0.93173695 0.91887062]\n",
      "\n",
      "Cross Validation Mean Score: 0.9292129335917296\n"
     ]
    }
   ],
   "source": [
    "cros_val_list = cross_val_score(lr_body, X_body_tfidf, y, cv=StratifiedKFold(n_splits=10, shuffle=True, random_state=1234))\n",
    "print(cros_val_list)\n",
    "print(f\"\\nCross Validation Mean Score: {cros_val_list.mean()}\")"
   ]
  },
  {
   "cell_type": "markdown",
   "metadata": {},
   "source": [
    "### Using headline and content"
   ]
  },
  {
   "cell_type": "code",
   "execution_count": 15,
   "metadata": {},
   "outputs": [
    {
     "name": "stdout",
     "output_type": "stream",
     "text": [
      "Logistic Regression:\n",
      "\n",
      "F1 Score 89.98%\n",
      "Accuracy Score 90.17%\n",
      "Recall Score: 0.8842018196856907\n",
      "Precision Score: 0.8878737541528239\n",
      "\n",
      "Confusion Matrix:\n",
      "[[2909  270]\n",
      " [ 280 2138]]\n"
     ]
    }
   ],
   "source": [
    "lr_combined = LogisticRegression(penalty='l2', solver='lbfgs')\n",
    "lr_combined.fit(X_combined_tfidf_train, y_combined_train)\n",
    "y_combined_pred = lr_combined.predict(X_combined_tfidf_test)\n",
    "print (\"Logistic Regression:\\n\")\n",
    "print (\"F1 Score {:.4}%\".format( f1_score(y_combined_test, y_combined_pred, average='macro')*100 ) )\n",
    "print (\"Accuracy Score {:.4}%\".format(accuracy_score(y_combined_test, y_combined_pred)*100) )\n",
    "print(f\"Recall Score: {recall_score(y_combined_test, y_combined_pred)}\")\n",
    "print(f\"Precision Score: {precision_score(y_combined_test, y_combined_pred)}\")\n",
    "print(\"\\nConfusion Matrix:\")\n",
    "print(confusion_matrix(y_combined_test, y_combined_pred))"
   ]
  },
  {
   "cell_type": "code",
   "execution_count": 16,
   "metadata": {},
   "outputs": [
    {
     "name": "stdout",
     "output_type": "stream",
     "text": [
      "[0.89857143 0.9        0.90139335 0.90564689 0.90850608 0.9042173\n",
      " 0.90135811 0.9031451  0.9038599  0.89706934]\n",
      "\n",
      "Cross Validation Mean Score: 0.9023767499566866\n"
     ]
    }
   ],
   "source": [
    "cros_val_list = cross_val_score(lr_combined, X_combined_tfidf, y, cv=StratifiedKFold(n_splits=10, shuffle=True, random_state=1234))\n",
    "print(cros_val_list)\n",
    "print(f\"\\nCross Validation Mean Score: {cros_val_list.mean()}\")"
   ]
  },
  {
   "cell_type": "markdown",
   "metadata": {},
   "source": [
    "## Random Forest"
   ]
  },
  {
   "cell_type": "markdown",
   "metadata": {},
   "source": [
    "### Using headline"
   ]
  },
  {
   "cell_type": "code",
   "execution_count": 17,
   "metadata": {},
   "outputs": [
    {
     "name": "stdout",
     "output_type": "stream",
     "text": [
      "Random Forest: \n",
      "\n",
      "F1 Score 61.17%\n",
      "Accuracy Score 66.02%\n",
      "Recall Score: 0.35525227460711334\n",
      "Precision Score: 0.7146422628951747\n",
      "\n",
      "Confusion Matrix:\n",
      "[[2836  343]\n",
      " [1559  859]]\n"
     ]
    }
   ],
   "source": [
    "rcf_headline = RandomForestClassifier(n_estimators=50,n_jobs=3)\n",
    "rcf_headline.fit(X_headline_tfidf_train, y_headline_train)\n",
    "y_rc_headline_pred = rcf_headline.predict(X_headline_tfidf_test)\n",
    "print(\"Random Forest: \\n\")\n",
    "print(\"F1 Score {:.4}%\".format( f1_score(y_headline_test, y_rc_headline_pred, average='macro')*100 ))\n",
    "print(\"Accuracy Score {:.4}%\".format(accuracy_score(y_headline_test, y_rc_headline_pred)*100))\n",
    "print(f\"Recall Score: {recall_score(y_headline_test, y_rc_headline_pred)}\")\n",
    "print(f\"Precision Score: {precision_score(y_headline_test, y_rc_headline_pred)}\")\n",
    "print(\"\\nConfusion Matrix:\")\n",
    "print(confusion_matrix(y_headline_test, y_rc_headline_pred))"
   ]
  },
  {
   "cell_type": "code",
   "execution_count": 18,
   "metadata": {},
   "outputs": [
    {
     "name": "stdout",
     "output_type": "stream",
     "text": [
      "[0.66607143 0.655      0.66416577 0.654396   0.6343817  0.64045747\n",
      " 0.65046462 0.66619014 0.66511794 0.64974982]\n",
      "\n",
      "Cross Validation Mean Score: 0.6545994886122004\n"
     ]
    }
   ],
   "source": [
    "cros_val_list = cross_val_score(rcf_headline, X_headline_tfidf, y, cv=StratifiedKFold(n_splits=10, shuffle=True, random_state=1234))\n",
    "print(cros_val_list)\n",
    "print(f\"\\nCross Validation Mean Score: {cros_val_list.mean()}\")"
   ]
  },
  {
   "cell_type": "markdown",
   "metadata": {},
   "source": [
    "### Using content"
   ]
  },
  {
   "cell_type": "code",
   "execution_count": 19,
   "metadata": {},
   "outputs": [
    {
     "name": "stdout",
     "output_type": "stream",
     "text": [
      "Random Forest: \n",
      "\n",
      "F1 Score 86.05%\n",
      "Accuracy Score 86.6%\n",
      "Recall Score: 0.7725392886683209\n",
      "Precision Score: 0.9032882011605415\n",
      "\n",
      "Confusion Matrix:\n",
      "[[2979  200]\n",
      " [ 550 1868]]\n"
     ]
    }
   ],
   "source": [
    "rcf_body = RandomForestClassifier(n_estimators=10,n_jobs=3)\n",
    "rcf_body.fit(X_body_tfidf_train, y_body_train)\n",
    "y_rc_body_pred = rcf_body.predict(X_body_tfidf_test)\n",
    "print(\"Random Forest: \\n\")\n",
    "print(\"F1 Score {:.4}%\".format( f1_score(y_body_test, y_rc_body_pred, average='macro')*100 ))\n",
    "print(\"Accuracy Score {:.4}%\".format(accuracy_score(y_body_test, y_rc_body_pred)*100))\n",
    "print(f\"Recall Score: {recall_score(y_body_test, y_rc_body_pred)}\")\n",
    "print(f\"Precision Score: {precision_score(y_body_test, y_rc_body_pred)}\")\n",
    "print(\"\\nConfusion Matrix:\")\n",
    "print(confusion_matrix(y_body_test, y_rc_body_pred))"
   ]
  },
  {
   "cell_type": "code",
   "execution_count": 20,
   "metadata": {},
   "outputs": [
    {
     "name": "stdout",
     "output_type": "stream",
     "text": [
      "[0.87357143 0.86071429 0.8742408  0.86025733 0.85561115 0.87312366\n",
      " 0.87240886 0.8645461  0.87455325 0.8652609 ]\n",
      "\n",
      "Cross Validation Mean Score: 0.867428777261299\n"
     ]
    }
   ],
   "source": [
    "cros_val_list = cross_val_score(rcf_body, X_body_tfidf, y, cv=StratifiedKFold(n_splits=10, shuffle=True, random_state=1234))\n",
    "print(cros_val_list)\n",
    "print(f\"\\nCross Validation Mean Score: {cros_val_list.mean()}\")"
   ]
  },
  {
   "cell_type": "markdown",
   "metadata": {},
   "source": [
    "### Using headline and content"
   ]
  },
  {
   "cell_type": "code",
   "execution_count": 21,
   "metadata": {},
   "outputs": [
    {
     "name": "stdout",
     "output_type": "stream",
     "text": [
      "Random Forest: \n",
      "\n",
      "F1 Score 84.85%\n",
      "Accuracy Score 85.51%\n",
      "Recall Score: 0.7485525227460711\n",
      "Precision Score: 0.8991554893194238\n",
      "\n",
      "Confusion Matrix:\n",
      "[[2976  203]\n",
      " [ 608 1810]]\n"
     ]
    }
   ],
   "source": [
    "rcf_combined = RandomForestClassifier(n_estimators=10,n_jobs=3)\n",
    "rcf_combined.fit(X_combined_tfidf_train, y_combined_train)\n",
    "y_rc_combined_pred = rcf_combined.predict(X_combined_tfidf_test)\n",
    "print(\"Random Forest: \\n\")\n",
    "print(\"F1 Score {:.4}%\".format( f1_score(y_combined_test, y_rc_combined_pred, average='macro')*100 ))\n",
    "print(\"Accuracy Score {:.4}%\".format(accuracy_score(y_combined_test, y_rc_combined_pred)*100))\n",
    "print(f\"Recall Score: {recall_score(y_combined_test, y_rc_combined_pred)}\")\n",
    "print(f\"Precision Score: {precision_score(y_combined_test, y_rc_combined_pred)}\")\n",
    "print(\"\\nConfusion Matrix:\")\n",
    "print(confusion_matrix(y_combined_test, y_rc_combined_pred))"
   ]
  },
  {
   "cell_type": "code",
   "execution_count": 22,
   "metadata": {},
   "outputs": [
    {
     "name": "stdout",
     "output_type": "stream",
     "text": [
      "[0.86178571 0.86035714 0.85780636 0.85632595 0.86669049 0.86347391\n",
      " 0.86812009 0.86347391 0.85739814 0.86132952]\n",
      "\n",
      "Cross Validation Mean Score: 0.8616761225134489\n"
     ]
    }
   ],
   "source": [
    "cros_val_list = cross_val_score(rcf_combined, X_combined_tfidf, y, cv=StratifiedKFold(n_splits=10, shuffle=True, random_state=1234))\n",
    "print(cros_val_list)\n",
    "print(f\"\\nCross Validation Mean Score: {cros_val_list.mean()}\")"
   ]
  },
  {
   "cell_type": "markdown",
   "metadata": {},
   "source": [
    "## XGBoost Classifier"
   ]
  },
  {
   "cell_type": "markdown",
   "metadata": {},
   "source": [
    "### Using headline"
   ]
  },
  {
   "cell_type": "code",
   "execution_count": 23,
   "metadata": {},
   "outputs": [
    {
     "name": "stdout",
     "output_type": "stream",
     "text": [
      "XGBoost: \n",
      "\n",
      "F1 Score 59.19%\n",
      "Accuracy Score 65.86%\n",
      "Recall Score: 0.2944582299421009\n",
      "Precision Score: 0.7764449291166848\n",
      "\n",
      "Confusion Matrix:\n",
      "[[2974  205]\n",
      " [1706  712]]\n"
     ]
    }
   ],
   "source": [
    "xgb_headline = XGBClassifier()\n",
    "xgb_headline.fit(X_headline_tfidf_train, y_headline_train)\n",
    "y_xgb_headline_pred = xgb_headline.predict(X_headline_tfidf_test)\n",
    "print(\"XGBoost: \\n\")\n",
    "print( \"F1 Score {:.4}%\".format( f1_score(y_headline_test, y_xgb_headline_pred, average='macro')*100 ))\n",
    "print( \"Accuracy Score {:.4}%\".format(accuracy_score(y_headline_test, y_xgb_headline_pred)*100))\n",
    "print(f\"Recall Score: {recall_score(y_headline_test, y_xgb_headline_pred)}\")\n",
    "print(f\"Precision Score: {precision_score(y_headline_test, y_xgb_headline_pred)}\")\n",
    "print(\"\\nConfusion Matrix:\")\n",
    "print(confusion_matrix(y_headline_test, y_xgb_headline_pred))"
   ]
  },
  {
   "cell_type": "code",
   "execution_count": 24,
   "metadata": {},
   "outputs": [
    {
     "name": "stdout",
     "output_type": "stream",
     "text": [
      "[0.655      0.65678571 0.66095034 0.64939242 0.63295211 0.64045747\n",
      " 0.64045747 0.65832738 0.65582559 0.64724803]\n",
      "\n",
      "Cross Validation Mean Score: 0.6497396525458192\n"
     ]
    }
   ],
   "source": [
    "cros_val_list = cross_val_score(xgb_headline, X_headline_tfidf, y, cv=StratifiedKFold(n_splits=10, shuffle=True, random_state=1234))\n",
    "print(cros_val_list)\n",
    "print(f\"\\nCross Validation Mean Score: {cros_val_list.mean()}\")"
   ]
  },
  {
   "cell_type": "markdown",
   "metadata": {},
   "source": [
    "### Using content"
   ]
  },
  {
   "cell_type": "code",
   "execution_count": 25,
   "metadata": {},
   "outputs": [
    {
     "name": "stdout",
     "output_type": "stream",
     "text": [
      "XGBoost: \n",
      "\n",
      "F1 Score 90.59%\n",
      "Accuracy Score 90.78%\n",
      "Recall Score: 0.8875103391232424\n",
      "Precision Score: 0.897907949790795\n",
      "\n",
      "Confusion Matrix:\n",
      "[[2935  244]\n",
      " [ 272 2146]]\n"
     ]
    }
   ],
   "source": [
    "xgb_body = XGBClassifier()\n",
    "xgb_body.fit(X_body_tfidf_train, y_body_train)\n",
    "y_xgb_body_pred = xgb_body.predict(X_body_tfidf_test)\n",
    "print(\"XGBoost: \\n\")\n",
    "print( \"F1 Score {:.4}%\".format( f1_score(y_body_test, y_xgb_body_pred, average='macro')*100 ))\n",
    "print( \"Accuracy Score {:.4}%\".format(accuracy_score(y_body_test, y_xgb_body_pred)*100))\n",
    "print(f\"Recall Score: {recall_score(y_body_test, y_xgb_body_pred)}\")\n",
    "print(f\"Precision Score: {precision_score(y_body_test, y_xgb_body_pred)}\")\n",
    "print(\"\\nConfusion Matrix:\")\n",
    "print(confusion_matrix(y_body_test, y_xgb_body_pred))"
   ]
  },
  {
   "cell_type": "code",
   "execution_count": 26,
   "metadata": {},
   "outputs": [
    {
     "name": "stdout",
     "output_type": "stream",
     "text": [
      "[0.89773824 0.90201544 0.89644082]\n",
      "\n",
      "Cross Validation Mean Score: 0.8987314987766005\n"
     ]
    }
   ],
   "source": [
    "cros_val_list = cross_val_score(xgb_body, X_body_tfidf, y, cv=StratifiedKFold(n_splits=3, shuffle=True, random_state=1234))\n",
    "print(cros_val_list)\n",
    "print(f\"\\nCross Validation Mean Score: {cros_val_list.mean()}\")"
   ]
  },
  {
   "cell_type": "markdown",
   "metadata": {},
   "source": [
    "### Using headline and content"
   ]
  },
  {
   "cell_type": "code",
   "execution_count": 27,
   "metadata": {},
   "outputs": [
    {
     "name": "stdout",
     "output_type": "stream",
     "text": [
      "XGBoost: \n",
      "\n",
      "F1 Score 90.01%\n",
      "Accuracy Score 90.19%\n",
      "Recall Score: 0.8875103391232424\n",
      "Precision Score: 0.8856789104416013\n",
      "\n",
      "Confusion Matrix:\n",
      "[[2902  277]\n",
      " [ 272 2146]]\n"
     ]
    }
   ],
   "source": [
    "xgb_combined = XGBClassifier()\n",
    "xgb_combined.fit(X_combined_tfidf_train, y_combined_train)\n",
    "y_xgb_combined_pred = xgb_combined.predict(X_combined_tfidf_test)\n",
    "print(\"XGBoost: \\n\")\n",
    "print( \"F1 Score {:.4}%\".format( f1_score(y_combined_test, y_xgb_combined_pred, average='macro')*100 ))\n",
    "print( \"Accuracy Score {:.4}%\".format(accuracy_score(y_combined_test, y_xgb_combined_pred)*100))\n",
    "print(f\"Recall Score: {recall_score(y_combined_test, y_xgb_combined_pred)}\")\n",
    "print(f\"Precision Score: {precision_score(y_combined_test, y_xgb_combined_pred)}\")\n",
    "print(\"\\nConfusion Matrix:\")\n",
    "print(confusion_matrix(y_combined_test, y_xgb_combined_pred))"
   ]
  },
  {
   "cell_type": "code",
   "execution_count": 28,
   "metadata": {},
   "outputs": [
    {
     "name": "stdout",
     "output_type": "stream",
     "text": [
      "[0.9011684  0.90501715 0.89944254]\n",
      "\n",
      "Cross Validation Mean Score: 0.9018760302887502\n"
     ]
    }
   ],
   "source": [
    "cros_val_list = cross_val_score(xgb_combined, X_combined_tfidf, y, cv=StratifiedKFold(n_splits=3, shuffle=True, random_state=1234))\n",
    "print(cros_val_list)\n",
    "print(f\"\\nCross Validation Mean Score: {cros_val_list.mean()}\")"
   ]
  },
  {
   "cell_type": "markdown",
   "metadata": {},
   "source": [
    "## Naive Bayes"
   ]
  },
  {
   "cell_type": "markdown",
   "metadata": {},
   "source": [
    "### Using headline"
   ]
  },
  {
   "cell_type": "code",
   "execution_count": 29,
   "metadata": {},
   "outputs": [
    {
     "name": "stdout",
     "output_type": "stream",
     "text": [
      "Naive Bayes: \n",
      "\n",
      "F1 Score 61.85%\n",
      "Accuracy Score 64.5%\n",
      "Recall Score: 0.4412737799834574\n",
      "Precision Score: 0.6265413975337639\n",
      "\n",
      "Confusion Matrix:\n",
      "[[2543  636]\n",
      " [1351 1067]]\n"
     ]
    }
   ],
   "source": [
    "nb_headline = GaussianNB()\n",
    "nb_headline.fit(X_headline_tfidf_train.toarray(), y_headline_train)\n",
    "y_nb_headline_pred = nb_headline.predict(X_headline_tfidf_test.toarray())\n",
    "print(\"Naive Bayes: \\n\")\n",
    "print( \"F1 Score {:.4}%\".format( f1_score(y_headline_test, y_nb_headline_pred, average='macro')*100 ))\n",
    "print( \"Accuracy Score {:.4}%\".format(accuracy_score(y_headline_test, y_nb_headline_pred)*100))\n",
    "print(f\"Recall Score: {recall_score(y_headline_test, y_nb_headline_pred)}\")\n",
    "print(f\"Precision Score: {precision_score(y_headline_test, y_nb_headline_pred)}\")\n",
    "print(\"\\nConfusion Matrix:\")\n",
    "print(confusion_matrix(y_headline_test, y_nb_headline_pred))"
   ]
  },
  {
   "cell_type": "code",
   "execution_count": 30,
   "metadata": {},
   "outputs": [
    {
     "name": "stdout",
     "output_type": "stream",
     "text": [
      "[0.64285714 0.6475     0.64951768 0.64152966 0.62830593 0.62294496\n",
      " 0.63045032 0.64832023 0.65010722 0.62473195]\n",
      "\n",
      "Cross Validation Mean Score: 0.6386265106515154\n"
     ]
    }
   ],
   "source": [
    "cros_val_list = cross_val_score(nb_headline, X_headline_tfidf.toarray(), y, cv=StratifiedKFold(n_splits=10, shuffle=True, random_state=1234))\n",
    "print(cros_val_list)\n",
    "print(f\"\\nCross Validation Mean Score: {cros_val_list.mean()}\")"
   ]
  },
  {
   "cell_type": "markdown",
   "metadata": {},
   "source": [
    "### Using content"
   ]
  },
  {
   "cell_type": "code",
   "execution_count": 31,
   "metadata": {},
   "outputs": [
    {
     "name": "stdout",
     "output_type": "stream",
     "text": [
      "Naive Bayes: \n",
      "\n",
      "F1 Score 75.75%\n",
      "Accuracy Score 75.84%\n",
      "Recall Score: 0.9499586435070306\n",
      "Precision Score: 0.6510770975056689\n",
      "\n",
      "Confusion Matrix:\n",
      "[[1948 1231]\n",
      " [ 121 2297]]\n"
     ]
    }
   ],
   "source": [
    "nb_body = GaussianNB()\n",
    "nb_body.fit(X_body_tfidf_train.toarray(), y_body_train)\n",
    "y_nb_body_pred = nb_body.predict(X_body_tfidf_test.toarray())\n",
    "print(\"Naive Bayes: \\n\")\n",
    "print( \"F1 Score {:.4}%\".format( f1_score(y_body_test, y_nb_body_pred, average='macro')*100 ))\n",
    "print( \"Accuracy Score {:.4}%\".format(accuracy_score(y_body_test, y_nb_body_pred)*100))\n",
    "print(f\"Recall Score: {recall_score(y_body_test, y_nb_body_pred)}\")\n",
    "print(f\"Precision Score: {precision_score(y_body_test, y_nb_body_pred)}\")\n",
    "print(\"\\nConfusion Matrix:\")\n",
    "print(confusion_matrix(y_body_test, y_nb_body_pred))"
   ]
  },
  {
   "cell_type": "code",
   "execution_count": 32,
   "metadata": {},
   "outputs": [
    {
     "name": "stdout",
     "output_type": "stream",
     "text": [
      "[0.76714286 0.76678571 0.75884244 0.7687634  0.76626162 0.76590422\n",
      " 0.76590422 0.77877055 0.76090064 0.7698356 ]\n",
      "\n",
      "Cross Validation Mean Score: 0.7669111258189212\n"
     ]
    }
   ],
   "source": [
    "cros_val_list = cross_val_score(nb_body, X_body_tfidf.toarray(), y, cv=StratifiedKFold(n_splits=10, shuffle=True, random_state=1234))\n",
    "print(cros_val_list)\n",
    "print(f\"\\nCross Validation Mean Score: {cros_val_list.mean()}\")"
   ]
  },
  {
   "cell_type": "markdown",
   "metadata": {},
   "source": [
    "### Using headline and content"
   ]
  },
  {
   "cell_type": "code",
   "execution_count": 33,
   "metadata": {},
   "outputs": [
    {
     "name": "stdout",
     "output_type": "stream",
     "text": [
      "Naive Bayes: \n",
      "\n",
      "F1 Score 76.84%\n",
      "Accuracy Score 76.84%\n",
      "Recall Score: 0.8672456575682382\n",
      "Precision Score: 0.6826171875\n",
      "\n",
      "Confusion Matrix:\n",
      "[[2204  975]\n",
      " [ 321 2097]]\n"
     ]
    }
   ],
   "source": [
    "nb_combined = GaussianNB()\n",
    "nb_combined.fit(X_combined_tfidf_train.toarray(), y_combined_train)\n",
    "y_nb_combined_pred = nb_combined.predict(X_combined_tfidf_test.toarray())\n",
    "print(\"Naive Bayes: \\n\")\n",
    "print( \"F1 Score {:.4}%\".format( f1_score(y_combined_test, y_nb_combined_pred, average='macro')*100 ))\n",
    "print( \"Accuracy Score {:.4}%\".format(accuracy_score(y_combined_test, y_nb_combined_pred)*100))\n",
    "print(f\"Recall Score: {recall_score(y_combined_test, y_nb_combined_pred)}\")\n",
    "print(f\"Precision Score: {precision_score(y_combined_test, y_nb_combined_pred)}\")\n",
    "print(\"\\nConfusion Matrix:\")\n",
    "print(confusion_matrix(y_combined_test, y_nb_combined_pred))"
   ]
  },
  {
   "cell_type": "code",
   "execution_count": 34,
   "metadata": {},
   "outputs": [
    {
     "name": "stdout",
     "output_type": "stream",
     "text": [
      "[0.76777421 0.76813148 0.77077006 0.77698356 0.77090779]\n",
      "\n",
      "Cross Validation Mean Score: 0.7709134173904008\n"
     ]
    }
   ],
   "source": [
    "cros_val_list = cross_val_score(nb_combined, X_combined_tfidf.toarray(), y, cv=StratifiedKFold(n_splits=5, shuffle=True, random_state=1234))\n",
    "print(cros_val_list)\n",
    "print(f\"\\nCross Validation Mean Score: {cros_val_list.mean()}\")"
   ]
  }
 ],
 "metadata": {
  "kernelspec": {
   "display_name": "Python 3",
   "language": "python",
   "name": "python3"
  },
  "language_info": {
   "codemirror_mode": {
    "name": "ipython",
    "version": 3
   },
   "file_extension": ".py",
   "mimetype": "text/x-python",
   "name": "python",
   "nbconvert_exporter": "python",
   "pygments_lexer": "ipython3",
   "version": "3.7.3"
  }
 },
 "nbformat": 4,
 "nbformat_minor": 2
}
