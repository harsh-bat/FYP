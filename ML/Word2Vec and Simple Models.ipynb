{
 "cells": [
  {
   "cell_type": "markdown",
   "metadata": {},
   "source": [
    "# word2vec with Simple Models "
   ]
  },
  {
   "cell_type": "code",
   "execution_count": 1,
   "metadata": {},
   "outputs": [],
   "source": [
    "import pandas as pd\n",
    "from collections import Counter\n",
    "import re\n",
    "import numpy as np\n",
    "from sklearn.utils import shuffle\n",
    "from sklearn.linear_model import LogisticRegression\n",
    "from sklearn.model_selection import cross_val_score, StratifiedKFold\n",
    "from sklearn.model_selection import train_test_split\n",
    "from sklearn.feature_extraction.text import TfidfVectorizer\n",
    "from sklearn.feature_extraction.stop_words import ENGLISH_STOP_WORDS\n",
    "from sklearn.metrics import f1_score, accuracy_score , recall_score , precision_score, confusion_matrix\n",
    "import matplotlib.pyplot as plt\n",
    "from xgboost import XGBClassifier\n",
    "from sklearn.ensemble import RandomForestClassifier\n",
    "import seaborn as sns\n",
    "from sklearn.naive_bayes import GaussianNB\n",
    "%matplotlib inline\n",
    "import gensim\n",
    "from nltk.tokenize import word_tokenize\n",
    "from nltk.corpus import stopwords"
   ]
  },
  {
   "cell_type": "code",
   "execution_count": 2,
   "metadata": {},
   "outputs": [],
   "source": [
    "headline_vec = pd.read_csv(\"Headline Vector.csv\")\n",
    "body_vec = pd.read_csv(\"Body Vector.csv\")"
   ]
  },
  {
   "cell_type": "code",
   "execution_count": 3,
   "metadata": {},
   "outputs": [],
   "source": [
    "headline_vec.dropna(inplace=True)\n",
    "body_vec.dropna(inplace=True)"
   ]
  },
  {
   "cell_type": "code",
   "execution_count": 4,
   "metadata": {},
   "outputs": [],
   "source": [
    "X_headline_vec = headline_vec.drop([\"Fake\"],axis=1)\n",
    "X_body_vec = body_vec.drop([\"Fake\"],axis=1)"
   ]
  },
  {
   "cell_type": "code",
   "execution_count": 5,
   "metadata": {},
   "outputs": [],
   "source": [
    "y_headline_vec = headline_vec[\"Fake\"]\n",
    "y_body_vec = body_vec[\"Fake\"]"
   ]
  },
  {
   "cell_type": "code",
   "execution_count": 6,
   "metadata": {},
   "outputs": [],
   "source": [
    "X_headline_vec_train, X_headline_vec_test, y_headline_train, y_headline_test = train_test_split(X_headline_vec,y_headline_vec, test_size = 0.2, random_state=1234)"
   ]
  },
  {
   "cell_type": "code",
   "execution_count": 7,
   "metadata": {},
   "outputs": [],
   "source": [
    "X_body_vec_train, X_body_vec_test, y_body_train, y_body_test = train_test_split(X_body_vec,y_body_vec, test_size = 0.2, random_state=1234)"
   ]
  },
  {
   "cell_type": "markdown",
   "metadata": {},
   "source": [
    "## Using headline"
   ]
  },
  {
   "cell_type": "code",
   "execution_count": 11,
   "metadata": {},
   "outputs": [
    {
     "name": "stdout",
     "output_type": "stream",
     "text": [
      "Logistic Regression:\n",
      "\n",
      "F1 Score 67.35%\n",
      "Accuracy Score 68.09%\n",
      "Recall Score: 0.5888572590483937\n",
      "Precision Score: 0.6651355075792375\n",
      "\n",
      "Confusion Matrix:\n",
      "[[2264  729]\n",
      " [1011 1448]]\n",
      "[0.68683535 0.67290062 0.68390172 0.68451944 0.67241379 0.68561996\n",
      " 0.69981651 0.68513761 0.67045872 0.67449541]\n",
      "\n",
      "Cross Validation Mean Score: 0.6816099145473139\n"
     ]
    }
   ],
   "source": [
    "lr_headline = LogisticRegression(penalty='l2', solver='lbfgs')\n",
    "lr_headline.fit(X_headline_vec_train, y_headline_train)\n",
    "y_headline_pred = lr_headline.predict(X_headline_vec_test)\n",
    "print (\"Logistic Regression:\\n\")\n",
    "print (\"F1 Score {:.4}%\".format( f1_score(y_headline_test, y_headline_pred, average='macro')*100 ) )\n",
    "print (\"Accuracy Score {:.4}%\".format(accuracy_score(y_headline_test, y_headline_pred)*100) )\n",
    "print(f\"Recall Score: {recall_score(y_headline_test, y_headline_pred)}\")\n",
    "print(f\"Precision Score: {precision_score(y_headline_test, y_headline_pred)}\")\n",
    "print(\"\\nConfusion Matrix:\")\n",
    "print(confusion_matrix(y_headline_test, y_headline_pred))\n",
    "cros_val_list = cross_val_score(lr_headline, X_headline_vec, y_headline_vec, cv=StratifiedKFold(n_splits=10, shuffle=True, random_state=1234))\n",
    "print(cros_val_list)\n",
    "print(f\"\\nCross Validation Mean Score: {cros_val_list.mean()}\")"
   ]
  },
  {
   "cell_type": "code",
   "execution_count": 12,
   "metadata": {},
   "outputs": [
    {
     "name": "stdout",
     "output_type": "stream",
     "text": [
      "XGBoost: \n",
      "\n",
      "F1 Score 66.47%\n",
      "Accuracy Score 67.75%\n",
      "Recall Score: 0.5339568930459536\n",
      "Precision Score: 0.6820779220779221\n",
      "\n",
      "Confusion Matrix:\n",
      "[[2381  612]\n",
      " [1146 1313]]\n",
      "[0.6919692  0.67546755 0.6813348  0.67608217 0.68818782 0.68525312\n",
      " 0.70238532 0.68917431 0.6759633  0.68036697]\n",
      "\n",
      "Cross Validation Mean Score: 0.6846184562862964\n"
     ]
    }
   ],
   "source": [
    "xgb_headline = XGBClassifier()\n",
    "xgb_headline.fit(X_headline_vec_train, y_headline_train)\n",
    "y_xgb_headline_pred = xgb_headline.predict(X_headline_vec_test)\n",
    "print(\"XGBoost: \\n\")\n",
    "print( \"F1 Score {:.4}%\".format( f1_score(y_headline_test, y_xgb_headline_pred, average='macro')*100 ))\n",
    "print( \"Accuracy Score {:.4}%\".format(accuracy_score(y_headline_test, y_xgb_headline_pred)*100))\n",
    "print(f\"Recall Score: {recall_score(y_headline_test, y_xgb_headline_pred)}\")\n",
    "print(f\"Precision Score: {precision_score(y_headline_test, y_xgb_headline_pred)}\")\n",
    "print(\"\\nConfusion Matrix:\")\n",
    "print(confusion_matrix(y_headline_test, y_xgb_headline_pred))\n",
    "cros_val_list = cross_val_score(xgb_headline, X_headline_vec, y_headline_vec, cv=StratifiedKFold(n_splits=10, shuffle=True, random_state=1234))\n",
    "print(cros_val_list)\n",
    "print(f\"\\nCross Validation Mean Score: {cros_val_list.mean()}\")"
   ]
  },
  {
   "cell_type": "code",
   "execution_count": 13,
   "metadata": {},
   "outputs": [
    {
     "name": "stdout",
     "output_type": "stream",
     "text": [
      "Naive Bayes: \n",
      "\n",
      "F1 Score 57.0%\n",
      "Accuracy Score 58.47%\n",
      "Recall Score: 0.44326962179747864\n",
      "Precision Score: 0.5491183879093199\n",
      "\n",
      "Confusion Matrix:\n",
      "[[2098  895]\n",
      " [1369 1090]]\n",
      "[0.61716172 0.58452512 0.60359369 0.59831255 0.61482025 0.58950844\n",
      " 0.61174312 0.57981651 0.59449541 0.59669725]\n",
      "\n",
      "Cross Validation Mean Score: 0.5990674054205989\n"
     ]
    }
   ],
   "source": [
    "nb_headline = GaussianNB()\n",
    "nb_headline.fit(X_headline_vec_train, y_headline_train)\n",
    "y_nb_headline_pred = nb_headline.predict(X_headline_vec_test)\n",
    "print(\"Naive Bayes: \\n\")\n",
    "print( \"F1 Score {:.4}%\".format( f1_score(y_headline_test, y_nb_headline_pred, average='macro')*100 ))\n",
    "print( \"Accuracy Score {:.4}%\".format(accuracy_score(y_headline_test, y_nb_headline_pred)*100))\n",
    "print(f\"Recall Score: {recall_score(y_headline_test, y_nb_headline_pred)}\")\n",
    "print(f\"Precision Score: {precision_score(y_headline_test, y_nb_headline_pred)}\")\n",
    "print(\"\\nConfusion Matrix:\")\n",
    "print(confusion_matrix(y_headline_test, y_nb_headline_pred))\n",
    "cros_val_list = cross_val_score(nb_headline, X_headline_vec, y_headline_vec, cv=StratifiedKFold(n_splits=10, shuffle=True, random_state=1234))\n",
    "print(cros_val_list)\n",
    "print(f\"\\nCross Validation Mean Score: {cros_val_list.mean()}\")"
   ]
  },
  {
   "cell_type": "code",
   "execution_count": 14,
   "metadata": {},
   "outputs": [
    {
     "name": "stdout",
     "output_type": "stream",
     "text": [
      "Random Forest: \n",
      "\n",
      "F1 Score 66.12%\n",
      "Accuracy Score 68.12%\n",
      "Recall Score: 0.4855632370882473\n",
      "Precision Score: 0.7162567486502699\n",
      "\n",
      "Confusion Matrix:\n",
      "[[2520  473]\n",
      " [1265 1194]]\n",
      "[0.7037037  0.6809681  0.70187019 0.68818782 0.67865004 0.69809244\n",
      " 0.70788991 0.69981651 0.68073394 0.6866055 ]\n",
      "\n",
      "Cross Validation Mean Score: 0.6926518159898764\n"
     ]
    }
   ],
   "source": [
    "rcf_headline = RandomForestClassifier(n_estimators=50,n_jobs=3)\n",
    "rcf_headline.fit(X_headline_vec_train, y_headline_train)\n",
    "y_rc_headline_pred = rcf_headline.predict(X_headline_vec_test)\n",
    "print(\"Random Forest: \\n\")\n",
    "print(\"F1 Score {:.4}%\".format( f1_score(y_headline_test, y_rc_headline_pred, average='macro')*100 ))\n",
    "print(\"Accuracy Score {:.4}%\".format(accuracy_score(y_headline_test, y_rc_headline_pred)*100))\n",
    "print(f\"Recall Score: {recall_score(y_headline_test, y_rc_headline_pred)}\")\n",
    "print(f\"Precision Score: {precision_score(y_headline_test, y_rc_headline_pred)}\")\n",
    "print(\"\\nConfusion Matrix:\")\n",
    "print(confusion_matrix(y_headline_test, y_rc_headline_pred))\n",
    "cros_val_list = cross_val_score(rcf_headline, X_headline_vec, y_headline_vec, cv=StratifiedKFold(n_splits=10, shuffle=True, random_state=1234))\n",
    "print(cros_val_list)\n",
    "print(f\"\\nCross Validation Mean Score: {cros_val_list.mean()}\")"
   ]
  },
  {
   "cell_type": "markdown",
   "metadata": {},
   "source": [
    "## Using body"
   ]
  },
  {
   "cell_type": "code",
   "execution_count": 15,
   "metadata": {},
   "outputs": [
    {
     "name": "stdout",
     "output_type": "stream",
     "text": [
      "Logistic Regression:\n",
      "\n",
      "F1 Score 79.81%\n",
      "Accuracy Score 80.32%\n",
      "Recall Score: 0.7145180967873119\n",
      "Precision Score: 0.8256578947368421\n",
      "\n",
      "Confusion Matrix:\n",
      "[[2622  371]\n",
      " [ 702 1757]]\n",
      "[0.81188119 0.80711404 0.8023469  0.81768158 0.80374175 0.7945708\n",
      " 0.80293578 0.79669725 0.79449541 0.81724771]\n",
      "\n",
      "Cross Validation Mean Score: 0.8048712411596689\n"
     ]
    }
   ],
   "source": [
    "lr_body = LogisticRegression(penalty='l2', solver='lbfgs')\n",
    "lr_body.fit(X_body_vec_train, y_body_train)\n",
    "y_body_pred = lr_body.predict(X_body_vec_test)\n",
    "print (\"Logistic Regression:\\n\")\n",
    "print (\"F1 Score {:.4}%\".format( f1_score(y_body_test, y_body_pred, average='macro')*100 ) )\n",
    "print (\"Accuracy Score {:.4}%\".format(accuracy_score(y_body_test, y_body_pred)*100) )\n",
    "print(f\"Recall Score: {recall_score(y_body_test, y_body_pred)}\")\n",
    "print(f\"Precision Score: {precision_score(y_body_test, y_body_pred)}\")\n",
    "print(\"\\nConfusion Matrix:\")\n",
    "print(confusion_matrix(y_body_test, y_body_pred))\n",
    "cros_val_list = cross_val_score(lr_body, X_body_vec, y_body_vec, cv=StratifiedKFold(n_splits=10, shuffle=True, random_state=1234))\n",
    "print(cros_val_list)\n",
    "print(f\"\\nCross Validation Mean Score: {cros_val_list.mean()}\")"
   ]
  },
  {
   "cell_type": "code",
   "execution_count": 16,
   "metadata": {},
   "outputs": [
    {
     "name": "stdout",
     "output_type": "stream",
     "text": [
      "XGBoost: \n",
      "\n",
      "F1 Score 77.72%\n",
      "Accuracy Score 78.5%\n",
      "Recall Score: 0.6628710858072387\n",
      "Precision Score: 0.8261530663963508\n",
      "\n",
      "Confusion Matrix:\n",
      "[[2650  343]\n",
      " [ 829 1630]]\n",
      "[0.78731206 0.78657866 0.7909791  0.78980191 0.7839325  0.77769626\n",
      " 0.78495413 0.77798165 0.78605505 0.79633028]\n",
      "\n",
      "Cross Validation Mean Score: 0.7861621588877697\n"
     ]
    }
   ],
   "source": [
    "xgb_body = XGBClassifier()\n",
    "xgb_body.fit(X_body_vec_train, y_body_train)\n",
    "y_xgb_body_pred = xgb_body.predict(X_body_vec_test)\n",
    "print(\"XGBoost: \\n\")\n",
    "print( \"F1 Score {:.4}%\".format( f1_score(y_body_test, y_xgb_body_pred, average='macro')*100 ))\n",
    "print( \"Accuracy Score {:.4}%\".format(accuracy_score(y_body_test, y_xgb_body_pred)*100))\n",
    "print(f\"Recall Score: {recall_score(y_body_test, y_xgb_body_pred)}\")\n",
    "print(f\"Precision Score: {precision_score(y_body_test, y_xgb_body_pred)}\")\n",
    "print(\"\\nConfusion Matrix:\")\n",
    "print(confusion_matrix(y_body_test, y_xgb_body_pred))\n",
    "cros_val_list = cross_val_score(xgb_body, X_body_vec, y_body_vec, cv=StratifiedKFold(n_splits=10, shuffle=True, random_state=1234))\n",
    "print(cros_val_list)\n",
    "print(f\"\\nCross Validation Mean Score: {cros_val_list.mean()}\")"
   ]
  },
  {
   "cell_type": "code",
   "execution_count": 17,
   "metadata": {},
   "outputs": [
    {
     "name": "stdout",
     "output_type": "stream",
     "text": [
      "Naive Bayes: \n",
      "\n",
      "F1 Score 60.86%\n",
      "Accuracy Score 65.54%\n",
      "Recall Score: 0.34322895485969906\n",
      "Precision Score: 0.7617328519855595\n",
      "\n",
      "Confusion Matrix:\n",
      "[[2729  264]\n",
      " [1615  844]]\n",
      "[0.65639897 0.65346535 0.65236524 0.65663977 0.65884079 0.6511372\n",
      " 0.65431193 0.63743119 0.64844037 0.64880734]\n",
      "\n",
      "Cross Validation Mean Score: 0.6517838136929347\n"
     ]
    }
   ],
   "source": [
    "nb_body = GaussianNB()\n",
    "nb_body.fit(X_body_vec_train, y_body_train)\n",
    "y_nb_body_pred = nb_body.predict(X_body_vec_test)\n",
    "print(\"Naive Bayes: \\n\")\n",
    "print( \"F1 Score {:.4}%\".format( f1_score(y_body_test, y_nb_body_pred, average='macro')*100 ))\n",
    "print( \"Accuracy Score {:.4}%\".format(accuracy_score(y_body_test, y_nb_body_pred)*100))\n",
    "print(f\"Recall Score: {recall_score(y_body_test, y_nb_body_pred)}\")\n",
    "print(f\"Precision Score: {precision_score(y_body_test, y_nb_body_pred)}\")\n",
    "print(\"\\nConfusion Matrix:\")\n",
    "print(confusion_matrix(y_body_test, y_nb_body_pred))\n",
    "cros_val_list = cross_val_score(nb_body, X_body_vec, y_body_vec, cv=StratifiedKFold(n_splits=10, shuffle=True, random_state=1234))\n",
    "print(cros_val_list)\n",
    "print(f\"\\nCross Validation Mean Score: {cros_val_list.mean()}\")"
   ]
  },
  {
   "cell_type": "code",
   "execution_count": 18,
   "metadata": {},
   "outputs": [
    {
     "name": "stdout",
     "output_type": "stream",
     "text": [
      "Random Forest: \n",
      "\n",
      "F1 Score 79.44%\n",
      "Accuracy Score 80.01%\n",
      "Recall Score: 0.7023180154534363\n",
      "Precision Score: 0.8282973621103118\n",
      "\n",
      "Confusion Matrix:\n",
      "[[2635  358]\n",
      " [ 732 1727]]\n",
      "[0.80894756 0.81004767 0.80821415 0.81034483 0.80741012 0.80484226\n",
      " 0.80697248 0.80917431 0.80623853 0.82788991]\n",
      "\n",
      "Cross Validation Mean Score: 0.8100081828995507\n"
     ]
    }
   ],
   "source": [
    "rcf_body = RandomForestClassifier(n_estimators=50,n_jobs=3)\n",
    "rcf_body.fit(X_body_vec_train, y_body_train)\n",
    "y_rc_body_pred = rcf_body.predict(X_body_vec_test)\n",
    "print(\"Random Forest: \\n\")\n",
    "print(\"F1 Score {:.4}%\".format( f1_score(y_body_test, y_rc_body_pred, average='macro')*100 ))\n",
    "print(\"Accuracy Score {:.4}%\".format(accuracy_score(y_body_test, y_rc_body_pred)*100))\n",
    "print(f\"Recall Score: {recall_score(y_body_test, y_rc_body_pred)}\")\n",
    "print(f\"Precision Score: {precision_score(y_body_test, y_rc_body_pred)}\")\n",
    "print(\"\\nConfusion Matrix:\")\n",
    "print(confusion_matrix(y_body_test, y_rc_body_pred))\n",
    "cros_val_list = cross_val_score(rcf_body, X_body_vec, y_body_vec, cv=StratifiedKFold(n_splits=10, shuffle=True, random_state=1234))\n",
    "print(cros_val_list)\n",
    "print(f\"\\nCross Validation Mean Score: {cros_val_list.mean()}\")"
   ]
  },
  {
   "cell_type": "code",
   "execution_count": null,
   "metadata": {},
   "outputs": [],
   "source": []
  }
 ],
 "metadata": {
  "kernelspec": {
   "display_name": "Python 3",
   "language": "python",
   "name": "python3"
  },
  "language_info": {
   "codemirror_mode": {
    "name": "ipython",
    "version": 3
   },
   "file_extension": ".py",
   "mimetype": "text/x-python",
   "name": "python",
   "nbconvert_exporter": "python",
   "pygments_lexer": "ipython3",
   "version": "3.7.3"
  }
 },
 "nbformat": 4,
 "nbformat_minor": 2
}
