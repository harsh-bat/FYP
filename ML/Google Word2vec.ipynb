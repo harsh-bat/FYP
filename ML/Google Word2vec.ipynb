{
 "cells": [
  {
   "cell_type": "markdown",
   "metadata": {},
   "source": [
    "# word2vec Vectorization"
   ]
  },
  {
   "cell_type": "code",
   "execution_count": 1,
   "metadata": {},
   "outputs": [],
   "source": [
    "import pandas as pd\n",
    "from collections import Counter\n",
    "import re\n",
    "import numpy as np\n",
    "from sklearn.utils import shuffle\n",
    "from sklearn.linear_model import LogisticRegression\n",
    "from sklearn.model_selection import cross_val_score, StratifiedKFold\n",
    "from sklearn.model_selection import train_test_split\n",
    "from sklearn.feature_extraction.text import TfidfVectorizer\n",
    "from sklearn.feature_extraction.stop_words import ENGLISH_STOP_WORDS\n",
    "from sklearn.metrics import f1_score, accuracy_score , recall_score , precision_score, confusion_matrix\n",
    "import matplotlib.pyplot as plt\n",
    "from xgboost import XGBClassifier\n",
    "from sklearn.ensemble import RandomForestClassifier\n",
    "import seaborn as sns\n",
    "from sklearn.naive_bayes import GaussianNB\n",
    "%matplotlib inline"
   ]
  },
  {
   "cell_type": "code",
   "execution_count": 2,
   "metadata": {},
   "outputs": [],
   "source": [
    "alldata = pd.read_csv('news_dataset.csv')"
   ]
  },
  {
   "cell_type": "code",
   "execution_count": 3,
   "metadata": {},
   "outputs": [
    {
     "data": {
      "text/html": [
       "<div>\n",
       "<style scoped>\n",
       "    .dataframe tbody tr th:only-of-type {\n",
       "        vertical-align: middle;\n",
       "    }\n",
       "\n",
       "    .dataframe tbody tr th {\n",
       "        vertical-align: top;\n",
       "    }\n",
       "\n",
       "    .dataframe thead th {\n",
       "        text-align: right;\n",
       "    }\n",
       "</style>\n",
       "<table border=\"1\" class=\"dataframe\">\n",
       "  <thead>\n",
       "    <tr style=\"text-align: right;\">\n",
       "      <th></th>\n",
       "      <th>Unnamed: 0</th>\n",
       "      <th>title</th>\n",
       "      <th>content</th>\n",
       "      <th>publication</th>\n",
       "      <th>label</th>\n",
       "    </tr>\n",
       "  </thead>\n",
       "  <tbody>\n",
       "    <tr>\n",
       "      <th>0</th>\n",
       "      <td>0</td>\n",
       "      <td>Muslims BUSTED: They Stole Millions In Gov’t B...</td>\n",
       "      <td>Print They should pay all the back all the mon...</td>\n",
       "      <td>100percentfedup</td>\n",
       "      <td>fake</td>\n",
       "    </tr>\n",
       "    <tr>\n",
       "      <th>1</th>\n",
       "      <td>1</td>\n",
       "      <td>Re: Why Did Attorney General Loretta Lynch Ple...</td>\n",
       "      <td>Why Did Attorney General Loretta Lynch Plead T...</td>\n",
       "      <td>100percentfedup</td>\n",
       "      <td>fake</td>\n",
       "    </tr>\n",
       "    <tr>\n",
       "      <th>2</th>\n",
       "      <td>2</td>\n",
       "      <td>BREAKING: Weiner Cooperating With FBI On Hilla...</td>\n",
       "      <td>Red State : \\nFox News Sunday reported this mo...</td>\n",
       "      <td>100percentfedup</td>\n",
       "      <td>fake</td>\n",
       "    </tr>\n",
       "    <tr>\n",
       "      <th>3</th>\n",
       "      <td>3</td>\n",
       "      <td>PIN DROP SPEECH BY FATHER OF DAUGHTER Kidnappe...</td>\n",
       "      <td>Email Kayla Mueller was a prisoner and torture...</td>\n",
       "      <td>100percentfedup</td>\n",
       "      <td>fake</td>\n",
       "    </tr>\n",
       "    <tr>\n",
       "      <th>4</th>\n",
       "      <td>4</td>\n",
       "      <td>FANTASTIC! TRUMP'S 7 POINT PLAN To Reform Heal...</td>\n",
       "      <td>Email HEALTHCARE REFORM TO MAKE AMERICA GREAT ...</td>\n",
       "      <td>100percentfedup</td>\n",
       "      <td>fake</td>\n",
       "    </tr>\n",
       "  </tbody>\n",
       "</table>\n",
       "</div>"
      ],
      "text/plain": [
       "   Unnamed: 0                                              title  \\\n",
       "0           0  Muslims BUSTED: They Stole Millions In Gov’t B...   \n",
       "1           1  Re: Why Did Attorney General Loretta Lynch Ple...   \n",
       "2           2  BREAKING: Weiner Cooperating With FBI On Hilla...   \n",
       "3           3  PIN DROP SPEECH BY FATHER OF DAUGHTER Kidnappe...   \n",
       "4           4  FANTASTIC! TRUMP'S 7 POINT PLAN To Reform Heal...   \n",
       "\n",
       "                                             content      publication label  \n",
       "0  Print They should pay all the back all the mon...  100percentfedup  fake  \n",
       "1  Why Did Attorney General Loretta Lynch Plead T...  100percentfedup  fake  \n",
       "2  Red State : \\nFox News Sunday reported this mo...  100percentfedup  fake  \n",
       "3  Email Kayla Mueller was a prisoner and torture...  100percentfedup  fake  \n",
       "4  Email HEALTHCARE REFORM TO MAKE AMERICA GREAT ...  100percentfedup  fake  "
      ]
     },
     "execution_count": 3,
     "metadata": {},
     "output_type": "execute_result"
    }
   ],
   "source": [
    "alldata.head()"
   ]
  },
  {
   "cell_type": "code",
   "execution_count": 4,
   "metadata": {},
   "outputs": [],
   "source": [
    "alldata['label'].replace({'fake':1, 'real':0}, inplace=True)\n",
    "alldata.isnull().values.any()\n",
    "alldata.dropna(inplace=True)"
   ]
  },
  {
   "cell_type": "code",
   "execution_count": 177,
   "metadata": {},
   "outputs": [],
   "source": [
    "X_body_text = alldata['content']\n",
    "X_headline_text = alldata['title']\n",
    "X_combined_text = 10*(alldata['title'] + \" \") + alldata['content']\n",
    "y = alldata['label']"
   ]
  },
  {
   "cell_type": "code",
   "execution_count": 6,
   "metadata": {},
   "outputs": [],
   "source": [
    "import gensim\n",
    "from nltk.tokenize import word_tokenize\n",
    "from nltk.corpus import stopwords"
   ]
  },
  {
   "cell_type": "code",
   "execution_count": 7,
   "metadata": {},
   "outputs": [],
   "source": [
    "titles_list = [title for title in X_headline_text]\n",
    "big_title_string = ' '.join(titles_list)\n",
    "tokens = word_tokenize(big_title_string)\n",
    "words = [word.lower() for word in tokens if word.isalpha()]\n",
    "stop_words = set(stopwords.words('english'))\n",
    "words = [word for word in words if not word in stop_words]"
   ]
  },
  {
   "cell_type": "code",
   "execution_count": 8,
   "metadata": {},
   "outputs": [
    {
     "name": "stdout",
     "output_type": "stream",
     "text": [
      "['muslims', 'busted', 'stole', 'millions', 'gov', 'benefits', 'attorney', 'general', 'loretta', 'lynch', 'plead', 'fifth', 'breaking', 'weiner', 'cooperating', 'fbi', 'hillary', 'email', 'investigation', 'pin']\n"
     ]
    }
   ],
   "source": [
    "print (words[:20])"
   ]
  },
  {
   "cell_type": "code",
   "execution_count": 9,
   "metadata": {},
   "outputs": [],
   "source": [
    "model = gensim.models.KeyedVectors.load_word2vec_format('GoogleNews-vectors-negative300.bin', binary = True) "
   ]
  },
  {
   "cell_type": "code",
   "execution_count": 10,
   "metadata": {},
   "outputs": [
    {
     "data": {
      "text/plain": [
       "300"
      ]
     },
     "execution_count": 10,
     "metadata": {},
     "output_type": "execute_result"
    }
   ],
   "source": [
    "model.vector_size"
   ]
  },
  {
   "cell_type": "code",
   "execution_count": 16,
   "metadata": {},
   "outputs": [
    {
     "data": {
      "text/plain": [
       "array([-0.13867188,  0.04370117, -0.13085938, -0.16796875, -0.06054688,\n",
       "       -0.07080078,  0.00854492, -0.09960938,  0.19628906,  0.14648438,\n",
       "       -0.23046875, -0.09619141, -0.140625  ,  0.25585938, -0.16699219,\n",
       "        0.14257812, -0.16992188,  0.06884766,  0.23925781, -0.28515625,\n",
       "        0.17089844,  0.17089844,  0.05615234, -0.06445312,  0.13867188,\n",
       "        0.32226562,  0.05078125,  0.27148438, -0.00564575,  0.02587891,\n",
       "       -0.05639648,  0.03125   ,  0.171875  , -0.18261719,  0.05029297,\n",
       "       -0.01062012, -0.02600098,  0.20019531, -0.07568359,  0.125     ,\n",
       "        0.01300049, -0.17089844, -0.09667969,  0.21972656,  0.06494141,\n",
       "        0.24804688,  0.11083984,  0.0267334 , -0.10986328,  0.17578125,\n",
       "        0.328125  , -0.11865234,  0.03222656,  0.30273438,  0.09179688,\n",
       "       -0.05224609, -0.27539062, -0.046875  ,  0.20996094, -0.20410156,\n",
       "        0.10595703, -0.08398438, -0.09765625, -0.16015625, -0.0045166 ,\n",
       "        0.09228516,  0.05737305, -0.04418945,  0.06445312,  0.16992188,\n",
       "       -0.06396484,  0.02160645,  0.01672363,  0.01916504, -0.14453125,\n",
       "        0.22949219, -0.14746094,  0.05859375,  0.00610352, -0.08544922,\n",
       "        0.34960938,  0.14355469,  0.07128906, -0.0534668 ,  0.01928711,\n",
       "       -0.25      , -0.21972656, -0.2421875 ,  0.01611328, -0.01818848,\n",
       "        0.31054688,  0.08154297,  0.171875  ,  0.05664062, -0.04736328,\n",
       "       -0.07421875,  0.00244141,  0.11035156,  0.31445312, -0.05175781,\n",
       "       -0.03710938,  0.00430298,  0.08496094, -0.14453125, -0.06347656,\n",
       "        0.06298828, -0.07861328, -0.12695312,  0.15039062, -0.20214844,\n",
       "        0.05639648,  0.13769531,  0.16992188,  0.01782227, -0.07617188,\n",
       "        0.04760742,  0.16015625,  0.20214844,  0.33007812,  0.01123047,\n",
       "       -0.06787109, -0.14453125, -0.234375  ,  0.06542969,  0.06933594,\n",
       "        0.00680542,  0.04785156,  0.00430298,  0.19433594, -0.15625   ,\n",
       "       -0.34375   , -0.21777344,  0.09082031,  0.05957031,  0.07666016,\n",
       "       -0.01806641, -0.00915527,  0.03295898, -0.03027344, -0.04833984,\n",
       "        0.36132812, -0.08544922,  0.00897217, -0.15917969,  0.03344727,\n",
       "       -0.31445312,  0.13378906, -0.10839844, -0.10693359, -0.16503906,\n",
       "        0.13378906,  0.12597656, -0.33398438,  0.01257324, -0.08105469,\n",
       "       -0.05151367, -0.0071106 , -0.1015625 , -0.18652344, -0.07373047,\n",
       "       -0.10498047,  0.203125  , -0.17578125,  0.26953125,  0.00927734,\n",
       "       -0.05126953, -0.04150391,  0.01013184,  0.31640625, -0.14550781,\n",
       "        0.25      , -0.13476562,  0.10693359, -0.2578125 , -0.01000977,\n",
       "       -0.10351562,  0.27539062, -0.15722656,  0.06298828, -0.23828125,\n",
       "        0.09179688, -0.27148438,  0.18457031, -0.24023438,  0.25585938,\n",
       "        0.08300781, -0.18359375,  0.06542969,  0.1640625 , -0.00408936,\n",
       "        0.09033203,  0.00247192, -0.14355469, -0.20507812, -0.10253906,\n",
       "        0.23046875,  0.02746582,  0.19726562,  0.06884766,  0.078125  ,\n",
       "        0.05444336,  0.11865234,  0.03735352, -0.16992188,  0.00372314,\n",
       "       -0.08691406,  0.15136719,  0.24023438, -0.1015625 ,  0.02685547,\n",
       "        0.00479126,  0.10205078,  0.078125  ,  0.1640625 , -0.03979492,\n",
       "        0.27539062, -0.03540039,  0.00088882, -0.1953125 ,  0.11621094,\n",
       "        0.18652344, -0.1796875 , -0.25390625, -0.12890625,  0.00653076,\n",
       "       -0.14550781,  0.06396484,  0.11132812, -0.00793457, -0.0859375 ,\n",
       "        0.19238281,  0.18457031, -0.06445312, -0.05395508,  0.0246582 ,\n",
       "       -0.13964844,  0.10791016, -0.01855469,  0.39453125,  0.33203125,\n",
       "        0.07470703,  0.00787354, -0.12988281, -0.09814453,  0.00271606,\n",
       "        0.203125  ,  0.16894531,  0.109375  ,  0.10693359, -0.0123291 ,\n",
       "       -0.05615234,  0.04516602, -0.16992188, -0.06591797,  0.08203125,\n",
       "       -0.02038574, -0.06884766,  0.04101562,  0.0625    , -0.01586914,\n",
       "        0.12109375,  0.15917969, -0.0291748 ,  0.20019531, -0.03491211,\n",
       "        0.51171875,  0.19921875, -0.01275635,  0.00793457,  0.00714111,\n",
       "        0.140625  ,  0.15917969,  0.24511719, -0.45898438,  0.25976562,\n",
       "        0.05078125,  0.25976562, -0.08740234,  0.26171875, -0.04833984,\n",
       "       -0.25976562, -0.05541992, -0.08740234, -0.05126953, -0.10498047,\n",
       "        0.01446533, -0.08496094,  0.21386719, -0.00939941,  0.16113281,\n",
       "        0.14453125, -0.06884766,  0.00074005, -0.07226562,  0.19824219,\n",
       "       -0.04614258, -0.08740234,  0.08251953,  0.22949219,  0.05932617],\n",
       "      dtype=float32)"
      ]
     },
     "execution_count": 16,
     "metadata": {},
     "output_type": "execute_result"
    }
   ],
   "source": [
    "model['news']"
   ]
  },
  {
   "cell_type": "code",
   "execution_count": 18,
   "metadata": {},
   "outputs": [
    {
     "data": {
      "text/plain": [
       "0    Muslims BUSTED: They Stole Millions In Gov’t B...\n",
       "1    Re: Why Did Attorney General Loretta Lynch Ple...\n",
       "2    BREAKING: Weiner Cooperating With FBI On Hilla...\n",
       "3    PIN DROP SPEECH BY FATHER OF DAUGHTER Kidnappe...\n",
       "4    FANTASTIC! TRUMP'S 7 POINT PLAN To Reform Heal...\n",
       "Name: title, dtype: object"
      ]
     },
     "execution_count": 18,
     "metadata": {},
     "output_type": "execute_result"
    }
   ],
   "source": [
    "X_headline_text[:5]"
   ]
  },
  {
   "cell_type": "code",
   "execution_count": 19,
   "metadata": {},
   "outputs": [
    {
     "data": {
      "text/plain": [
       "['muslims', 'busted', 'stole', 'millions', 'gov']"
      ]
     },
     "execution_count": 19,
     "metadata": {},
     "output_type": "execute_result"
    }
   ],
   "source": [
    "words[:5]"
   ]
  },
  {
   "cell_type": "code",
   "execution_count": null,
   "metadata": {},
   "outputs": [],
   "source": [
    "np.mean([model[w] for w in words if w in word2vec] or [np.zeros(dim)], axis=0)"
   ]
  },
  {
   "cell_type": "code",
   "execution_count": 40,
   "metadata": {},
   "outputs": [
    {
     "data": {
      "text/plain": [
       "array([ 0.0388916 , -0.12163086,  0.01960144,  0.05614014,  0.00795898,\n",
       "       -0.00070801, -0.05495606, -0.13168946,  0.18251953,  0.04238281,\n",
       "        0.1772461 , -0.12548828, -0.07553711, -0.00820312, -0.08354492,\n",
       "       -0.0024353 ,  0.04921875,  0.1685547 , -0.05024719, -0.1395996 ,\n",
       "       -0.01674805,  0.19472656,  0.1328125 ,  0.05839844,  0.07675781,\n",
       "       -0.16594544, -0.11185303,  0.02973633,  0.1584961 , -0.10786133,\n",
       "       -0.03115234, -0.09890137, -0.14863281, -0.00673828,  0.00585938,\n",
       "        0.0361084 ,  0.1244873 ,  0.05317383,  0.02167969,  0.03893433,\n",
       "        0.14355469, -0.08088379,  0.17337647, -0.00735474,  0.0154541 ,\n",
       "        0.04521179, -0.0480957 ,  0.02337646, -0.01516113, -0.08320312,\n",
       "        0.03275909,  0.02709961,  0.06071777, -0.01948242,  0.20391235,\n",
       "       -0.11320801, -0.146875  , -0.08613281, -0.01938782, -0.08071289,\n",
       "        0.07125549,  0.0300293 ,  0.025     ,  0.00892029,  0.11816406,\n",
       "       -0.06083984, -0.08557129,  0.00537109,  0.14208984,  0.1671875 ,\n",
       "        0.05541992,  0.01280518, -0.04160156, -0.0171875 , -0.08188476,\n",
       "        0.07714844,  0.20390625,  0.05839844,  0.11811523,  0.13824463,\n",
       "        0.08522949, -0.05539551, -0.09927978, -0.09587707, -0.06884766,\n",
       "        0.00369873,  0.06521606,  0.08276596, -0.0352539 ,  0.00710449,\n",
       "        0.06193848, -0.12426758, -0.17001954, -0.03007812, -0.02402344,\n",
       "       -0.05755615,  0.08959961,  0.07822265,  0.06560059, -0.03364258,\n",
       "       -0.16503906, -0.0741211 ,  0.0730835 , -0.15366212, -0.04824219,\n",
       "       -0.01318359,  0.06428222, -0.0416748 ,  0.03847656,  0.05913086,\n",
       "        0.03823242, -0.1352539 ,  0.04670715,  0.01958008,  0.07553711,\n",
       "       -0.10898437,  0.00700684, -0.03151856,  0.09141235,  0.03303223,\n",
       "        0.02832031,  0.18251953,  0.0685852 , -0.09526367,  0.05024414,\n",
       "       -0.06611328,  0.06813965, -0.11450195,  0.02766495,  0.0802124 ,\n",
       "        0.021875  , -0.08141784, -0.08304138, -0.05344238, -0.01115723,\n",
       "       -0.00117188,  0.10546875,  0.00361328, -0.0387207 ,  0.027771  ,\n",
       "        0.10761718, -0.09542236, -0.13914184, -0.09887695,  0.01013794,\n",
       "        0.24619141, -0.10844727,  0.03129883, -0.09267578,  0.08713379,\n",
       "        0.22888184,  0.1296753 , -0.03339844,  0.07299805, -0.04459228,\n",
       "       -0.05195313, -0.1       , -0.06511231,  0.02303467, -0.03808594,\n",
       "       -0.05269776,  0.03108826,  0.15742187, -0.06220703, -0.11965332,\n",
       "       -0.00429688,  0.1585205 , -0.03076172,  0.00715942, -0.00957031,\n",
       "        0.00905762, -0.06993409, -0.01801758, -0.11623535, -0.05791016,\n",
       "       -0.02348633,  0.2249115 ,  0.07919922, -0.10220947,  0.13692017,\n",
       "       -0.1303711 ,  0.00145264,  0.06137695,  0.03701782,  0.17333984,\n",
       "        0.05883789,  0.0184082 ,  0.1461914 , -0.02861328,  0.12514648,\n",
       "       -0.03115234,  0.03260498,  0.03166504,  0.11699219,  0.02319336,\n",
       "        0.11079101, -0.03905029, -0.05668945, -0.05070801,  0.02802734,\n",
       "       -0.16281739, -0.02260742, -0.01665039, -0.09814453,  0.16811523,\n",
       "       -0.109375  , -0.0093689 ,  0.02216797,  0.02036133, -0.13320312,\n",
       "       -0.05476074,  0.01420898, -0.01435547,  0.08236694, -0.04318848,\n",
       "        0.06052246,  0.03087158, -0.00942383, -0.06621094, -0.08293457,\n",
       "       -0.07313232, -0.04270019,  0.11506347, -0.19130859,  0.05117188,\n",
       "       -0.16870117, -0.01729736, -0.03925781,  0.08076172, -0.0128418 ,\n",
       "        0.06882324,  0.00267944, -0.17080078, -0.08134766,  0.14472656,\n",
       "        0.00498047, -0.07548828, -0.11176758, -0.01135254,  0.01000977,\n",
       "        0.01054688, -0.03857422, -0.08100586, -0.11772461,  0.03676758,\n",
       "        0.16806641, -0.03241425,  0.04936523,  0.09273605, -0.07441406,\n",
       "        0.05115967, -0.0743164 , -0.12773438, -0.12233429,  0.06440429,\n",
       "       -0.0659729 ,  0.01445313,  0.02353516, -0.06958008, -0.04606934,\n",
       "        0.04753418,  0.01511231, -0.07347412, -0.09140625,  0.0871582 ,\n",
       "        0.2169983 ,  0.02529297, -0.07425232, -0.06352539,  0.06440429,\n",
       "       -0.08637695, -0.028479  ,  0.09306641, -0.05239258,  0.07419433,\n",
       "       -0.13757324,  0.02385864, -0.02826538, -0.04741211, -0.02421875,\n",
       "        0.04577637, -0.07719727,  0.08361816,  0.03984375, -0.03074646,\n",
       "       -0.00068359, -0.10083008,  0.07807617, -0.10925903,  0.0899414 ,\n",
       "       -0.06152344, -0.04472961, -0.14228515, -0.07880859,  0.02967529,\n",
       "       -0.16357422, -0.07407226, -0.05947266, -0.03603516,  0.09855957],\n",
       "      dtype=float32)"
      ]
     },
     "execution_count": 40,
     "metadata": {},
     "output_type": "execute_result"
    }
   ],
   "source": [
    "np.mean(np.array([model[w] for w in [word.lower() for word in word_tokenize(\"PIN DROP SPEECH BY FATHER OF DAUGHTER Kidnappe\") if word.isalpha()] if w in words ]), axis=0)"
   ]
  },
  {
   "cell_type": "code",
   "execution_count": 55,
   "metadata": {},
   "outputs": [
    {
     "data": {
      "text/plain": [
       "True"
      ]
     },
     "execution_count": 55,
     "metadata": {},
     "output_type": "execute_result"
    }
   ],
   "source": [
    "'loretta' in words"
   ]
  },
  {
   "cell_type": "code",
   "execution_count": 134,
   "metadata": {},
   "outputs": [],
   "source": [
    "# Converting a string to tokens, calculating mean of word2vec for every word in a sentence\n",
    "\n",
    "def vectCalc(text):\n",
    "    a = [word.lower() for word in word_tokenize(text) if word.isalpha()]\n",
    "    b = np.array([model[w] for w in a if w in model and w in words])\n",
    "    if len(b)>0:\n",
    "        return np.mean(b, axis=0)\n",
    "    else:\n",
    "        return np.zeros(300)"
   ]
  },
  {
   "cell_type": "code",
   "execution_count": 135,
   "metadata": {},
   "outputs": [
    {
     "data": {
      "text/plain": [
       "array([0., 0., 0., 0., 0., 0., 0., 0., 0., 0., 0., 0., 0., 0., 0., 0., 0.,\n",
       "       0., 0., 0., 0., 0., 0., 0., 0., 0., 0., 0., 0., 0., 0., 0., 0., 0.,\n",
       "       0., 0., 0., 0., 0., 0., 0., 0., 0., 0., 0., 0., 0., 0., 0., 0., 0.,\n",
       "       0., 0., 0., 0., 0., 0., 0., 0., 0., 0., 0., 0., 0., 0., 0., 0., 0.,\n",
       "       0., 0., 0., 0., 0., 0., 0., 0., 0., 0., 0., 0., 0., 0., 0., 0., 0.,\n",
       "       0., 0., 0., 0., 0., 0., 0., 0., 0., 0., 0., 0., 0., 0., 0., 0., 0.,\n",
       "       0., 0., 0., 0., 0., 0., 0., 0., 0., 0., 0., 0., 0., 0., 0., 0., 0.,\n",
       "       0., 0., 0., 0., 0., 0., 0., 0., 0., 0., 0., 0., 0., 0., 0., 0., 0.,\n",
       "       0., 0., 0., 0., 0., 0., 0., 0., 0., 0., 0., 0., 0., 0., 0., 0., 0.,\n",
       "       0., 0., 0., 0., 0., 0., 0., 0., 0., 0., 0., 0., 0., 0., 0., 0., 0.,\n",
       "       0., 0., 0., 0., 0., 0., 0., 0., 0., 0., 0., 0., 0., 0., 0., 0., 0.,\n",
       "       0., 0., 0., 0., 0., 0., 0., 0., 0., 0., 0., 0., 0., 0., 0., 0., 0.,\n",
       "       0., 0., 0., 0., 0., 0., 0., 0., 0., 0., 0., 0., 0., 0., 0., 0., 0.,\n",
       "       0., 0., 0., 0., 0., 0., 0., 0., 0., 0., 0., 0., 0., 0., 0., 0., 0.,\n",
       "       0., 0., 0., 0., 0., 0., 0., 0., 0., 0., 0., 0., 0., 0., 0., 0., 0.,\n",
       "       0., 0., 0., 0., 0., 0., 0., 0., 0., 0., 0., 0., 0., 0., 0., 0., 0.,\n",
       "       0., 0., 0., 0., 0., 0., 0., 0., 0., 0., 0., 0., 0., 0., 0., 0., 0.,\n",
       "       0., 0., 0., 0., 0., 0., 0., 0., 0., 0., 0.])"
      ]
     },
     "execution_count": 135,
     "metadata": {},
     "output_type": "execute_result"
    }
   ],
   "source": [
    "vectCalc(\"vvsandomsample rfake\")"
   ]
  },
  {
   "cell_type": "code",
   "execution_count": 136,
   "metadata": {},
   "outputs": [],
   "source": [
    "new_ser = pd.DataFrame(X_headline_text)['title'].apply(vectCalc)"
   ]
  },
  {
   "cell_type": "code",
   "execution_count": 139,
   "metadata": {},
   "outputs": [
    {
     "data": {
      "text/plain": [
       "array([300])"
      ]
     },
     "execution_count": 139,
     "metadata": {},
     "output_type": "execute_result"
    }
   ],
   "source": [
    "np.unique(new_ser.apply(np.size).values)"
   ]
  },
  {
   "cell_type": "code",
   "execution_count": 149,
   "metadata": {},
   "outputs": [],
   "source": [
    "X_headline_vec = pd.DataFrame(new_ser.values.tolist())"
   ]
  },
  {
   "cell_type": "markdown",
   "metadata": {},
   "source": [
    "## Saving Vectorized dataset for future use"
   ]
  },
  {
   "cell_type": "code",
   "execution_count": 163,
   "metadata": {},
   "outputs": [
    {
     "data": {
      "text/html": [
       "<div>\n",
       "<style scoped>\n",
       "    .dataframe tbody tr th:only-of-type {\n",
       "        vertical-align: middle;\n",
       "    }\n",
       "\n",
       "    .dataframe tbody tr th {\n",
       "        vertical-align: top;\n",
       "    }\n",
       "\n",
       "    .dataframe thead th {\n",
       "        text-align: right;\n",
       "    }\n",
       "</style>\n",
       "<table border=\"1\" class=\"dataframe\">\n",
       "  <thead>\n",
       "    <tr style=\"text-align: right;\">\n",
       "      <th></th>\n",
       "      <th>0</th>\n",
       "      <th>1</th>\n",
       "      <th>2</th>\n",
       "      <th>3</th>\n",
       "      <th>4</th>\n",
       "      <th>5</th>\n",
       "      <th>6</th>\n",
       "      <th>7</th>\n",
       "      <th>8</th>\n",
       "      <th>9</th>\n",
       "      <th>...</th>\n",
       "      <th>290</th>\n",
       "      <th>291</th>\n",
       "      <th>292</th>\n",
       "      <th>293</th>\n",
       "      <th>294</th>\n",
       "      <th>295</th>\n",
       "      <th>296</th>\n",
       "      <th>297</th>\n",
       "      <th>298</th>\n",
       "      <th>299</th>\n",
       "    </tr>\n",
       "  </thead>\n",
       "  <tbody>\n",
       "    <tr>\n",
       "      <th>0</th>\n",
       "      <td>0.075134</td>\n",
       "      <td>0.095032</td>\n",
       "      <td>-0.018885</td>\n",
       "      <td>0.180705</td>\n",
       "      <td>-0.102905</td>\n",
       "      <td>-0.075216</td>\n",
       "      <td>-0.176351</td>\n",
       "      <td>0.073771</td>\n",
       "      <td>0.096600</td>\n",
       "      <td>0.183268</td>\n",
       "      <td>...</td>\n",
       "      <td>0.090658</td>\n",
       "      <td>-0.074249</td>\n",
       "      <td>-0.071838</td>\n",
       "      <td>0.033000</td>\n",
       "      <td>-0.082937</td>\n",
       "      <td>0.046611</td>\n",
       "      <td>-0.056780</td>\n",
       "      <td>-0.076497</td>\n",
       "      <td>-0.079346</td>\n",
       "      <td>-0.049487</td>\n",
       "    </tr>\n",
       "    <tr>\n",
       "      <th>1</th>\n",
       "      <td>0.051987</td>\n",
       "      <td>0.013672</td>\n",
       "      <td>0.053021</td>\n",
       "      <td>-0.163184</td>\n",
       "      <td>-0.148584</td>\n",
       "      <td>-0.017378</td>\n",
       "      <td>0.009473</td>\n",
       "      <td>-0.025668</td>\n",
       "      <td>0.185156</td>\n",
       "      <td>0.015948</td>\n",
       "      <td>...</td>\n",
       "      <td>0.059033</td>\n",
       "      <td>0.022070</td>\n",
       "      <td>0.054199</td>\n",
       "      <td>-0.010620</td>\n",
       "      <td>-0.011060</td>\n",
       "      <td>0.019336</td>\n",
       "      <td>-0.096582</td>\n",
       "      <td>-0.219296</td>\n",
       "      <td>-0.019531</td>\n",
       "      <td>-0.034570</td>\n",
       "    </tr>\n",
       "    <tr>\n",
       "      <th>2</th>\n",
       "      <td>-0.053218</td>\n",
       "      <td>-0.006348</td>\n",
       "      <td>0.029297</td>\n",
       "      <td>-0.024763</td>\n",
       "      <td>-0.101214</td>\n",
       "      <td>0.095721</td>\n",
       "      <td>0.017421</td>\n",
       "      <td>0.055664</td>\n",
       "      <td>0.077637</td>\n",
       "      <td>0.046125</td>\n",
       "      <td>...</td>\n",
       "      <td>0.025997</td>\n",
       "      <td>0.054060</td>\n",
       "      <td>0.016811</td>\n",
       "      <td>0.039010</td>\n",
       "      <td>-0.062762</td>\n",
       "      <td>-0.095503</td>\n",
       "      <td>0.080261</td>\n",
       "      <td>-0.145647</td>\n",
       "      <td>-0.119036</td>\n",
       "      <td>0.022374</td>\n",
       "    </tr>\n",
       "    <tr>\n",
       "      <th>3</th>\n",
       "      <td>0.004852</td>\n",
       "      <td>-0.001902</td>\n",
       "      <td>0.050012</td>\n",
       "      <td>0.075821</td>\n",
       "      <td>-0.047064</td>\n",
       "      <td>-0.048322</td>\n",
       "      <td>-0.006976</td>\n",
       "      <td>-0.144267</td>\n",
       "      <td>0.094218</td>\n",
       "      <td>0.108246</td>\n",
       "      <td>...</td>\n",
       "      <td>0.041168</td>\n",
       "      <td>-0.010461</td>\n",
       "      <td>-0.087931</td>\n",
       "      <td>0.035131</td>\n",
       "      <td>0.014521</td>\n",
       "      <td>-0.154073</td>\n",
       "      <td>-0.074272</td>\n",
       "      <td>-0.091553</td>\n",
       "      <td>0.031362</td>\n",
       "      <td>0.067342</td>\n",
       "    </tr>\n",
       "    <tr>\n",
       "      <th>4</th>\n",
       "      <td>0.041016</td>\n",
       "      <td>0.048256</td>\n",
       "      <td>0.016785</td>\n",
       "      <td>0.097397</td>\n",
       "      <td>-0.040054</td>\n",
       "      <td>-0.036987</td>\n",
       "      <td>0.063026</td>\n",
       "      <td>-0.016579</td>\n",
       "      <td>0.097771</td>\n",
       "      <td>-0.001984</td>\n",
       "      <td>...</td>\n",
       "      <td>-0.027811</td>\n",
       "      <td>-0.087311</td>\n",
       "      <td>-0.083374</td>\n",
       "      <td>-0.000671</td>\n",
       "      <td>-0.103638</td>\n",
       "      <td>-0.021179</td>\n",
       "      <td>0.025879</td>\n",
       "      <td>-0.113892</td>\n",
       "      <td>0.025085</td>\n",
       "      <td>0.084534</td>\n",
       "    </tr>\n",
       "  </tbody>\n",
       "</table>\n",
       "<p>5 rows × 300 columns</p>\n",
       "</div>"
      ],
      "text/plain": [
       "        0         1         2         3         4         5         6    \\\n",
       "0  0.075134  0.095032 -0.018885  0.180705 -0.102905 -0.075216 -0.176351   \n",
       "1  0.051987  0.013672  0.053021 -0.163184 -0.148584 -0.017378  0.009473   \n",
       "2 -0.053218 -0.006348  0.029297 -0.024763 -0.101214  0.095721  0.017421   \n",
       "3  0.004852 -0.001902  0.050012  0.075821 -0.047064 -0.048322 -0.006976   \n",
       "4  0.041016  0.048256  0.016785  0.097397 -0.040054 -0.036987  0.063026   \n",
       "\n",
       "        7         8         9    ...       290       291       292       293  \\\n",
       "0  0.073771  0.096600  0.183268  ...  0.090658 -0.074249 -0.071838  0.033000   \n",
       "1 -0.025668  0.185156  0.015948  ...  0.059033  0.022070  0.054199 -0.010620   \n",
       "2  0.055664  0.077637  0.046125  ...  0.025997  0.054060  0.016811  0.039010   \n",
       "3 -0.144267  0.094218  0.108246  ...  0.041168 -0.010461 -0.087931  0.035131   \n",
       "4 -0.016579  0.097771 -0.001984  ... -0.027811 -0.087311 -0.083374 -0.000671   \n",
       "\n",
       "        294       295       296       297       298       299  \n",
       "0 -0.082937  0.046611 -0.056780 -0.076497 -0.079346 -0.049487  \n",
       "1 -0.011060  0.019336 -0.096582 -0.219296 -0.019531 -0.034570  \n",
       "2 -0.062762 -0.095503  0.080261 -0.145647 -0.119036  0.022374  \n",
       "3  0.014521 -0.154073 -0.074272 -0.091553  0.031362  0.067342  \n",
       "4 -0.103638 -0.021179  0.025879 -0.113892  0.025085  0.084534  \n",
       "\n",
       "[5 rows x 300 columns]"
      ]
     },
     "execution_count": 163,
     "metadata": {},
     "output_type": "execute_result"
    }
   ],
   "source": [
    "X_headline_vec.head()"
   ]
  },
  {
   "cell_type": "code",
   "execution_count": 164,
   "metadata": {},
   "outputs": [
    {
     "data": {
      "text/plain": [
       "0    1\n",
       "1    1\n",
       "2    1\n",
       "3    1\n",
       "4    1\n",
       "Name: label, dtype: int64"
      ]
     },
     "execution_count": 164,
     "metadata": {},
     "output_type": "execute_result"
    }
   ],
   "source": [
    "y.head()"
   ]
  },
  {
   "cell_type": "code",
   "execution_count": 165,
   "metadata": {},
   "outputs": [],
   "source": [
    "headline_vec = X_headline_vec.copy()"
   ]
  },
  {
   "cell_type": "code",
   "execution_count": 167,
   "metadata": {},
   "outputs": [],
   "source": [
    "headline_vec[\"Fake\"] = y"
   ]
  },
  {
   "cell_type": "code",
   "execution_count": 173,
   "metadata": {},
   "outputs": [],
   "source": [
    "headline_vec.to_csv(\"Headline Vector.csv\", index=False)"
   ]
  },
  {
   "cell_type": "code",
   "execution_count": 181,
   "metadata": {},
   "outputs": [
    {
     "data": {
      "text/plain": [
       "0    Print They should pay all the back all the mon...\n",
       "1    Why Did Attorney General Loretta Lynch Plead T...\n",
       "2    Red State : \\nFox News Sunday reported this mo...\n",
       "3    Email Kayla Mueller was a prisoner and torture...\n",
       "4    Email HEALTHCARE REFORM TO MAKE AMERICA GREAT ...\n",
       "Name: content, dtype: object"
      ]
     },
     "execution_count": 181,
     "metadata": {},
     "output_type": "execute_result"
    }
   ],
   "source": [
    "X_body_text.head()"
   ]
  },
  {
   "cell_type": "code",
   "execution_count": 183,
   "metadata": {},
   "outputs": [],
   "source": [
    "body_ser = pd.DataFrame(X_body_text)['content'].apply(vectCalc)"
   ]
  },
  {
   "cell_type": "code",
   "execution_count": 184,
   "metadata": {},
   "outputs": [
    {
     "data": {
      "text/plain": [
       "array([300])"
      ]
     },
     "execution_count": 184,
     "metadata": {},
     "output_type": "execute_result"
    }
   ],
   "source": [
    "np.unique(body_ser.apply(np.size).values)"
   ]
  },
  {
   "cell_type": "code",
   "execution_count": 185,
   "metadata": {},
   "outputs": [],
   "source": [
    "X_body_vec = pd.DataFrame(body_ser.values.tolist())"
   ]
  },
  {
   "cell_type": "code",
   "execution_count": 186,
   "metadata": {},
   "outputs": [
    {
     "data": {
      "text/html": [
       "<div>\n",
       "<style scoped>\n",
       "    .dataframe tbody tr th:only-of-type {\n",
       "        vertical-align: middle;\n",
       "    }\n",
       "\n",
       "    .dataframe tbody tr th {\n",
       "        vertical-align: top;\n",
       "    }\n",
       "\n",
       "    .dataframe thead th {\n",
       "        text-align: right;\n",
       "    }\n",
       "</style>\n",
       "<table border=\"1\" class=\"dataframe\">\n",
       "  <thead>\n",
       "    <tr style=\"text-align: right;\">\n",
       "      <th></th>\n",
       "      <th>0</th>\n",
       "      <th>1</th>\n",
       "      <th>2</th>\n",
       "      <th>3</th>\n",
       "      <th>4</th>\n",
       "      <th>5</th>\n",
       "      <th>6</th>\n",
       "      <th>7</th>\n",
       "      <th>8</th>\n",
       "      <th>9</th>\n",
       "      <th>...</th>\n",
       "      <th>290</th>\n",
       "      <th>291</th>\n",
       "      <th>292</th>\n",
       "      <th>293</th>\n",
       "      <th>294</th>\n",
       "      <th>295</th>\n",
       "      <th>296</th>\n",
       "      <th>297</th>\n",
       "      <th>298</th>\n",
       "      <th>299</th>\n",
       "    </tr>\n",
       "  </thead>\n",
       "  <tbody>\n",
       "    <tr>\n",
       "      <th>0</th>\n",
       "      <td>0.050662</td>\n",
       "      <td>0.031227</td>\n",
       "      <td>-0.030101</td>\n",
       "      <td>0.094391</td>\n",
       "      <td>-0.005058</td>\n",
       "      <td>-0.045496</td>\n",
       "      <td>0.008541</td>\n",
       "      <td>-0.025954</td>\n",
       "      <td>0.103290</td>\n",
       "      <td>0.047973</td>\n",
       "      <td>...</td>\n",
       "      <td>-0.058377</td>\n",
       "      <td>0.055381</td>\n",
       "      <td>-0.074973</td>\n",
       "      <td>0.028826</td>\n",
       "      <td>0.023275</td>\n",
       "      <td>0.031859</td>\n",
       "      <td>-0.017179</td>\n",
       "      <td>-0.050521</td>\n",
       "      <td>0.052581</td>\n",
       "      <td>-0.066990</td>\n",
       "    </tr>\n",
       "    <tr>\n",
       "      <th>1</th>\n",
       "      <td>0.009187</td>\n",
       "      <td>0.034447</td>\n",
       "      <td>0.044124</td>\n",
       "      <td>0.011204</td>\n",
       "      <td>-0.079713</td>\n",
       "      <td>-0.041712</td>\n",
       "      <td>-0.007093</td>\n",
       "      <td>-0.044684</td>\n",
       "      <td>0.118370</td>\n",
       "      <td>0.050185</td>\n",
       "      <td>...</td>\n",
       "      <td>-0.049060</td>\n",
       "      <td>0.001031</td>\n",
       "      <td>-0.014836</td>\n",
       "      <td>0.001227</td>\n",
       "      <td>-0.007322</td>\n",
       "      <td>0.006936</td>\n",
       "      <td>-0.039997</td>\n",
       "      <td>-0.085951</td>\n",
       "      <td>-0.020036</td>\n",
       "      <td>-0.007204</td>\n",
       "    </tr>\n",
       "    <tr>\n",
       "      <th>2</th>\n",
       "      <td>-0.007910</td>\n",
       "      <td>0.002882</td>\n",
       "      <td>0.005868</td>\n",
       "      <td>0.047244</td>\n",
       "      <td>-0.055505</td>\n",
       "      <td>0.019863</td>\n",
       "      <td>0.053245</td>\n",
       "      <td>-0.041645</td>\n",
       "      <td>0.109752</td>\n",
       "      <td>0.058014</td>\n",
       "      <td>...</td>\n",
       "      <td>-0.033843</td>\n",
       "      <td>0.015184</td>\n",
       "      <td>-0.013253</td>\n",
       "      <td>0.021607</td>\n",
       "      <td>-0.017107</td>\n",
       "      <td>-0.031132</td>\n",
       "      <td>0.006545</td>\n",
       "      <td>-0.079502</td>\n",
       "      <td>-0.001678</td>\n",
       "      <td>-0.012361</td>\n",
       "    </tr>\n",
       "    <tr>\n",
       "      <th>3</th>\n",
       "      <td>0.043716</td>\n",
       "      <td>-0.007644</td>\n",
       "      <td>0.054707</td>\n",
       "      <td>0.102776</td>\n",
       "      <td>0.002611</td>\n",
       "      <td>-0.017399</td>\n",
       "      <td>0.096088</td>\n",
       "      <td>-0.036231</td>\n",
       "      <td>0.099773</td>\n",
       "      <td>0.103034</td>\n",
       "      <td>...</td>\n",
       "      <td>-0.012712</td>\n",
       "      <td>0.004585</td>\n",
       "      <td>-0.109193</td>\n",
       "      <td>-0.035175</td>\n",
       "      <td>-0.038788</td>\n",
       "      <td>-0.099942</td>\n",
       "      <td>-0.001761</td>\n",
       "      <td>-0.086343</td>\n",
       "      <td>-0.017817</td>\n",
       "      <td>0.046936</td>\n",
       "    </tr>\n",
       "    <tr>\n",
       "      <th>4</th>\n",
       "      <td>0.001495</td>\n",
       "      <td>0.016298</td>\n",
       "      <td>0.006372</td>\n",
       "      <td>0.112088</td>\n",
       "      <td>-0.049997</td>\n",
       "      <td>-0.070807</td>\n",
       "      <td>0.067386</td>\n",
       "      <td>-0.013888</td>\n",
       "      <td>0.112655</td>\n",
       "      <td>0.003094</td>\n",
       "      <td>...</td>\n",
       "      <td>-0.076776</td>\n",
       "      <td>0.029751</td>\n",
       "      <td>-0.045796</td>\n",
       "      <td>0.004718</td>\n",
       "      <td>-0.031584</td>\n",
       "      <td>0.077210</td>\n",
       "      <td>0.007886</td>\n",
       "      <td>-0.023598</td>\n",
       "      <td>0.035955</td>\n",
       "      <td>-0.041712</td>\n",
       "    </tr>\n",
       "  </tbody>\n",
       "</table>\n",
       "<p>5 rows × 300 columns</p>\n",
       "</div>"
      ],
      "text/plain": [
       "        0         1         2         3         4         5         6    \\\n",
       "0  0.050662  0.031227 -0.030101  0.094391 -0.005058 -0.045496  0.008541   \n",
       "1  0.009187  0.034447  0.044124  0.011204 -0.079713 -0.041712 -0.007093   \n",
       "2 -0.007910  0.002882  0.005868  0.047244 -0.055505  0.019863  0.053245   \n",
       "3  0.043716 -0.007644  0.054707  0.102776  0.002611 -0.017399  0.096088   \n",
       "4  0.001495  0.016298  0.006372  0.112088 -0.049997 -0.070807  0.067386   \n",
       "\n",
       "        7         8         9    ...       290       291       292       293  \\\n",
       "0 -0.025954  0.103290  0.047973  ... -0.058377  0.055381 -0.074973  0.028826   \n",
       "1 -0.044684  0.118370  0.050185  ... -0.049060  0.001031 -0.014836  0.001227   \n",
       "2 -0.041645  0.109752  0.058014  ... -0.033843  0.015184 -0.013253  0.021607   \n",
       "3 -0.036231  0.099773  0.103034  ... -0.012712  0.004585 -0.109193 -0.035175   \n",
       "4 -0.013888  0.112655  0.003094  ... -0.076776  0.029751 -0.045796  0.004718   \n",
       "\n",
       "        294       295       296       297       298       299  \n",
       "0  0.023275  0.031859 -0.017179 -0.050521  0.052581 -0.066990  \n",
       "1 -0.007322  0.006936 -0.039997 -0.085951 -0.020036 -0.007204  \n",
       "2 -0.017107 -0.031132  0.006545 -0.079502 -0.001678 -0.012361  \n",
       "3 -0.038788 -0.099942 -0.001761 -0.086343 -0.017817  0.046936  \n",
       "4 -0.031584  0.077210  0.007886 -0.023598  0.035955 -0.041712  \n",
       "\n",
       "[5 rows x 300 columns]"
      ]
     },
     "execution_count": 186,
     "metadata": {},
     "output_type": "execute_result"
    }
   ],
   "source": [
    "X_body_vec.head()"
   ]
  },
  {
   "cell_type": "code",
   "execution_count": 187,
   "metadata": {},
   "outputs": [],
   "source": [
    "body_vec = X_body_vec.copy()\n",
    "body_vec[\"Fake\"] = y"
   ]
  },
  {
   "cell_type": "code",
   "execution_count": 188,
   "metadata": {},
   "outputs": [
    {
     "data": {
      "text/html": [
       "<div>\n",
       "<style scoped>\n",
       "    .dataframe tbody tr th:only-of-type {\n",
       "        vertical-align: middle;\n",
       "    }\n",
       "\n",
       "    .dataframe tbody tr th {\n",
       "        vertical-align: top;\n",
       "    }\n",
       "\n",
       "    .dataframe thead th {\n",
       "        text-align: right;\n",
       "    }\n",
       "</style>\n",
       "<table border=\"1\" class=\"dataframe\">\n",
       "  <thead>\n",
       "    <tr style=\"text-align: right;\">\n",
       "      <th></th>\n",
       "      <th>0</th>\n",
       "      <th>1</th>\n",
       "      <th>2</th>\n",
       "      <th>3</th>\n",
       "      <th>4</th>\n",
       "      <th>5</th>\n",
       "      <th>6</th>\n",
       "      <th>7</th>\n",
       "      <th>8</th>\n",
       "      <th>9</th>\n",
       "      <th>...</th>\n",
       "      <th>291</th>\n",
       "      <th>292</th>\n",
       "      <th>293</th>\n",
       "      <th>294</th>\n",
       "      <th>295</th>\n",
       "      <th>296</th>\n",
       "      <th>297</th>\n",
       "      <th>298</th>\n",
       "      <th>299</th>\n",
       "      <th>Fake</th>\n",
       "    </tr>\n",
       "  </thead>\n",
       "  <tbody>\n",
       "    <tr>\n",
       "      <th>0</th>\n",
       "      <td>0.050662</td>\n",
       "      <td>0.031227</td>\n",
       "      <td>-0.030101</td>\n",
       "      <td>0.094391</td>\n",
       "      <td>-0.005058</td>\n",
       "      <td>-0.045496</td>\n",
       "      <td>0.008541</td>\n",
       "      <td>-0.025954</td>\n",
       "      <td>0.103290</td>\n",
       "      <td>0.047973</td>\n",
       "      <td>...</td>\n",
       "      <td>0.055381</td>\n",
       "      <td>-0.074973</td>\n",
       "      <td>0.028826</td>\n",
       "      <td>0.023275</td>\n",
       "      <td>0.031859</td>\n",
       "      <td>-0.017179</td>\n",
       "      <td>-0.050521</td>\n",
       "      <td>0.052581</td>\n",
       "      <td>-0.066990</td>\n",
       "      <td>1.0</td>\n",
       "    </tr>\n",
       "    <tr>\n",
       "      <th>1</th>\n",
       "      <td>0.009187</td>\n",
       "      <td>0.034447</td>\n",
       "      <td>0.044124</td>\n",
       "      <td>0.011204</td>\n",
       "      <td>-0.079713</td>\n",
       "      <td>-0.041712</td>\n",
       "      <td>-0.007093</td>\n",
       "      <td>-0.044684</td>\n",
       "      <td>0.118370</td>\n",
       "      <td>0.050185</td>\n",
       "      <td>...</td>\n",
       "      <td>0.001031</td>\n",
       "      <td>-0.014836</td>\n",
       "      <td>0.001227</td>\n",
       "      <td>-0.007322</td>\n",
       "      <td>0.006936</td>\n",
       "      <td>-0.039997</td>\n",
       "      <td>-0.085951</td>\n",
       "      <td>-0.020036</td>\n",
       "      <td>-0.007204</td>\n",
       "      <td>1.0</td>\n",
       "    </tr>\n",
       "    <tr>\n",
       "      <th>2</th>\n",
       "      <td>-0.007910</td>\n",
       "      <td>0.002882</td>\n",
       "      <td>0.005868</td>\n",
       "      <td>0.047244</td>\n",
       "      <td>-0.055505</td>\n",
       "      <td>0.019863</td>\n",
       "      <td>0.053245</td>\n",
       "      <td>-0.041645</td>\n",
       "      <td>0.109752</td>\n",
       "      <td>0.058014</td>\n",
       "      <td>...</td>\n",
       "      <td>0.015184</td>\n",
       "      <td>-0.013253</td>\n",
       "      <td>0.021607</td>\n",
       "      <td>-0.017107</td>\n",
       "      <td>-0.031132</td>\n",
       "      <td>0.006545</td>\n",
       "      <td>-0.079502</td>\n",
       "      <td>-0.001678</td>\n",
       "      <td>-0.012361</td>\n",
       "      <td>1.0</td>\n",
       "    </tr>\n",
       "    <tr>\n",
       "      <th>3</th>\n",
       "      <td>0.043716</td>\n",
       "      <td>-0.007644</td>\n",
       "      <td>0.054707</td>\n",
       "      <td>0.102776</td>\n",
       "      <td>0.002611</td>\n",
       "      <td>-0.017399</td>\n",
       "      <td>0.096088</td>\n",
       "      <td>-0.036231</td>\n",
       "      <td>0.099773</td>\n",
       "      <td>0.103034</td>\n",
       "      <td>...</td>\n",
       "      <td>0.004585</td>\n",
       "      <td>-0.109193</td>\n",
       "      <td>-0.035175</td>\n",
       "      <td>-0.038788</td>\n",
       "      <td>-0.099942</td>\n",
       "      <td>-0.001761</td>\n",
       "      <td>-0.086343</td>\n",
       "      <td>-0.017817</td>\n",
       "      <td>0.046936</td>\n",
       "      <td>1.0</td>\n",
       "    </tr>\n",
       "    <tr>\n",
       "      <th>4</th>\n",
       "      <td>0.001495</td>\n",
       "      <td>0.016298</td>\n",
       "      <td>0.006372</td>\n",
       "      <td>0.112088</td>\n",
       "      <td>-0.049997</td>\n",
       "      <td>-0.070807</td>\n",
       "      <td>0.067386</td>\n",
       "      <td>-0.013888</td>\n",
       "      <td>0.112655</td>\n",
       "      <td>0.003094</td>\n",
       "      <td>...</td>\n",
       "      <td>0.029751</td>\n",
       "      <td>-0.045796</td>\n",
       "      <td>0.004718</td>\n",
       "      <td>-0.031584</td>\n",
       "      <td>0.077210</td>\n",
       "      <td>0.007886</td>\n",
       "      <td>-0.023598</td>\n",
       "      <td>0.035955</td>\n",
       "      <td>-0.041712</td>\n",
       "      <td>1.0</td>\n",
       "    </tr>\n",
       "  </tbody>\n",
       "</table>\n",
       "<p>5 rows × 301 columns</p>\n",
       "</div>"
      ],
      "text/plain": [
       "          0         1         2         3         4         5         6  \\\n",
       "0  0.050662  0.031227 -0.030101  0.094391 -0.005058 -0.045496  0.008541   \n",
       "1  0.009187  0.034447  0.044124  0.011204 -0.079713 -0.041712 -0.007093   \n",
       "2 -0.007910  0.002882  0.005868  0.047244 -0.055505  0.019863  0.053245   \n",
       "3  0.043716 -0.007644  0.054707  0.102776  0.002611 -0.017399  0.096088   \n",
       "4  0.001495  0.016298  0.006372  0.112088 -0.049997 -0.070807  0.067386   \n",
       "\n",
       "          7         8         9  ...       291       292       293       294  \\\n",
       "0 -0.025954  0.103290  0.047973  ...  0.055381 -0.074973  0.028826  0.023275   \n",
       "1 -0.044684  0.118370  0.050185  ...  0.001031 -0.014836  0.001227 -0.007322   \n",
       "2 -0.041645  0.109752  0.058014  ...  0.015184 -0.013253  0.021607 -0.017107   \n",
       "3 -0.036231  0.099773  0.103034  ...  0.004585 -0.109193 -0.035175 -0.038788   \n",
       "4 -0.013888  0.112655  0.003094  ...  0.029751 -0.045796  0.004718 -0.031584   \n",
       "\n",
       "        295       296       297       298       299  Fake  \n",
       "0  0.031859 -0.017179 -0.050521  0.052581 -0.066990   1.0  \n",
       "1  0.006936 -0.039997 -0.085951 -0.020036 -0.007204   1.0  \n",
       "2 -0.031132  0.006545 -0.079502 -0.001678 -0.012361   1.0  \n",
       "3 -0.099942 -0.001761 -0.086343 -0.017817  0.046936   1.0  \n",
       "4  0.077210  0.007886 -0.023598  0.035955 -0.041712   1.0  \n",
       "\n",
       "[5 rows x 301 columns]"
      ]
     },
     "execution_count": 188,
     "metadata": {},
     "output_type": "execute_result"
    }
   ],
   "source": [
    "body_vec.head()"
   ]
  },
  {
   "cell_type": "code",
   "execution_count": 189,
   "metadata": {},
   "outputs": [],
   "source": [
    "body_vec.to_csv(\"Body Vector.csv\", index=False)"
   ]
  },
  {
   "cell_type": "code",
   "execution_count": null,
   "metadata": {},
   "outputs": [],
   "source": []
  }
 ],
 "metadata": {
  "kernelspec": {
   "display_name": "Python 3",
   "language": "python",
   "name": "python3"
  },
  "language_info": {
   "codemirror_mode": {
    "name": "ipython",
    "version": 3
   },
   "file_extension": ".py",
   "mimetype": "text/x-python",
   "name": "python",
   "nbconvert_exporter": "python",
   "pygments_lexer": "ipython3",
   "version": "3.7.3"
  }
 },
 "nbformat": 4,
 "nbformat_minor": 2
}
